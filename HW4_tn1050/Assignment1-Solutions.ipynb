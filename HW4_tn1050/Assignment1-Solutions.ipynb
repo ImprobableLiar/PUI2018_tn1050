{
 "cells": [
  {
   "cell_type": "markdown",
   "metadata": {},
   "source": [
    " Written by Federica B. Bianco @fedhere\n",
    " NYU CUSP PUI\n",
    "\n",
    " Assignment 1 Homework 4\n",
    "\n",
    " This is a skeleton & instruction notebook\n",
    "\n",
    "-  GENERATE  100 samples of different sizes N (N>10 & N<2000) from each of 5 different distributions (500 samples in total), \n",
    " _all with the same population mean_. Include a _Normal_, a _Poisson_, a _Binomial_, a _Chi-Squared_ distribution, and 1 more of your choice.                                       \n",
    "-  For each sample plot the sample mean (dependent var.) against the sample size N (independent var.) (if you want you can do it with the sample standard deviation as well). \n",
    "-  Describe the behavior you see in the plots in terms of the law of large numbers.\n",
    "-  PLOT the distributions of all sample means (together for all distributions). _Mandatory_: as a histogram. _Optional_: in any other way you think is convincing\n",
    " Extra Credit: FIT a gaussian to the distribution of means            "
   ]
  },
  {
   "cell_type": "code",
   "execution_count": 1,
   "metadata": {
    "collapsed": false
   },
   "outputs": [
    {
     "name": "stdout",
     "output_type": "stream",
     "text": [
      "Populating the interactive namespace from numpy and matplotlib\n"
     ]
    }
   ],
   "source": [
    "from __future__ import print_function\n",
    "__author__= 'fbb'\n",
    "\n",
    "import pylab as pl\n",
    "# this package sets up pretty plots\n",
    "import seaborn\n",
    "from scipy.optimize import curve_fit, minimize\n",
    "    \n",
    "%pylab inline"
   ]
  },
  {
   "cell_type": "markdown",
   "metadata": {},
   "source": [
    "## choose which distributions to use "
   ]
  },
  {
   "cell_type": "code",
   "execution_count": 7,
   "metadata": {
    "collapsed": true
   },
   "outputs": [],
   "source": [
    "#distributions = ['pois', 'gaus', 'chisq', 'cauchy', 'lnorm', 'binomial']\n",
    "distributions = ['chisq']\n"
   ]
  },
  {
   "cell_type": "markdown",
   "metadata": {},
   "source": [
    "## and which mean to give it"
   ]
  },
  {
   "cell_type": "code",
   "execution_count": 8,
   "metadata": {
    "collapsed": false
   },
   "outputs": [],
   "source": [
    "mymean = 100"
   ]
  },
  {
   "cell_type": "markdown",
   "metadata": {},
   "source": [
    "# Then lets look at the numpy random sampling package to see how I create the distribution\n",
    "http://docs.scipy.org/doc/numpy/reference/routines.random.html\n",
    "http://docs.scipy.org/doc/numpy/reference/generated/numpy.random.chisquare.html#numpy.random.chisquare\n",
    "\n"
   ]
  },
  {
   "cell_type": "code",
   "execution_count": 9,
   "metadata": {
    "collapsed": false
   },
   "outputs": [],
   "source": [
    "# the chi sq distribution takes the number of degrees of freedom, which luckily is the same as the mean!\n",
    "df = mymean"
   ]
  },
  {
   "cell_type": "markdown",
   "metadata": {},
   "source": [
    "## I am making a dictionary to host the distributions.\n",
    "\n",
    "that is only one possible option. with a dictionary I can easily inspect the distribution I want by its name: it is a very human friendly data storage. In this example I am only using a single distribution, so for me it is overkill, but if I were doing the whole exercise with 5 or 6 distributions it would be useful!\n",
    "\n",
    "Lets start by looking at a single chi sq distribution"
   ]
  },
  {
   "cell_type": "code",
   "execution_count": 11,
   "metadata": {
    "collapsed": false
   },
   "outputs": [
    {
     "data": {
      "text/plain": [
       "Text(0.5,0,'x')"
      ]
     },
     "execution_count": 11,
     "metadata": {},
     "output_type": "execute_result"
    },
    {
     "data": {
      "image/png": "[encoded data removed]",
      "text/plain": [
       "<Figure size 432x288 with 1 Axes>"
      ]
     },
     "metadata": {},
     "output_type": "display_data"
    }
   ],
   "source": [
    "# Note: I am adding imports here, to show the workflow: \n",
    "# at this point I realize what packages I need and I import them. \n",
    "# but this is a PEP8 violation. \n",
    "# It is a good habit to put the includes at the top \n",
    "# so the code fails right away if the packages are missing. \n",
    "# Otherwise a user may have a piece of code running for a long time, \n",
    "# and then fail when the package cannot be imported... \n",
    "# (unless they are only imported under conditions, e.g. in an if statement)\n",
    "\n",
    "import numpy as np\n",
    "md = {}\n",
    "# md is an empty disctionary\n",
    "md['chisq'] = np.random.chisquare(df, size=100)\n",
    "# md now is a dictionary with one object: an array by the key 'chisq'\n",
    "pl.hist(md['chisq'], bins = 30)\n",
    "pl.ylabel('N')\n",
    "pl.xlabel('x')"
   ]
  },
  {
   "cell_type": "markdown",
   "metadata": {},
   "source": [
    "### Figure 1: Chi sq distribution: df = 100, N=100"
   ]
  },
  {
   "cell_type": "markdown",
   "metadata": {},
   "source": [
    "## let numpy calculate what the mean and stdev of this distribution are"
   ]
  },
  {
   "cell_type": "code",
   "execution_count": 12,
   "metadata": {
    "collapsed": false
   },
   "outputs": [
    {
     "name": "stdout",
     "output_type": "stream",
     "text": [
      "Chisq mean: 100.02, standard deviation: 14.60\n"
     ]
    }
   ],
   "source": [
    "print (\"Chisq mean: %.2f, standard deviation: %.2f\"%(md['chisq'].mean(), md['chisq'].std()))"
   ]
  },
  {
   "cell_type": "markdown",
   "metadata": {},
   "source": [
    "## Now let's do it for 100 Chisq distributions\n",
    "we want distributions of different sizes (all integers between 10 and 2000)"
   ]
  },
  {
   "cell_type": "code",
   "execution_count": 13,
   "metadata": {
    "collapsed": false
   },
   "outputs": [
    {
     "name": "stdout",
     "output_type": "stream",
     "text": [
      "[2000 1000  666  500  400  333  285  250  222  200  181  166  153  142\n",
      "  133  125  117  111  105  100   95   90   86   83   80   76   74   71\n",
      "   68   66   64   62   60   58   57   55   54   52   51   50   48   47\n",
      "   46   45   44   43   42   41   40   40   39   38   37   37   36   35\n",
      "   35   34   33   33   32   32   31   31   30   30   29   29   28   28\n",
      "   28   27   27   27   26   26   25   25   25   25   24   24   24   23\n",
      "   23   23   22   22   22   22   21   21   21   21   21   20   20   20\n",
      "   20] (99,)\n"
     ]
    }
   ],
   "source": [
    "mysize = (2000 / (np.array(range(1, 100)))).astype(int)\n",
    "# mysize = 1000 / (np.array(range(1, 100) + [10]))\n",
    "# mysize = (np.random.rand(100) * 1000).astype(int)\n",
    "print (mysize, mysize.shape)"
   ]
  },
  {
   "cell_type": "code",
   "execution_count": 14,
   "metadata": {
    "collapsed": false
   },
   "outputs": [
    {
     "data": {
      "image/png": "[encoded data removed]",
      "text/plain": [
       "<Figure size 720x432 with 1 Axes>"
      ]
     },
     "metadata": {},
     "output_type": "display_data"
    }
   ],
   "source": [
    "# I am gonna overwrite the disctionary entry created into a nested dictionary \n",
    "# the outside dictionary hosts the distributions as dictionary, \n",
    "# and each distribution dictionary contains the 100 distribution (arrays of diferent sizes)\n",
    "\n",
    "md['chisq'] = {} \n",
    "\n",
    "#and do it in a for loop. not pythonic, but easily readable\n",
    "\n",
    "for n in mysize:\n",
    "    md['chisq'][n] = np.random.chisquare(df, size = n)\n",
    "    \n",
    "# save the means for plotting later    \n",
    "\n",
    "md['chisq']['means'] = {}\n",
    "axchisq_mu_n = pl.figure(figsize=(10,6)).add_subplot(111)\n",
    "\n",
    "for nn in md['chisq']:\n",
    "    if not type(nn) == str:\n",
    "        md['chisq']['means'][nn] = md['chisq'][nn].mean()\n",
    "        #and plot it\n",
    "        axchisq_mu_n.plot(nn, md['chisq']['means'][nn], 'o')\n",
    "        axchisq_mu_n.set_xlabel('sample size', fontsize=18)\n",
    "        axchisq_mu_n.set_ylabel('sample mean', fontsize=18)\n",
    "        axchisq_mu_n.set_title('Chi squared', fontsize=18)\n",
    "        axchisq_mu_n.plot([min(mysize), max(mysize)], [df, df], 'k')"
   ]
  },
  {
   "cell_type": "markdown",
   "metadata": {},
   "source": [
    "### Figure 2: [describe what you see and how it relates to the law of large numbers]"
   ]
  },
  {
   "cell_type": "markdown",
   "metadata": {},
   "source": [
    "# now the histogram of the mean of all samples: \n",
    "## this requires some data wrangling, since i put the data in a dictionary which is a user friendly data structure, but perhaps not the most machine friendly one\n",
    "\n",
    "a coder friendly, though not terribly pythonic way to do it is to append each mean in a list in a for loop, and then hist that. be careful: if your data size gets large this becomes a very bad idea!!"
   ]
  },
  {
   "cell_type": "code",
   "execution_count": 15,
   "metadata": {
    "collapsed": false
   },
   "outputs": [
    {
     "data": {
      "text/plain": [
       "Text(0,0.5,'N')"
      ]
     },
     "execution_count": 15,
     "metadata": {},
     "output_type": "execute_result"
    },
    {
     "data": {
      "image/png": "[encoded data removed]",
      "text/plain": [
       "<Figure size 720x720 with 1 Axes>"
      ]
     },
     "metadata": {},
     "output_type": "display_data"
    }
   ],
   "source": [
    "allmeans = list(md['chisq']['means'].values())\n",
    "\n",
    "pl.figure(figsize=(10, 10))\n",
    "pl.hist(allmeans,bins=30)\n",
    "pl.xlabel('sample mean', fontsize = 18)\n",
    "pl.ylabel('N', fontsize = 18)"
   ]
  },
  {
   "cell_type": "markdown",
   "metadata": {},
   "source": [
    "## Figure 3: [...]"
   ]
  },
  {
   "cell_type": "markdown",
   "metadata": {},
   "source": [
    "# Do it for the Normal distribution\n"
   ]
  },
  {
   "cell_type": "code",
   "execution_count": 16,
   "metadata": {},
   "outputs": [
    {
     "data": {
      "text/plain": [
       "\u001b[0;31mDocstring:\u001b[0m\n",
       "normal(loc=0.0, scale=1.0, size=None)\n",
       "\n",
       "Draw random samples from a normal (Gaussian) distribution.\n",
       "\n",
       "The probability density function of the normal distribution, first\n",
       "derived by De Moivre and 200 years later by both Gauss and Laplace\n",
       "independently [2]_, is often called the bell curve because of\n",
       "its characteristic shape (see the example below).\n",
       "\n",
       "The normal distributions occurs often in nature.  For example, it\n",
       "describes the commonly occurring distribution of samples influenced\n",
       "by a large number of tiny, random disturbances, each with its own\n",
       "unique distribution [2]_.\n",
       "\n",
       "Parameters\n",
       "----------\n",
       "loc : float or array_like of floats\n",
       "    Mean (\"centre\") of the distribution.\n",
       "scale : float or array_like of floats\n",
       "    Standard deviation (spread or \"width\") of the distribution.\n",
       "size : int or tuple of ints, optional\n",
       "    Output shape.  If the given shape is, e.g., ``(m, n, k)``, then\n",
       "    ``m * n * k`` samples are drawn.  If size is ``None`` (default),\n",
       "    a single value is returned if ``loc`` and ``scale`` are both scalars.\n",
       "    Otherwise, ``np.broadcast(loc, scale).size`` samples are drawn.\n",
       "\n",
       "Returns\n",
       "-------\n",
       "out : ndarray or scalar\n",
       "    Drawn samples from the parameterized normal distribution.\n",
       "\n",
       "See Also\n",
       "--------\n",
       "scipy.stats.norm : probability density function, distribution or\n",
       "    cumulative density function, etc.\n",
       "\n",
       "Notes\n",
       "-----\n",
       "The probability density for the Gaussian distribution is\n",
       "\n",
       ".. math:: p(x) = \\frac{1}{\\sqrt{ 2 \\pi \\sigma^2 }}\n",
       "                 e^{ - \\frac{ (x - \\mu)^2 } {2 \\sigma^2} },\n",
       "\n",
       "where :math:`\\mu` is the mean and :math:`\\sigma` the standard\n",
       "deviation. The square of the standard deviation, :math:`\\sigma^2`,\n",
       "is called the variance.\n",
       "\n",
       "The function has its peak at the mean, and its \"spread\" increases with\n",
       "the standard deviation (the function reaches 0.607 times its maximum at\n",
       ":math:`x + \\sigma` and :math:`x - \\sigma` [2]_).  This implies that\n",
       "`numpy.random.normal` is more likely to return samples lying close to\n",
       "the mean, rather than those far away.\n",
       "\n",
       "References\n",
       "----------\n",
       ".. [1] Wikipedia, \"Normal distribution\",\n",
       "       http://en.wikipedia.org/wiki/Normal_distribution\n",
       ".. [2] P. R. Peebles Jr., \"Central Limit Theorem\" in \"Probability,\n",
       "       Random Variables and Random Signal Principles\", 4th ed., 2001,\n",
       "       pp. 51, 51, 125.\n",
       "\n",
       "Examples\n",
       "--------\n",
       "Draw samples from the distribution:\n",
       "\n",
       ">>> mu, sigma = 0, 0.1 # mean and standard deviation\n",
       ">>> s = np.random.normal(mu, sigma, 1000)\n",
       "\n",
       "Verify the mean and the variance:\n",
       "\n",
       ">>> abs(mu - np.mean(s)) < 0.01\n",
       "True\n",
       "\n",
       ">>> abs(sigma - np.std(s, ddof=1)) < 0.01\n",
       "True\n",
       "\n",
       "Display the histogram of the samples, along with\n",
       "the probability density function:\n",
       "\n",
       ">>> import matplotlib.pyplot as plt\n",
       ">>> count, bins, ignored = plt.hist(s, 30, density=True)\n",
       ">>> plt.plot(bins, 1/(sigma * np.sqrt(2 * np.pi)) *\n",
       "...                np.exp( - (bins - mu)**2 / (2 * sigma**2) ),\n",
       "...          linewidth=2, color='r')\n",
       ">>> plt.show()\n",
       "\u001b[0;31mType:\u001b[0m      builtin_function_or_method\n"
      ]
     },
     "metadata": {},
     "output_type": "display_data"
    }
   ],
   "source": [
    "# np.random.normal?"
   ]
  },
  {
   "cell_type": "code",
   "execution_count": 35,
   "metadata": {},
   "outputs": [
    {
     "data": {
      "image/png": "[encoded data removed]",
      "text/plain": [
       "<Figure size 720x432 with 1 Axes>"
      ]
     },
     "metadata": {},
     "output_type": "display_data"
    }
   ],
   "source": [
    "dist='gaus'\n",
    "\n",
    "mysize = (2000 / (np.array(range(1, 100)))).astype(int)\n",
    "md[dist] = {} \n",
    "\n",
    "for n in mysize:\n",
    "    md[dist][n] = np.random.normal(df, size = n)\n",
    "    \n",
    "md[dist]['means'] = {}\n",
    "axchisq_mu_n = pl.figure(figsize=(10,6)).add_subplot(111)\n",
    "\n",
    "for nn in md[dist]:\n",
    "    if not type(nn) == str:\n",
    "        md[dist]['means'][nn] = md[dist][nn].mean()\n",
    "        #and plot it\n",
    "        axchisq_mu_n.plot(nn, md[dist]['means'][nn], 'o')\n",
    "        axchisq_mu_n.set_xlabel('sample size', fontsize=18)\n",
    "        axchisq_mu_n.set_ylabel('sample mean', fontsize=18)\n",
    "        axchisq_mu_n.set_title('Normal Distribution', fontsize=18)\n",
    "        axchisq_mu_n.plot([min(mysize), max(mysize)], [df, df], 'k')"
   ]
  },
  {
   "cell_type": "code",
   "execution_count": 36,
   "metadata": {},
   "outputs": [
    {
     "data": {
      "text/plain": [
       "Text(0,0.5,'N')"
      ]
     },
     "execution_count": 36,
     "metadata": {},
     "output_type": "execute_result"
    },
    {
     "data": {
      "image/png": "[encoded data removed]",
      "text/plain": [
       "<Figure size 720x720 with 1 Axes>"
      ]
     },
     "metadata": {},
     "output_type": "display_data"
    }
   ],
   "source": [
    "allmeans = list(md[dist]['means'].values())\n",
    "\n",
    "pl.figure(figsize=(10, 10))\n",
    "pl.hist(allmeans,bins=30)\n",
    "pl.xlabel('sample mean', fontsize = 18)\n",
    "pl.ylabel('N', fontsize = 18)"
   ]
  },
  {
   "cell_type": "markdown",
   "metadata": {},
   "source": [
    "# Do it for the Poisson distribution"
   ]
  },
  {
   "cell_type": "code",
   "execution_count": 37,
   "metadata": {},
   "outputs": [
    {
     "data": {
      "text/plain": [
       "\u001b[0;31mDocstring:\u001b[0m\n",
       "poisson(lam=1.0, size=None)\n",
       "\n",
       "Draw samples from a Poisson distribution.\n",
       "\n",
       "The Poisson distribution is the limit of the binomial distribution\n",
       "for large N.\n",
       "\n",
       "Parameters\n",
       "----------\n",
       "lam : float or array_like of floats\n",
       "    Expectation of interval, should be >= 0. A sequence of expectation\n",
       "    intervals must be broadcastable over the requested size.\n",
       "size : int or tuple of ints, optional\n",
       "    Output shape.  If the given shape is, e.g., ``(m, n, k)``, then\n",
       "    ``m * n * k`` samples are drawn.  If size is ``None`` (default),\n",
       "    a single value is returned if ``lam`` is a scalar. Otherwise,\n",
       "    ``np.array(lam).size`` samples are drawn.\n",
       "\n",
       "Returns\n",
       "-------\n",
       "out : ndarray or scalar\n",
       "    Drawn samples from the parameterized Poisson distribution.\n",
       "\n",
       "Notes\n",
       "-----\n",
       "The Poisson distribution\n",
       "\n",
       ".. math:: f(k; \\lambda)=\\frac{\\lambda^k e^{-\\lambda}}{k!}\n",
       "\n",
       "For events with an expected separation :math:`\\lambda` the Poisson\n",
       "distribution :math:`f(k; \\lambda)` describes the probability of\n",
       ":math:`k` events occurring within the observed\n",
       "interval :math:`\\lambda`.\n",
       "\n",
       "Because the output is limited to the range of the C long type, a\n",
       "ValueError is raised when `lam` is within 10 sigma of the maximum\n",
       "representable value.\n",
       "\n",
       "References\n",
       "----------\n",
       ".. [1] Weisstein, Eric W. \"Poisson Distribution.\"\n",
       "       From MathWorld--A Wolfram Web Resource.\n",
       "       http://mathworld.wolfram.com/PoissonDistribution.html\n",
       ".. [2] Wikipedia, \"Poisson distribution\",\n",
       "       http://en.wikipedia.org/wiki/Poisson_distribution\n",
       "\n",
       "Examples\n",
       "--------\n",
       "Draw samples from the distribution:\n",
       "\n",
       ">>> import numpy as np\n",
       ">>> s = np.random.poisson(5, 10000)\n",
       "\n",
       "Display histogram of the sample:\n",
       "\n",
       ">>> import matplotlib.pyplot as plt\n",
       ">>> count, bins, ignored = plt.hist(s, 14, density=True)\n",
       ">>> plt.show()\n",
       "\n",
       "Draw each 100 values for lambda 100 and 500:\n",
       "\n",
       ">>> s = np.random.poisson(lam=(100., 500.), size=(100, 2))\n",
       "\u001b[0;31mType:\u001b[0m      builtin_function_or_method\n"
      ]
     },
     "metadata": {},
     "output_type": "display_data"
    }
   ],
   "source": [
    "# np.random.poisson?"
   ]
  },
  {
   "cell_type": "code",
   "execution_count": 42,
   "metadata": {
    "collapsed": true
   },
   "outputs": [
    {
     "data": {
      "image/png": "[encoded data removed]",
      "text/plain": [
       "<Figure size 720x432 with 1 Axes>"
      ]
     },
     "metadata": {},
     "output_type": "display_data"
    }
   ],
   "source": [
    "dist='pois'\n",
    "\n",
    "mysize = (2000 / (np.array(range(1, 100)))).astype(int)\n",
    "md[dist] = {} \n",
    "\n",
    "for n in mysize:\n",
    "    md[dist][n] = np.random.poisson(df, size = n)\n",
    "    \n",
    "md[dist]['means'] = {}\n",
    "axchisq_mu_n = pl.figure(figsize=(10,6)).add_subplot(111)\n",
    "\n",
    "for nn in md[dist]:\n",
    "    if not type(nn) == str:\n",
    "        md[dist]['means'][nn] = md[dist][nn].mean()\n",
    "        #and plot it\n",
    "        axchisq_mu_n.plot(nn, md[dist]['means'][nn], 'o')\n",
    "        axchisq_mu_n.set_xlabel('sample size', fontsize=18)\n",
    "        axchisq_mu_n.set_ylabel('sample mean', fontsize=18)\n",
    "        axchisq_mu_n.set_title('Poisson Distribution', fontsize=18)\n",
    "        axchisq_mu_n.plot([min(mysize), max(mysize)], [df, df], 'k')"
   ]
  },
  {
   "cell_type": "code",
   "execution_count": 43,
   "metadata": {},
   "outputs": [
    {
     "data": {
      "text/plain": [
       "Text(0,0.5,'N')"
      ]
     },
     "execution_count": 43,
     "metadata": {},
     "output_type": "execute_result"
    },
    {
     "data": {
      "image/png": "[encoded data removed]",
      "text/plain": [
       "<Figure size 720x720 with 1 Axes>"
      ]
     },
     "metadata": {},
     "output_type": "display_data"
    }
   ],
   "source": [
    "allmeans = list(md[dist]['means'].values())\n",
    "\n",
    "pl.figure(figsize=(10, 10))\n",
    "pl.hist(allmeans,bins=30)\n",
    "pl.xlabel('sample mean', fontsize = 18)\n",
    "pl.ylabel('N', fontsize = 18)"
   ]
  },
  {
   "cell_type": "markdown",
   "metadata": {},
   "source": [
    "# Do it for the Binomial distribution"
   ]
  },
  {
   "cell_type": "code",
   "execution_count": 47,
   "metadata": {
    "collapsed": true
   },
   "outputs": [
    {
     "data": {
      "text/plain": [
       "\u001b[0;31mDocstring:\u001b[0m\n",
       "binomial(n, p, size=None)\n",
       "\n",
       "Draw samples from a binomial distribution.\n",
       "\n",
       "Samples are drawn from a binomial distribution with specified\n",
       "parameters, n trials and p probability of success where\n",
       "n an integer >= 0 and p is in the interval [0,1]. (n may be\n",
       "input as a float, but it is truncated to an integer in use)\n",
       "\n",
       "Parameters\n",
       "----------\n",
       "n : int or array_like of ints\n",
       "    Parameter of the distribution, >= 0. Floats are also accepted,\n",
       "    but they will be truncated to integers.\n",
       "p : float or array_like of floats\n",
       "    Parameter of the distribution, >= 0 and <=1.\n",
       "size : int or tuple of ints, optional\n",
       "    Output shape.  If the given shape is, e.g., ``(m, n, k)``, then\n",
       "    ``m * n * k`` samples are drawn.  If size is ``None`` (default),\n",
       "    a single value is returned if ``n`` and ``p`` are both scalars.\n",
       "    Otherwise, ``np.broadcast(n, p).size`` samples are drawn.\n",
       "\n",
       "Returns\n",
       "-------\n",
       "out : ndarray or scalar\n",
       "    Drawn samples from the parameterized binomial distribution, where\n",
       "    each sample is equal to the number of successes over the n trials.\n",
       "\n",
       "See Also\n",
       "--------\n",
       "scipy.stats.binom : probability density function, distribution or\n",
       "    cumulative density function, etc.\n",
       "\n",
       "Notes\n",
       "-----\n",
       "The probability density for the binomial distribution is\n",
       "\n",
       ".. math:: P(N) = \\binom{n}{N}p^N(1-p)^{n-N},\n",
       "\n",
       "where :math:`n` is the number of trials, :math:`p` is the probability\n",
       "of success, and :math:`N` is the number of successes.\n",
       "\n",
       "When estimating the standard error of a proportion in a population by\n",
       "using a random sample, the normal distribution works well unless the\n",
       "product p*n <=5, where p = population proportion estimate, and n =\n",
       "number of samples, in which case the binomial distribution is used\n",
       "instead. For example, a sample of 15 people shows 4 who are left\n",
       "handed, and 11 who are right handed. Then p = 4/15 = 27%. 0.27*15 = 4,\n",
       "so the binomial distribution should be used in this case.\n",
       "\n",
       "References\n",
       "----------\n",
       ".. [1] Dalgaard, Peter, \"Introductory Statistics with R\",\n",
       "       Springer-Verlag, 2002.\n",
       ".. [2] Glantz, Stanton A. \"Primer of Biostatistics.\", McGraw-Hill,\n",
       "       Fifth Edition, 2002.\n",
       ".. [3] Lentner, Marvin, \"Elementary Applied Statistics\", Bogden\n",
       "       and Quigley, 1972.\n",
       ".. [4] Weisstein, Eric W. \"Binomial Distribution.\" From MathWorld--A\n",
       "       Wolfram Web Resource.\n",
       "       http://mathworld.wolfram.com/BinomialDistribution.html\n",
       ".. [5] Wikipedia, \"Binomial distribution\",\n",
       "       http://en.wikipedia.org/wiki/Binomial_distribution\n",
       "\n",
       "Examples\n",
       "--------\n",
       "Draw samples from the distribution:\n",
       "\n",
       ">>> n, p = 10, .5  # number of trials, probability of each trial\n",
       ">>> s = np.random.binomial(n, p, 1000)\n",
       "# result of flipping a coin 10 times, tested 1000 times.\n",
       "\n",
       "A real world example. A company drills 9 wild-cat oil exploration\n",
       "wells, each with an estimated probability of success of 0.1. All nine\n",
       "wells fail. What is the probability of that happening?\n",
       "\n",
       "Let's do 20,000 trials of the model, and count the number that\n",
       "generate zero positive results.\n",
       "\n",
       ">>> sum(np.random.binomial(9, 0.1, 20000) == 0)/20000.\n",
       "# answer = 0.38885, or 38%.\n",
       "\u001b[0;31mType:\u001b[0m      builtin_function_or_method\n"
      ]
     },
     "metadata": {},
     "output_type": "display_data"
    }
   ],
   "source": [
    "# np.random.binomial?"
   ]
  },
  {
   "cell_type": "code",
   "execution_count": 49,
   "metadata": {},
   "outputs": [
    {
     "data": {
      "image/png": "[encoded data removed]",
      "text/plain": [
       "<Figure size 720x432 with 1 Axes>"
      ]
     },
     "metadata": {},
     "output_type": "display_data"
    }
   ],
   "source": [
    "dist='binomial'\n",
    "\n",
    "mysize = (2000 / (np.array(range(1, 100)))).astype(int)\n",
    "md[dist] = {} \n",
    "\n",
    "for n in mysize:\n",
    "    md[dist][n] = np.random.binomial(df, 0.5, size = n)\n",
    "    \n",
    "md[dist]['means'] = {}\n",
    "axchisq_mu_n = pl.figure(figsize=(10,6)).add_subplot(111)\n",
    "\n",
    "for nn in md[dist]:\n",
    "    if not type(nn) == str:\n",
    "        md[dist]['means'][nn] = md[dist][nn].mean()\n",
    "        #and plot it\n",
    "        axchisq_mu_n.plot(nn, md[dist]['means'][nn], 'o')\n",
    "        axchisq_mu_n.set_xlabel('sample size', fontsize=18)\n",
    "        axchisq_mu_n.set_ylabel('sample mean', fontsize=18)\n",
    "        axchisq_mu_n.set_title('Binomial Distribution', fontsize=18)\n",
    "        axchisq_mu_n.plot([min(mysize), max(mysize)], [50, 50], 'k')"
   ]
  },
  {
   "cell_type": "code",
   "execution_count": 50,
   "metadata": {},
   "outputs": [
    {
     "data": {
      "text/plain": [
       "Text(0,0.5,'N')"
      ]
     },
     "execution_count": 50,
     "metadata": {},
     "output_type": "execute_result"
    },
    {
     "data": {
      "image/png": "[encoded data removed]",
      "text/plain": [
       "<Figure size 720x720 with 1 Axes>"
      ]
     },
     "metadata": {},
     "output_type": "display_data"
    }
   ],
   "source": [
    "allmeans = list(md[dist]['means'].values())\n",
    "\n",
    "pl.figure(figsize=(10, 10))\n",
    "pl.hist(allmeans,bins=30)\n",
    "pl.xlabel('sample mean', fontsize = 18)\n",
    "pl.ylabel('N', fontsize = 18)"
   ]
  },
  {
   "cell_type": "markdown",
   "metadata": {},
   "source": [
    "# Do it for another distribution"
   ]
  },
  {
   "cell_type": "code",
   "execution_count": 28,
   "metadata": {
    "collapsed": true
   },
   "outputs": [
    {
     "data": {
      "text/plain": [
       "\u001b[0;31mDocstring:\u001b[0m\n",
       "lognormal(mean=0.0, sigma=1.0, size=None)\n",
       "\n",
       "Draw samples from a log-normal distribution.\n",
       "\n",
       "Draw samples from a log-normal distribution with specified mean,\n",
       "standard deviation, and array shape.  Note that the mean and standard\n",
       "deviation are not the values for the distribution itself, but of the\n",
       "underlying normal distribution it is derived from.\n",
       "\n",
       "Parameters\n",
       "----------\n",
       "mean : float or array_like of floats, optional\n",
       "    Mean value of the underlying normal distribution. Default is 0.\n",
       "sigma : float or array_like of floats, optional\n",
       "    Standard deviation of the underlying normal distribution. Should\n",
       "    be greater than zero. Default is 1.\n",
       "size : int or tuple of ints, optional\n",
       "    Output shape.  If the given shape is, e.g., ``(m, n, k)``, then\n",
       "    ``m * n * k`` samples are drawn.  If size is ``None`` (default),\n",
       "    a single value is returned if ``mean`` and ``sigma`` are both scalars.\n",
       "    Otherwise, ``np.broadcast(mean, sigma).size`` samples are drawn.\n",
       "\n",
       "Returns\n",
       "-------\n",
       "out : ndarray or scalar\n",
       "    Drawn samples from the parameterized log-normal distribution.\n",
       "\n",
       "See Also\n",
       "--------\n",
       "scipy.stats.lognorm : probability density function, distribution,\n",
       "    cumulative density function, etc.\n",
       "\n",
       "Notes\n",
       "-----\n",
       "A variable `x` has a log-normal distribution if `log(x)` is normally\n",
       "distributed.  The probability density function for the log-normal\n",
       "distribution is:\n",
       "\n",
       ".. math:: p(x) = \\frac{1}{\\sigma x \\sqrt{2\\pi}}\n",
       "                 e^{(-\\frac{(ln(x)-\\mu)^2}{2\\sigma^2})}\n",
       "\n",
       "where :math:`\\mu` is the mean and :math:`\\sigma` is the standard\n",
       "deviation of the normally distributed logarithm of the variable.\n",
       "A log-normal distribution results if a random variable is the *product*\n",
       "of a large number of independent, identically-distributed variables in\n",
       "the same way that a normal distribution results if the variable is the\n",
       "*sum* of a large number of independent, identically-distributed\n",
       "variables.\n",
       "\n",
       "References\n",
       "----------\n",
       ".. [1] Limpert, E., Stahel, W. A., and Abbt, M., \"Log-normal\n",
       "       Distributions across the Sciences: Keys and Clues,\"\n",
       "       BioScience, Vol. 51, No. 5, May, 2001.\n",
       "       http://stat.ethz.ch/~stahel/lognormal/bioscience.pdf\n",
       ".. [2] Reiss, R.D. and Thomas, M., \"Statistical Analysis of Extreme\n",
       "       Values,\" Basel: Birkhauser Verlag, 2001, pp. 31-32.\n",
       "\n",
       "Examples\n",
       "--------\n",
       "Draw samples from the distribution:\n",
       "\n",
       ">>> mu, sigma = 3., 1. # mean and standard deviation\n",
       ">>> s = np.random.lognormal(mu, sigma, 1000)\n",
       "\n",
       "Display the histogram of the samples, along with\n",
       "the probability density function:\n",
       "\n",
       ">>> import matplotlib.pyplot as plt\n",
       ">>> count, bins, ignored = plt.hist(s, 100, density=True, align='mid')\n",
       "\n",
       ">>> x = np.linspace(min(bins), max(bins), 10000)\n",
       ">>> pdf = (np.exp(-(np.log(x) - mu)**2 / (2 * sigma**2))\n",
       "...        / (x * sigma * np.sqrt(2 * np.pi)))\n",
       "\n",
       ">>> plt.plot(x, pdf, linewidth=2, color='r')\n",
       ">>> plt.axis('tight')\n",
       ">>> plt.show()\n",
       "\n",
       "Demonstrate that taking the products of random samples from a uniform\n",
       "distribution can be fit well by a log-normal probability density\n",
       "function.\n",
       "\n",
       ">>> # Generate a thousand samples: each is the product of 100 random\n",
       ">>> # values, drawn from a normal distribution.\n",
       ">>> b = []\n",
       ">>> for i in range(1000):\n",
       "...    a = 10. + np.random.random(100)\n",
       "...    b.append(np.product(a))\n",
       "\n",
       ">>> b = np.array(b) / np.min(b) # scale values to be positive\n",
       ">>> count, bins, ignored = plt.hist(b, 100, density=True, align='mid')\n",
       ">>> sigma = np.std(np.log(b))\n",
       ">>> mu = np.mean(np.log(b))\n",
       "\n",
       ">>> x = np.linspace(min(bins), max(bins), 10000)\n",
       ">>> pdf = (np.exp(-(np.log(x) - mu)**2 / (2 * sigma**2))\n",
       "...        / (x * sigma * np.sqrt(2 * np.pi)))\n",
       "\n",
       ">>> plt.plot(x, pdf, color='r', linewidth=2)\n",
       ">>> plt.show()\n",
       "\u001b[0;31mType:\u001b[0m      builtin_function_or_method\n"
      ]
     },
     "metadata": {},
     "output_type": "display_data"
    }
   ],
   "source": [
    "np.random.lognormal?"
   ]
  },
  {
   "cell_type": "code",
   "execution_count": 62,
   "metadata": {
    "collapsed": true
   },
   "outputs": [
    {
     "data": {
      "image/png": "[encoded data removed]",
      "text/plain": [
       "<Figure size 720x432 with 1 Axes>"
      ]
     },
     "metadata": {},
     "output_type": "display_data"
    }
   ],
   "source": [
    "import math\n",
    "d=math.log(df)\n",
    "dist='lnormal'\n",
    "\n",
    "mysize = (2000 / (np.array(range(1, 100)))).astype(int)\n",
    "md[dist] = {} \n",
    "\n",
    "for n in mysize:\n",
    "    md[dist][n] = np.random.lognormal(df, size = n)\n",
    "    \n",
    "md[dist]['means'] = {}\n",
    "ax_plot = pl.figure(figsize=(10,6)).add_subplot(111)\n",
    "\n",
    "for nn in md[dist]:\n",
    "    if not type(nn) == str:\n",
    "        md[dist]['means'][nn] = md[dist][nn].mean()\n",
    "        #and plot it\n",
    "        ax_plot.plot(nn, md[dist]['means'][nn], 'o')\n",
    "        ax_plot.set_xlabel('sample size', fontsize=18)\n",
    "        ax_plot.set_ylabel('sample mean', fontsize=18)\n",
    "        ax_plot.set_title('Lognormal Distribution', fontsize=18)\n",
    "#         ax_plot.plot([min(mysize), max(mysize)], [d, d], 'k')"
   ]
  },
  {
   "cell_type": "code",
   "execution_count": 63,
   "metadata": {},
   "outputs": [
    {
     "data": {
      "text/plain": [
       "Text(0,0.5,'N')"
      ]
     },
     "execution_count": 63,
     "metadata": {},
     "output_type": "execute_result"
    },
    {
     "data": {
      "image/png": "[encoded data removed]",
      "text/plain": [
       "<Figure size 720x720 with 1 Axes>"
      ]
     },
     "metadata": {},
     "output_type": "display_data"
    }
   ],
   "source": [
    "allmeans = list(md[dist]['means'].values())\n",
    "\n",
    "pl.figure(figsize=(10, 10))\n",
    "pl.hist(allmeans,bins=30)\n",
    "pl.xlabel('sample mean', fontsize = 18)\n",
    "pl.ylabel('N', fontsize = 18)"
   ]
  },
  {
   "cell_type": "code",
   "execution_count": null,
   "metadata": {},
   "outputs": [],
   "source": []
  }
 ],
 "metadata": {
  "anaconda-cloud": {},
  "kernelspec": {
   "display_name": "Python 3",
   "language": "python",
   "name": "python3"
  },
  "language_info": {
   "codemirror_mode": {
    "name": "ipython",
    "version": 3
   },
   "file_extension": ".py",
   "mimetype": "text/x-python",
   "name": "python",
   "nbconvert_exporter": "python",
   "pygments_lexer": "ipython3",
   "version": "3.6.6"
  }
 },
 "nbformat": 4,
 "nbformat_minor": 2
}
