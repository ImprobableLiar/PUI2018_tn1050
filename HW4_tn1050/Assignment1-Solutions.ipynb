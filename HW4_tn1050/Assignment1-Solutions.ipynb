{
 "cells": [
  {
   "cell_type": "markdown",
   "metadata": {},
   "source": [
    " Written by Federica B. Bianco @fedhere\n",
    " NYU CUSP PUI\n",
    "\n",
    " Assignment 1 Homework 4\n",
    "\n",
    " This is a skeleton & instruction notebook\n",
    "\n",
    "-  GENERATE  100 samples of different sizes N (N>10 & N<2000) from each of 5 different distributions (500 samples in total), \n",
    " _all with the same population mean_. Include a _Normal_, a _Poisson_, a _Binomial_, a _Chi-Squared_ distribution, and 1 more of your choice.                                       \n",
    "-  For each sample plot the sample mean (dependent var.) against the sample size N (independent var.) (if you want you can do it with the sample standard deviation as well). \n",
    "-  Describe the behavior you see in the plots in terms of the law of large numbers.\n",
    "-  PLOT the distributions of all sample means (together for all distributions). _Mandatory_: as a histogram. _Optional_: in any other way you think is convincing\n",
    " Extra Credit: FIT a gaussian to the distribution of means            "
   ]
  },
  {
   "cell_type": "code",
   "execution_count": 1,
   "metadata": {
    "collapsed": false
   },
   "outputs": [
    {
     "name": "stdout",
     "output_type": "stream",
     "text": [
      "Populating the interactive namespace from numpy and matplotlib\n"
     ]
    },
    {
     "name": "stderr",
     "output_type": "stream",
     "text": [
      "/usr/local/Anaconda3-5.0.0-Linux-x86_64/envs/PUI2016_Python3/lib/python3.5/site-packages/IPython/html.py:14: ShimWarning: The `IPython.html` package has been deprecated. You should import from `notebook` instead. `IPython.html.widgets` has moved to `ipywidgets`.\n",
      "  \"`IPython.html.widgets` has moved to `ipywidgets`.\", ShimWarning)\n"
     ]
    }
   ],
   "source": [
    "from __future__ import print_function\n",
    "__author__= 'fbb'\n",
    "\n",
    "import pylab as pl\n",
    "# this package sets up pretty plots\n",
    "import seaborn\n",
    "from scipy.optimize import curve_fit, minimize\n",
    "\n",
    "    \n",
    "%pylab inline"
   ]
  },
  {
   "cell_type": "markdown",
   "metadata": {},
   "source": [
    "## choose which distributions to use "
   ]
  },
  {
   "cell_type": "code",
   "execution_count": 2,
   "metadata": {
    "collapsed": true
   },
   "outputs": [],
   "source": [
    "#distributions = ['pois', 'gaus', 'chisq', 'cauchy', 'lnorm', 'binomial']\n",
    "distributions = ['chisq']\n"
   ]
  },
  {
   "cell_type": "markdown",
   "metadata": {},
   "source": [
    "## and which mean to give it"
   ]
  },
  {
   "cell_type": "code",
   "execution_count": 3,
   "metadata": {
    "collapsed": false
   },
   "outputs": [],
   "source": [
    "mymean = 100"
   ]
  },
  {
   "cell_type": "markdown",
   "metadata": {},
   "source": [
    "# Then lets look at the numpy random sampling package to see how I create the distribution\n",
    "http://docs.scipy.org/doc/numpy/reference/routines.random.html\n",
    "http://docs.scipy.org/doc/numpy/reference/generated/numpy.random.chisquare.html#numpy.random.chisquare\n",
    "\n"
   ]
  },
  {
   "cell_type": "code",
   "execution_count": 4,
   "metadata": {
    "collapsed": false
   },
   "outputs": [],
   "source": [
    "# the chi sq distribution takes the number of degrees of freedom, which luckily is the same as the mean!\n",
    "df = mymean"
   ]
  },
  {
   "cell_type": "markdown",
   "metadata": {},
   "source": [
    "## I am making a dictionary to host the distributions.\n",
    "\n",
    "that is only one possible option. with a dictionary I can easily inspect the distribution I want by its name: it is a very human friendly data storage. In this example I am only using a single distribution, so for me it is overkill, but if I were doing the whole exercise with 5 or 6 distributions it would be useful!\n",
    "\n",
    "Lets start by looking at a single chi sq distribution"
   ]
  },
  {
   "cell_type": "code",
   "execution_count": 5,
   "metadata": {
    "collapsed": false
   },
   "outputs": [
    {
     "data": {
      "text/plain": [
       "Text(0.5,0,'x')"
      ]
     },
     "execution_count": 5,
     "metadata": {},
     "output_type": "execute_result"
    },
    {
     "name": "stderr",
     "output_type": "stream",
     "text": [
      "/usr/local/Anaconda3-5.0.0-Linux-x86_64/envs/PUI2016_Python3/lib/python3.5/site-packages/matplotlib/font_manager.py:1316: UserWarning: findfont: Font family ['sans-serif'] not found. Falling back to DejaVu Sans\n",
      "  (prop.get_family(), self.defaultFamily[fontext]))\n"
     ]
    },
    {
     "data": {
      "image/png": "[encoded data removed]",
      "text/plain": [
       "<matplotlib.figure.Figure at 0x7f94ff837940>"
      ]
     },
     "metadata": {},
     "output_type": "display_data"
    }
   ],
   "source": [
    "# Note: I am adding imports here, to show the workflow: \n",
    "# at this point I realize what packages I need and I import them. \n",
    "# but this is a PEP8 violation. \n",
    "# It is a good habit to put the includes at the top \n",
    "# so the code fails right away if the packages are missing. \n",
    "# Otherwise a user may have a piece of code running for a long time, \n",
    "# and then fail when the package cannot be imported... \n",
    "# (unless they are only imported under conditions, e.g. in an if statement)\n",
    "\n",
    "import numpy as np\n",
    "md = {}\n",
    "# md is an empty disctionary\n",
    "md['chisq'] = np.random.chisquare(df, size=100)\n",
    "# md now is a dictionary with one object: an array by the key 'chisq'\n",
    "pl.hist(md['chisq'], bins = 30)\n",
    "pl.ylabel('N')\n",
    "pl.xlabel('x')"
   ]
  },
  {
   "cell_type": "markdown",
   "metadata": {},
   "source": [
    "### Figure 1: Chi sq distribution: df = 100, N=100"
   ]
  },
  {
   "cell_type": "markdown",
   "metadata": {},
   "source": [
    "## let numpy calculate what the mean and stdev of this distribution are"
   ]
  },
  {
   "cell_type": "code",
   "execution_count": 6,
   "metadata": {
    "collapsed": false
   },
   "outputs": [
    {
     "name": "stdout",
     "output_type": "stream",
     "text": [
      "Chisq mean: 99.04, standard deviation: 15.34\n"
     ]
    }
   ],
   "source": [
    "print (\"Chisq mean: %.2f, standard deviation: %.2f\"%(md['chisq'].mean(), md['chisq'].std()))"
   ]
  },
  {
   "cell_type": "markdown",
   "metadata": {},
   "source": [
    "## Now let's do it for 100 Chisq distributions\n",
    "we want distributions of different sizes (all integers between 10 and 2000)"
   ]
  },
  {
   "cell_type": "code",
   "execution_count": 7,
   "metadata": {
    "collapsed": false
   },
   "outputs": [
    {
     "name": "stdout",
     "output_type": "stream",
     "text": [
      "[   5    6   89   92  128  187  199  210  242  272  302  368  389  394  414\n",
      "  443  449  461  475  493  495  515  578  591  592  606  618  636  645  670\n",
      "  743  755  793  814  820  834  839  841  852  862  878  950  967  968  979\n",
      "  988 1010 1028 1032 1033 1036 1041 1087 1106 1111 1126 1157 1166 1184 1192\n",
      " 1204 1226 1257 1279 1281 1325 1344 1400 1402 1419 1436 1483 1489 1569 1597\n",
      " 1606 1624 1634 1655 1664 1677 1685 1721 1728 1740 1741 1745 1794 1805 1846\n",
      " 1855 1865 1885 1890 1921 1955 1962 1982 1989 1992] (100,)\n"
     ]
    }
   ],
   "source": [
    "# mysize = (2000 / (np.array(range(1, 100)))).astype(int)\n",
    "# mysize = 1000 / (np.array(range(1, 100) + [10]))\n",
    "# mysize = (np.random.rand(100) * 1000).astype(int)\n",
    "mysize = np.random.choice(range(2000), 100, replace=False)\n",
    "print (sort(mysize), mysize.shape)"
   ]
  },
  {
   "cell_type": "code",
   "execution_count": 8,
   "metadata": {
    "collapsed": false
   },
   "outputs": [
    {
     "name": "stderr",
     "output_type": "stream",
     "text": [
      "/usr/local/Anaconda3-5.0.0-Linux-x86_64/envs/PUI2016_Python3/lib/python3.5/site-packages/matplotlib/font_manager.py:1316: UserWarning: findfont: Font family ['sans-serif'] not found. Falling back to DejaVu Sans\n",
      "  (prop.get_family(), self.defaultFamily[fontext]))\n"
     ]
    },
    {
     "data": {
      "image/png": "[encoded data removed]",
      "text/plain": [
       "<matplotlib.figure.Figure at 0x7f9528a0d7b8>"
      ]
     },
     "metadata": {},
     "output_type": "display_data"
    }
   ],
   "source": [
    "# I am gonna overwrite the disctionary entry created into a nested dictionary \n",
    "# the outside dictionary hosts the distributions as dictionary, \n",
    "# and each distribution dictionary contains the 100 distribution (arrays of diferent sizes)\n",
    "\n",
    "md['chisq'] = {} \n",
    "\n",
    "#and do it in a for loop. not pythonic, but easily readable\n",
    "\n",
    "for n in mysize:\n",
    "    md['chisq'][n] = np.random.chisquare(df, size = n)\n",
    "    \n",
    "# save the means for plotting later    \n",
    "\n",
    "md['chisq']['means'] = {}\n",
    "axchisq_mu_n = pl.figure(figsize=(10,6)).add_subplot(111)\n",
    "\n",
    "for nn in md['chisq']:\n",
    "    if not type(nn) == str:\n",
    "        md['chisq']['means'][nn] = md['chisq'][nn].mean()\n",
    "        #and plot it\n",
    "        axchisq_mu_n.plot(nn, md['chisq']['means'][nn], 'o')\n",
    "        axchisq_mu_n.set_xlabel('sample size', fontsize=18)\n",
    "        axchisq_mu_n.set_ylabel('sample mean', fontsize=18)\n",
    "        axchisq_mu_n.set_title('Chi squared', fontsize=18)\n",
    "        axchisq_mu_n.plot([min(mysize), max(mysize)], [df, df], 'k')"
   ]
  },
  {
   "cell_type": "markdown",
   "metadata": {},
   "source": [
    "### Figure 2: [describe what you see and how it relates to the law of large numbers]"
   ]
  },
  {
   "cell_type": "markdown",
   "metadata": {},
   "source": [
    "# now the histogram of the mean of all samples: \n",
    "## this requires some data wrangling, since i put the data in a dictionary which is a user friendly data structure, but perhaps not the most machine friendly one\n",
    "\n",
    "a coder friendly, though not terribly pythonic way to do it is to append each mean in a list in a for loop, and then hist that. be careful: if your data size gets large this becomes a very bad idea!!"
   ]
  },
  {
   "cell_type": "code",
   "execution_count": 9,
   "metadata": {
    "collapsed": false
   },
   "outputs": [
    {
     "data": {
      "text/plain": [
       "Text(0.5,1,'Chisquare Sample Means')"
      ]
     },
     "execution_count": 9,
     "metadata": {},
     "output_type": "execute_result"
    },
    {
     "name": "stderr",
     "output_type": "stream",
     "text": [
      "/usr/local/Anaconda3-5.0.0-Linux-x86_64/envs/PUI2016_Python3/lib/python3.5/site-packages/matplotlib/font_manager.py:1316: UserWarning: findfont: Font family ['sans-serif'] not found. Falling back to DejaVu Sans\n",
      "  (prop.get_family(), self.defaultFamily[fontext]))\n"
     ]
    },
    {
     "data": {
      "image/png": "[encoded data removed]",
      "text/plain": [
       "<matplotlib.figure.Figure at 0x7f94ff8388d0>"
      ]
     },
     "metadata": {},
     "output_type": "display_data"
    }
   ],
   "source": [
    "allmeans = list(md['chisq']['means'].values())\n",
    "\n",
    "pl.figure(figsize=(10, 10))\n",
    "pl.hist(allmeans,bins=30)\n",
    "pl.xlabel('sample mean', fontsize = 18)\n",
    "pl.ylabel('N', fontsize = 18)\n",
    "pl.title('Chisquare Sample Means')"
   ]
  },
  {
   "cell_type": "markdown",
   "metadata": {},
   "source": [
    "## Figure 3: The histogram of 100 ChiSquare Distribution Sample Means"
   ]
  },
  {
   "cell_type": "markdown",
   "metadata": {},
   "source": [
    "# Do it for the Normal distribution\n"
   ]
  },
  {
   "cell_type": "code",
   "execution_count": null,
   "metadata": {},
   "outputs": [],
   "source": [
    "# np.random.normal?"
   ]
  },
  {
   "cell_type": "code",
   "execution_count": 12,
   "metadata": {},
   "outputs": [
    {
     "name": "stderr",
     "output_type": "stream",
     "text": [
      "/usr/local/Anaconda3-5.0.0-Linux-x86_64/envs/PUI2016_Python3/lib/python3.5/site-packages/matplotlib/font_manager.py:1316: UserWarning: findfont: Font family ['sans-serif'] not found. Falling back to DejaVu Sans\n",
      "  (prop.get_family(), self.defaultFamily[fontext]))\n"
     ]
    },
    {
     "data": {
      "image/png": "[encoded data removed]",
      "text/plain": [
       "<matplotlib.figure.Figure at 0x7f94ff8ad550>"
      ]
     },
     "metadata": {},
     "output_type": "display_data"
    }
   ],
   "source": [
    "dist='gaus'\n",
    "\n",
    "md[dist] = {} \n",
    "\n",
    "for n in mysize:\n",
    "    md[dist][n] = np.random.normal(df, size = n)\n",
    "    \n",
    "md[dist]['means'] = {}\n",
    "axchisq_mu_n = pl.figure(figsize=(10,6)).add_subplot(111)\n",
    "\n",
    "for nn in md[dist]:\n",
    "    if not type(nn) == str:\n",
    "        md[dist]['means'][nn] = md[dist][nn].mean()\n",
    "        #and plot it\n",
    "        axchisq_mu_n.plot(nn, md[dist]['means'][nn], 'o')\n",
    "        axchisq_mu_n.set_xlabel('sample size', fontsize=18)\n",
    "        axchisq_mu_n.set_ylabel('sample mean', fontsize=18)\n",
    "        axchisq_mu_n.set_title('Normal Distribution', fontsize=18)\n",
    "        axchisq_mu_n.plot([min(mysize), max(mysize)], [df, df], 'k')"
   ]
  },
  {
   "cell_type": "code",
   "execution_count": 13,
   "metadata": {},
   "outputs": [
    {
     "data": {
      "text/plain": [
       "Text(0.5,1,'Normal Sample Means')"
      ]
     },
     "execution_count": 13,
     "metadata": {},
     "output_type": "execute_result"
    },
    {
     "name": "stderr",
     "output_type": "stream",
     "text": [
      "/usr/local/Anaconda3-5.0.0-Linux-x86_64/envs/PUI2016_Python3/lib/python3.5/site-packages/matplotlib/font_manager.py:1316: UserWarning: findfont: Font family ['sans-serif'] not found. Falling back to DejaVu Sans\n",
      "  (prop.get_family(), self.defaultFamily[fontext]))\n"
     ]
    },
    {
     "data": {
      "image/png": "[encoded data removed]",
      "text/plain": [
       "<matplotlib.figure.Figure at 0x7f94fac7d2b0>"
      ]
     },
     "metadata": {},
     "output_type": "display_data"
    }
   ],
   "source": [
    "allmeans = list(md[dist]['means'].values())\n",
    "\n",
    "pl.figure(figsize=(10, 10))\n",
    "pl.hist(allmeans,bins=30)\n",
    "pl.xlabel('sample mean', fontsize = 18)\n",
    "pl.ylabel('N', fontsize = 18)\n",
    "pl.title('Normal Sample Means')"
   ]
  },
  {
   "cell_type": "markdown",
   "metadata": {},
   "source": [
    "## Figure 4: The histogram of 100 Gaussian Distribution Sample Means"
   ]
  },
  {
   "cell_type": "markdown",
   "metadata": {},
   "source": [
    "# Do it for the Poisson distribution"
   ]
  },
  {
   "cell_type": "code",
   "execution_count": null,
   "metadata": {},
   "outputs": [],
   "source": [
    "# np.random.poisson?"
   ]
  },
  {
   "cell_type": "code",
   "execution_count": 14,
   "metadata": {
    "collapsed": true
   },
   "outputs": [
    {
     "name": "stderr",
     "output_type": "stream",
     "text": [
      "/usr/local/Anaconda3-5.0.0-Linux-x86_64/envs/PUI2016_Python3/lib/python3.5/site-packages/matplotlib/font_manager.py:1316: UserWarning: findfont: Font family ['sans-serif'] not found. Falling back to DejaVu Sans\n",
      "  (prop.get_family(), self.defaultFamily[fontext]))\n"
     ]
    },
    {
     "data": {
      "image/png": "[encoded data removed]",
      "text/plain": [
       "<matplotlib.figure.Figure at 0x7f94fab82358>"
      ]
     },
     "metadata": {},
     "output_type": "display_data"
    }
   ],
   "source": [
    "dist='pois'\n",
    "\n",
    "md[dist] = {} \n",
    "\n",
    "for n in mysize:\n",
    "    md[dist][n] = np.random.poisson(df, size = n)\n",
    "    \n",
    "md[dist]['means'] = {}\n",
    "axchisq_mu_n = pl.figure(figsize=(10,6)).add_subplot(111)\n",
    "\n",
    "for nn in md[dist]:\n",
    "    if not type(nn) == str:\n",
    "        md[dist]['means'][nn] = md[dist][nn].mean()\n",
    "        #and plot it\n",
    "        axchisq_mu_n.plot(nn, md[dist]['means'][nn], 'o')\n",
    "        axchisq_mu_n.set_xlabel('sample size', fontsize=18)\n",
    "        axchisq_mu_n.set_ylabel('sample mean', fontsize=18)\n",
    "        axchisq_mu_n.set_title('Poisson Distribution', fontsize=18)\n",
    "        axchisq_mu_n.plot([min(mysize), max(mysize)], [df, df], 'k')"
   ]
  },
  {
   "cell_type": "code",
   "execution_count": 15,
   "metadata": {},
   "outputs": [
    {
     "data": {
      "text/plain": [
       "Text(0.5,1,'Poisson Sample Means')"
      ]
     },
     "execution_count": 15,
     "metadata": {},
     "output_type": "execute_result"
    },
    {
     "name": "stderr",
     "output_type": "stream",
     "text": [
      "/usr/local/Anaconda3-5.0.0-Linux-x86_64/envs/PUI2016_Python3/lib/python3.5/site-packages/matplotlib/font_manager.py:1316: UserWarning: findfont: Font family ['sans-serif'] not found. Falling back to DejaVu Sans\n",
      "  (prop.get_family(), self.defaultFamily[fontext]))\n"
     ]
    },
    {
     "data": {
      "image/png": "[encoded data removed]",
      "text/plain": [
       "<matplotlib.figure.Figure at 0x7f94fabd62e8>"
      ]
     },
     "metadata": {},
     "output_type": "display_data"
    }
   ],
   "source": [
    "allmeans = list(md[dist]['means'].values())\n",
    "\n",
    "pl.figure(figsize=(10, 10))\n",
    "pl.hist(allmeans,bins=30)\n",
    "pl.xlabel('sample mean', fontsize = 18)\n",
    "pl.ylabel('N', fontsize = 18)\n",
    "pl.title('Poisson Sample Means')"
   ]
  },
  {
   "cell_type": "markdown",
   "metadata": {},
   "source": [
    "## Figure 3: The histogram of 100 Poisson Distribution Sample Means"
   ]
  },
  {
   "cell_type": "markdown",
   "metadata": {},
   "source": [
    "# Do it for the Binomial distribution"
   ]
  },
  {
   "cell_type": "code",
   "execution_count": null,
   "metadata": {
    "collapsed": true
   },
   "outputs": [],
   "source": [
    "# np.random.binomial?"
   ]
  },
  {
   "cell_type": "code",
   "execution_count": 16,
   "metadata": {},
   "outputs": [
    {
     "name": "stderr",
     "output_type": "stream",
     "text": [
      "/usr/local/Anaconda3-5.0.0-Linux-x86_64/envs/PUI2016_Python3/lib/python3.5/site-packages/matplotlib/font_manager.py:1316: UserWarning: findfont: Font family ['sans-serif'] not found. Falling back to DejaVu Sans\n",
      "  (prop.get_family(), self.defaultFamily[fontext]))\n"
     ]
    },
    {
     "data": {
      "image/png": "[encoded data removed]",
      "text/plain": [
       "<matplotlib.figure.Figure at 0x7f94fa98bb00>"
      ]
     },
     "metadata": {},
     "output_type": "display_data"
    }
   ],
   "source": [
    "dist='binomial'\n",
    "\n",
    "md[dist] = {} \n",
    "\n",
    "for n in mysize:\n",
    "    md[dist][n] = np.random.binomial(df, 0.5, size = n)\n",
    "    \n",
    "md[dist]['means'] = {}\n",
    "axchisq_mu_n = pl.figure(figsize=(10,6)).add_subplot(111)\n",
    "\n",
    "for nn in md[dist]:\n",
    "    if not type(nn) == str:\n",
    "        md[dist]['means'][nn] = md[dist][nn].mean()\n",
    "        #and plot it\n",
    "        axchisq_mu_n.plot(nn, md[dist]['means'][nn], 'o')\n",
    "        axchisq_mu_n.set_xlabel('sample size', fontsize=18)\n",
    "        axchisq_mu_n.set_ylabel('sample mean', fontsize=18)\n",
    "        axchisq_mu_n.set_title('Binomial Distribution', fontsize=18)\n",
    "        axchisq_mu_n.plot([min(mysize), max(mysize)], [50, 50], 'k')"
   ]
  },
  {
   "cell_type": "code",
   "execution_count": 17,
   "metadata": {},
   "outputs": [
    {
     "data": {
      "text/plain": [
       "Text(0.5,1,'Binomial Sample Means')"
      ]
     },
     "execution_count": 17,
     "metadata": {},
     "output_type": "execute_result"
    },
    {
     "name": "stderr",
     "output_type": "stream",
     "text": [
      "/usr/local/Anaconda3-5.0.0-Linux-x86_64/envs/PUI2016_Python3/lib/python3.5/site-packages/matplotlib/font_manager.py:1316: UserWarning: findfont: Font family ['sans-serif'] not found. Falling back to DejaVu Sans\n",
      "  (prop.get_family(), self.defaultFamily[fontext]))\n"
     ]
    },
    {
     "data": {
      "image/png": "[encoded data removed]",
      "text/plain": [
       "<matplotlib.figure.Figure at 0x7f94fa9df780>"
      ]
     },
     "metadata": {},
     "output_type": "display_data"
    }
   ],
   "source": [
    "allmeans = list(md[dist]['means'].values())\n",
    "\n",
    "pl.figure(figsize=(10, 10))\n",
    "pl.hist(allmeans,bins=30)\n",
    "pl.xlabel('sample mean', fontsize = 18)\n",
    "pl.ylabel('N', fontsize = 18)\n",
    "pl.title('Binomial Sample Means')"
   ]
  },
  {
   "cell_type": "markdown",
   "metadata": {},
   "source": [
    "## Figure 3: The histogram of 100 Binomial Distribution Sample Means"
   ]
  },
  {
   "cell_type": "markdown",
   "metadata": {},
   "source": [
    "# Do it for another distribution"
   ]
  },
  {
   "cell_type": "code",
   "execution_count": null,
   "metadata": {
    "collapsed": true
   },
   "outputs": [],
   "source": [
    "# np.random.lognormal?"
   ]
  },
  {
   "cell_type": "code",
   "execution_count": 19,
   "metadata": {
    "collapsed": true
   },
   "outputs": [
    {
     "name": "stderr",
     "output_type": "stream",
     "text": [
      "/usr/local/Anaconda3-5.0.0-Linux-x86_64/envs/PUI2016_Python3/lib/python3.5/site-packages/matplotlib/font_manager.py:1316: UserWarning: findfont: Font family ['sans-serif'] not found. Falling back to DejaVu Sans\n",
      "  (prop.get_family(), self.defaultFamily[fontext]))\n"
     ]
    },
    {
     "data": {
      "image/png": "[encoded data removed]",
      "text/plain": [
       "<matplotlib.figure.Figure at 0x7f94fa9f15f8>"
      ]
     },
     "metadata": {},
     "output_type": "display_data"
    }
   ],
   "source": [
    "import math\n",
    "d=math.log(df)\n",
    "dist='lnormal'\n",
    "\n",
    "md[dist] = {} \n",
    "\n",
    "for n in mysize:\n",
    "    md[dist][n] = np.random.lognormal(df, size = n)\n",
    "    \n",
    "md[dist]['means'] = {}\n",
    "ax_plot = pl.figure(figsize=(10,6)).add_subplot(111)\n",
    "\n",
    "for nn in md[dist]:\n",
    "    if not type(nn) == str:\n",
    "        md[dist]['means'][nn] = md[dist][nn].mean()\n",
    "        #and plot it\n",
    "        ax_plot.plot(nn, md[dist]['means'][nn], 'o')\n",
    "        ax_plot.set_xlabel('sample size', fontsize=18)\n",
    "        ax_plot.set_ylabel('sample mean', fontsize=18)\n",
    "        ax_plot.set_title('Lognormal Distribution', fontsize=18)\n",
    "#         ax_plot.plot([min(mysize), max(mysize)], [d, d], 'k')"
   ]
  },
  {
   "cell_type": "code",
   "execution_count": 20,
   "metadata": {},
   "outputs": [
    {
     "data": {
      "text/plain": [
       "Text(0.5,1,'Lognormal Sample Means')"
      ]
     },
     "execution_count": 20,
     "metadata": {},
     "output_type": "execute_result"
    },
    {
     "name": "stderr",
     "output_type": "stream",
     "text": [
      "/usr/local/Anaconda3-5.0.0-Linux-x86_64/envs/PUI2016_Python3/lib/python3.5/site-packages/matplotlib/font_manager.py:1316: UserWarning: findfont: Font family ['sans-serif'] not found. Falling back to DejaVu Sans\n",
      "  (prop.get_family(), self.defaultFamily[fontext]))\n"
     ]
    },
    {
     "data": {
      "image/png": "[encoded data removed]",
      "text/plain": [
       "<matplotlib.figure.Figure at 0x7f94ff8ce860>"
      ]
     },
     "metadata": {},
     "output_type": "display_data"
    }
   ],
   "source": [
    "allmeans = list(md[dist]['means'].values())\n",
    "\n",
    "pl.figure(figsize=(10, 10))\n",
    "pl.hist(allmeans,bins=30)\n",
    "pl.xlabel('sample mean', fontsize = 18)\n",
    "pl.ylabel('N', fontsize = 18)\n",
    "pl.title('Lognormal Sample Means')"
   ]
  },
  {
   "cell_type": "markdown",
   "metadata": {},
   "source": [
    "## Figure 3: The histogram of 100 LogNormal Distribution Sample Means"
   ]
  },
  {
   "cell_type": "markdown",
   "metadata": {},
   "source": [
    "## Plotting the distribution of all sample means"
   ]
  },
  {
   "cell_type": "code",
   "execution_count": 21,
   "metadata": {},
   "outputs": [
    {
     "data": {
      "text/plain": [
       "500"
      ]
     },
     "execution_count": 21,
     "metadata": {},
     "output_type": "execute_result"
    }
   ],
   "source": [
    "# df_all = list(md[x]['means'].values() for x in md)\n",
    "l_all=[]\n",
    "[l_all.extend(list(md[x]['means'].values())) for x in md]\n",
    "len(l_all)"
   ]
  },
  {
   "cell_type": "code",
   "execution_count": 51,
   "metadata": {},
   "outputs": [
    {
     "name": "stdout",
     "output_type": "stream",
     "text": [
      "chisq\n",
      "pois\n",
      "binomial\n",
      "lnormal\n",
      "gaus\n"
     ]
    },
    {
     "data": {
      "text/plain": [
       "[99.738567142451117,\n",
       " 99.547490277607707,\n",
       " 99.450697982207714,\n",
       " 99.923660566105866,\n",
       " 95.289237799697133,\n",
       " 98.11812475488631,\n",
       " 99.6288578882655,\n",
       " 99.689241314211941,\n",
       " 101.07847744638387,\n",
       " 99.713379070444688,\n",
       " 99.976743377958087,\n",
       " 100.54947068302151,\n",
       " 100.0921235877656,\n",
       " 101.06108878274499,\n",
       " 100.22642514993623,\n",
       " 100.68632350643959,\n",
       " 99.571244223036416,\n",
       " 99.802592248105938,\n",
       " 99.638633662098854,\n",
       " 99.627862644094833,\n",
       " 100.75545176250957,\n",
       " 99.709661384757709,\n",
       " 99.675259290354873,\n",
       " 99.572390602104875,\n",
       " 100.44210257528896,\n",
       " 99.53281904337841,\n",
       " 100.37068188367735,\n",
       " 99.949851808591845,\n",
       " 99.776215722630624,\n",
       " 100.06572283880142,\n",
       " 100.11469079048838,\n",
       " 101.14733530600999,\n",
       " 99.050413501985958,\n",
       " 99.789415154275474,\n",
       " 99.900869316320083,\n",
       " 100.09408429024927,\n",
       " 101.7137706410072,\n",
       " 97.39033408745739,\n",
       " 99.938541588144901,\n",
       " 100.2153159169346,\n",
       " 99.76929431816113,\n",
       " 98.896610698203929,\n",
       " 99.495190431679504,\n",
       " 99.799878082611016,\n",
       " 99.6882574779073,\n",
       " 101.82657895841722,\n",
       " 99.639096569160358,\n",
       " 99.718538333765707,\n",
       " 99.852807053601111,\n",
       " 99.528254260498485,\n",
       " 100.47432288305879,\n",
       " 100.60653296566372,\n",
       " 100.20384620890431,\n",
       " 100.23612533874692,\n",
       " 100.02235037756223,\n",
       " 99.331765650419072,\n",
       " 100.03202719776513,\n",
       " 99.662044823637089,\n",
       " 100.02774462117041,\n",
       " 100.49218326450485,\n",
       " 98.872874575978059,\n",
       " 99.75818055594452,\n",
       " 100.46263539553489,\n",
       " 99.23484011290796,\n",
       " 100.26304037239903,\n",
       " 99.459065507654998,\n",
       " 101.04292826631925,\n",
       " 99.723814051377147,\n",
       " 100.46493645363464,\n",
       " 100.25273144439504,\n",
       " 100.43870457835747,\n",
       " 99.899381196334389,\n",
       " 100.17163458205698,\n",
       " 100.1616791453487,\n",
       " 100.99058155767959,\n",
       " 100.51877129623745,\n",
       " 100.15291969813423,\n",
       " 101.10999760643705,\n",
       " 99.924798630124741,\n",
       " 99.918972301804175,\n",
       " 99.826417387445929,\n",
       " 100.27545538360425,\n",
       " 100.13262518022594,\n",
       " 100.27896561309093,\n",
       " 99.569958960149947,\n",
       " 99.642820101523768,\n",
       " 99.555472332042626,\n",
       " 99.226092184452426,\n",
       " 100.04547444194571,\n",
       " 100.09771112551324,\n",
       " 99.81527955357322,\n",
       " 100.0303340699307,\n",
       " 100.33516341011016,\n",
       " 100.33852170828224,\n",
       " 99.792992121041081,\n",
       " 99.298574491864159,\n",
       " 99.978910085222736,\n",
       " 98.964209350766524,\n",
       " 99.792007348590118,\n",
       " 99.603340262967421,\n",
       " 99.888368462138956,\n",
       " 99.696209587513934,\n",
       " 100.15728155339806,\n",
       " 99.661478599221795,\n",
       " 98.599999999999994,\n",
       " 107.33333333333333,\n",
       " 99.726744186046517,\n",
       " 99.639883833494679,\n",
       " 100.015625,\n",
       " 99.83011583011583,\n",
       " 100.22936288088643,\n",
       " 100.95588235294117,\n",
       " 100.26320845341019,\n",
       " 100.32678132678133,\n",
       " 100.64186633039093,\n",
       " 99.654263565891469,\n",
       " 100.13320586360739,\n",
       " 99.428679245283021,\n",
       " 100.63907284768212,\n",
       " 99.19634146341464,\n",
       " 100.91419141914191,\n",
       " 100.19230769230769,\n",
       " 99.740137758296811,\n",
       " 100.33315363881401,\n",
       " 99.852678571428569,\n",
       " 100.14748201438849,\n",
       " 99.959526774595261,\n",
       " 100.07628128724673,\n",
       " 100.24289544235926,\n",
       " 99.610771113831092,\n",
       " 100.22165820642978,\n",
       " 100.14358108108108,\n",
       " 100.02350813743219,\n",
       " 100.45892018779342,\n",
       " 99.893789378937896,\n",
       " 99.808497536945808,\n",
       " 100.53932584269663,\n",
       " 101.0,\n",
       " 100.13262599469496,\n",
       " 99.629930394431554,\n",
       " 99.614814814814821,\n",
       " 99.064171122994651,\n",
       " 99.880994671403201,\n",
       " 100.44012944983818,\n",
       " 100.17084282460137,\n",
       " 99.877717391304344,\n",
       " 99.99033232628399,\n",
       " 99.465000000000003,\n",
       " 100.12339514978602,\n",
       " 99.352345906163748,\n",
       " 99.539308176100633,\n",
       " 99.763822115384613,\n",
       " 100.01509630400832,\n",
       " 100.04580812445981,\n",
       " 100.19289340101523,\n",
       " 100.13601127554615,\n",
       " 99.81991651759094,\n",
       " 100.04202401372213,\n",
       " 100.00415430267063,\n",
       " 100.32520891364902,\n",
       " 99.888059701492537,\n",
       " 100.26604729729729,\n",
       " 99.951406649616374,\n",
       " 99.38046272493574,\n",
       " 99.344036697247702,\n",
       " 100.09307135470527,\n",
       " 99.962809917355372,\n",
       " 99.806224899598391,\n",
       " 99.784883720930239,\n",
       " 101.15942028985508,\n",
       " 99.875789473684208,\n",
       " 99.620689655172413,\n",
       " 99.832655432887861,\n",
       " 99.965616045845266,\n",
       " 100.26185101580135,\n",
       " 100.31331987891019,\n",
       " 99.836805555555557,\n",
       " 99.895322939866375,\n",
       " 99.655605832076418,\n",
       " 99.356783919597987,\n",
       " 100.34194214876032,\n",
       " 100.04812398042414,\n",
       " 100.10586648685097,\n",
       " 99.682758620689654,\n",
       " 99.649626651349806,\n",
       " 100.16702819956616,\n",
       " 100.05238415043654,\n",
       " 100.02380952380952,\n",
       " 100.15730337078652,\n",
       " 99.392733564013838,\n",
       " 100.52631578947368,\n",
       " 99.874493927125499,\n",
       " 100.35935397039032,\n",
       " 99.637231503579955,\n",
       " 100.47261663286004,\n",
       " 99.678787878787873,\n",
       " 100.14681208053692,\n",
       " 99.899009900990094,\n",
       " 100.34172185430464,\n",
       " 99.863956215793593,\n",
       " 49.978922716627636,\n",
       " 49.880156075808252,\n",
       " 50.145631067961162,\n",
       " 50.106031128404666,\n",
       " 52.600000000000001,\n",
       " 48.666666666666664,\n",
       " 50.134689922480618,\n",
       " 50.319457889641818,\n",
       " 50.375,\n",
       " 50.108108108108105,\n",
       " 50.181717451523546,\n",
       " 49.713235294117645,\n",
       " 50.182516810758884,\n",
       " 50.191646191646193,\n",
       " 49.808322824716271,\n",
       " 50.035658914728685,\n",
       " 49.804971319311662,\n",
       " 49.949433962264152,\n",
       " 49.731788079470199,\n",
       " 50.103658536585364,\n",
       " 49.963696369636963,\n",
       " 50.017876489707476,\n",
       " 49.922980588603629,\n",
       " 49.934231805929919,\n",
       " 49.880208333333336,\n",
       " 50.215827338129493,\n",
       " 50.040473225404732,\n",
       " 50.37544696066746,\n",
       " 50.008579088471848,\n",
       " 49.865973072215425,\n",
       " 49.952622673434853,\n",
       " 49.815878378378379,\n",
       " 50.073236889692588,\n",
       " 50.0387323943662,\n",
       " 50.104410441044102,\n",
       " 50.201970443349751,\n",
       " 50.011235955056179,\n",
       " 49.391304347826086,\n",
       " 49.981432360742708,\n",
       " 50.335266821345705,\n",
       " 49.9973544973545,\n",
       " 49.561497326203209,\n",
       " 50.023978685612789,\n",
       " 49.917475728155338,\n",
       " 50.209567198177673,\n",
       " 49.752717391304351,\n",
       " 49.989728096676735,\n",
       " 49.948571428571427,\n",
       " 50.032097004279599,\n",
       " 50.186752529898804,\n",
       " 49.990566037735846,\n",
       " 49.697115384615387,\n",
       " 49.99583550234253,\n",
       " 50.018150388936903,\n",
       " 50.266497461928935,\n",
       " 50.219168428470752,\n",
       " 49.902206320810969,\n",
       " 49.866209262435675,\n",
       " 50.117507418397629,\n",
       " 49.878830083565461,\n",
       " 49.786567164179104,\n",
       " 49.989864864864863,\n",
       " 50.00971867007673,\n",
       " 50.0719794344473,\n",
       " 49.778287461773701,\n",
       " 49.797311271975182,\n",
       " 50.045454545454547,\n",
       " 49.992469879518069,\n",
       " 49.689368770764119,\n",
       " 50.05797101449275,\n",
       " 50.113684210526316,\n",
       " 49.917954815695602,\n",
       " 50.105171411969785,\n",
       " 50.145558739255016,\n",
       " 49.724604966139957,\n",
       " 50.071644803229063,\n",
       " 49.94386574074074,\n",
       " 49.937639198218264,\n",
       " 50.128205128205131,\n",
       " 49.979899497487438,\n",
       " 50.269628099173552,\n",
       " 50.123980424143554,\n",
       " 50.015509103169251,\n",
       " 50.120114942528737,\n",
       " 49.872487076392879,\n",
       " 50.071583514099785,\n",
       " 50.32102081934184,\n",
       " 50.06666666666667,\n",
       " 49.920326864147086,\n",
       " 49.892733564013838,\n",
       " 50.240000000000002,\n",
       " 50.01417004048583,\n",
       " 50.00672947510094,\n",
       " 50.152744630071602,\n",
       " 50.022312373225155,\n",
       " 49.737373737373737,\n",
       " 50.214765100671144,\n",
       " 50.10891089108911,\n",
       " 50.194701986754964,\n",
       " 50.118842845973418,\n",
       " 4.4059287837646624e+43,\n",
       " 4.5678217609886296e+43,\n",
       " 4.9361286856147884e+43,\n",
       " 4.6377276356275516e+43,\n",
       " 8.1113707761721015e+43,\n",
       " 5.0718454155953105e+43,\n",
       " 4.4273089294082359e+43,\n",
       " 4.7087895226762664e+43,\n",
       " 4.3991574335656104e+43,\n",
       " 4.7723705960088116e+43,\n",
       " 4.3435155259769739e+43,\n",
       " 4.5850787128183329e+43,\n",
       " 4.6919056775029453e+43,\n",
       " 4.2159630308922653e+43,\n",
       " 4.2605026295780932e+43,\n",
       " 4.6783085023647685e+43,\n",
       " 4.3076539668583616e+43,\n",
       " 4.6724405324671209e+43,\n",
       " 4.1882851205029766e+43,\n",
       " 4.2118130265660709e+43,\n",
       " 4.0464164070767999e+43,\n",
       " 4.2375111029312881e+43,\n",
       " 4.6157459918067163e+43,\n",
       " 4.3418711155481621e+43,\n",
       " 4.1345982850288708e+43,\n",
       " 4.4271397046281877e+43,\n",
       " 4.2966268661647831e+43,\n",
       " 4.3961039167591931e+43,\n",
       " 4.311573211925802e+43,\n",
       " 4.5641139766125187e+43,\n",
       " 4.5197658768339643e+43,\n",
       " 4.4083972164713765e+43,\n",
       " 4.1741632175609819e+43,\n",
       " 4.1361201918654615e+43,\n",
       " 4.4471900795966975e+43,\n",
       " 4.6797389261191503e+43,\n",
       " 3.9422982790817035e+43,\n",
       " 4.4442565676903845e+43,\n",
       " 4.3594846382801117e+43,\n",
       " 4.4342442146910244e+43,\n",
       " 4.3648765196850275e+43,\n",
       " 4.2697821046700777e+43,\n",
       " 4.4985225684880156e+43,\n",
       " 4.5074207571899844e+43,\n",
       " 4.1896859351642224e+43,\n",
       " 4.3170312794087288e+43,\n",
       " 4.5843058511191579e+43,\n",
       " 4.6477634534817261e+43,\n",
       " 4.4195360709687493e+43,\n",
       " 4.4892801181220574e+43,\n",
       " 4.5318786552037924e+43,\n",
       " 4.2431957944578186e+43,\n",
       " 4.4006201025768234e+43,\n",
       " 4.2833738995033971e+43,\n",
       " 4.2296422533129662e+43,\n",
       " 4.3002523203226806e+43,\n",
       " 4.5308351545881773e+43,\n",
       " 4.5380050321846916e+43,\n",
       " 4.5121799603229139e+43,\n",
       " 4.3924744684628735e+43,\n",
       " 4.098493099756809e+43,\n",
       " 4.3640035986226966e+43,\n",
       " 4.4554776090661126e+43,\n",
       " 4.5289346889456431e+43,\n",
       " 4.5554062390068942e+43,\n",
       " 4.4600090943217877e+43,\n",
       " 4.5800006842733497e+43,\n",
       " 4.2803703088777495e+43,\n",
       " 4.3215403693427739e+43,\n",
       " 5.029796797050591e+43,\n",
       " 4.5537025366622269e+43,\n",
       " 4.7169889660704575e+43,\n",
       " 4.2481739603557548e+43,\n",
       " 4.4458233187412679e+43,\n",
       " 4.7931100842039027e+43,\n",
       " 4.5183969693971752e+43,\n",
       " 4.8748097192262068e+43,\n",
       " 4.2466151015778393e+43,\n",
       " 4.4222824332709664e+43,\n",
       " 4.0082537562892277e+43,\n",
       " 4.2490394275399208e+43,\n",
       " 4.7081228449070222e+43,\n",
       " 4.6207754804906325e+43,\n",
       " 4.3456876452333861e+43,\n",
       " 4.4875028255357071e+43,\n",
       " 4.2515223865258713e+43,\n",
       " 4.7134757614032272e+43,\n",
       " 4.524202063437816e+43,\n",
       " 4.670664105133414e+43,\n",
       " 4.0459684053134677e+43,\n",
       " 4.2131368390954503e+43,\n",
       " 4.1464028205478956e+43,\n",
       " 4.3766606940939626e+43,\n",
       " 4.3248936578226714e+43,\n",
       " 4.3523395689874978e+43,\n",
       " 4.5399931583183165e+43,\n",
       " 4.4306503989652894e+43,\n",
       " 4.4853729872397297e+43,\n",
       " 4.809403287628212e+43,\n",
       " 4.5414538500837858e+43,\n",
       " 100.00679724416824,\n",
       " 99.989601084024997,\n",
       " 99.941628811028153,\n",
       " 99.996260859528022,\n",
       " 100.06762222816266,\n",
       " 99.758705558290202,\n",
       " 100.00761304095728,\n",
       " 100.0409256089027,\n",
       " 99.991111853204956,\n",
       " 99.988295832666566,\n",
       " 100.00046452114569,\n",
       " 99.94353152396198,\n",
       " 99.996072549533892,\n",
       " 99.97312282510309,\n",
       " 100.04335666078336,\n",
       " 99.999728142494646,\n",
       " 99.996086610205424,\n",
       " 100.00072660631949,\n",
       " 99.957116161042862,\n",
       " 100.00787220623411,\n",
       " 99.994704709683432,\n",
       " 100.00404749287753,\n",
       " 99.945303193727639,\n",
       " 100.0254637333224,\n",
       " 100.01479198024886,\n",
       " 100.02588334713094,\n",
       " 100.02426264738266,\n",
       " 100.08058115273998,\n",
       " 100.01726217979476,\n",
       " 100.02189275388854,\n",
       " 99.99280815164586,\n",
       " 100.0640108528992,\n",
       " 99.998494007176447,\n",
       " 100.04628393556419,\n",
       " 99.977748602243537,\n",
       " 100.01702292209032,\n",
       " 100.10294483458323,\n",
       " 100.0780690239925,\n",
       " 99.97805979010873,\n",
       " 99.976398951072426,\n",
       " 99.944837449206673,\n",
       " 99.95830547319386,\n",
       " 99.992749592468115,\n",
       " 99.9365717117782,\n",
       " 99.984226544644187,\n",
       " 99.964638518000868,\n",
       " 100.00837092481071,\n",
       " 100.00452014011799,\n",
       " 99.994269666559362,\n",
       " 99.995230529176084,\n",
       " 100.00620980174875,\n",
       " 99.965313255055207,\n",
       " 99.955351407788157,\n",
       " 99.964002332324327,\n",
       " 99.991612878017122,\n",
       " 99.98741670011762,\n",
       " 100.00455212091649,\n",
       " 99.997906969776224,\n",
       " 100.02998479156275,\n",
       " 99.975409204428431,\n",
       " 99.963858585978286,\n",
       " 99.984519896633628,\n",
       " 99.969764476521874,\n",
       " 100.01135562440625,\n",
       " 100.01277701541494,\n",
       " 100.00383109912929,\n",
       " 99.960680066907415,\n",
       " 99.941574125168316,\n",
       " 100.04275435978653,\n",
       " 100.02067234346997,\n",
       " 100.04835521644353,\n",
       " 100.01221886971318,\n",
       " 100.02450029483049,\n",
       " 100.00711634435454,\n",
       " 100.09569219471148,\n",
       " 100.03215862062497,\n",
       " 100.01227811747066,\n",
       " 99.957794565607855,\n",
       " 99.991607674412634,\n",
       " 99.902251723859578,\n",
       " 99.99535652521196,\n",
       " 100.02967454892385,\n",
       " 100.04665220344693,\n",
       " 100.005361545477,\n",
       " 99.984094087861621,\n",
       " 100.02225387722332,\n",
       " 99.997957731151132,\n",
       " 100.02577750979665,\n",
       " 99.9439923116188,\n",
       " 100.02970755205973,\n",
       " 99.952674696228499,\n",
       " 99.997022420620979,\n",
       " 99.995182169050224,\n",
       " 100.03549995277214,\n",
       " 99.990811041227147,\n",
       " 99.946193925873146,\n",
       " 100.01671621519775,\n",
       " 99.958405491292396,\n",
       " 100.01133666334489,\n",
       " 99.993573406068947]"
      ]
     },
     "execution_count": 51,
     "metadata": {},
     "output_type": "execute_result"
    }
   ],
   "source": [
    "l_all=[]\n",
    "for i in md:\n",
    "    print(i)\n",
    "    l_all+=(list(md[i]['means'].values()))\n",
    "#     break\n",
    "l_all\n",
    "    "
   ]
  },
  {
   "cell_type": "code",
   "execution_count": 52,
   "metadata": {},
   "outputs": [
    {
     "data": {
      "text/plain": [
       "500"
      ]
     },
     "execution_count": 52,
     "metadata": {},
     "output_type": "execute_result"
    }
   ],
   "source": [
    "len(l_all)"
   ]
  },
  {
   "cell_type": "code",
   "execution_count": 54,
   "metadata": {},
   "outputs": [
    {
     "data": {
      "text/plain": [
       "(array([ 400.,    0.,    0.,    0.,    0.,    0.,    0.,    0.,    0.,\n",
       "           0.,    0.,    0.,    0.,    0.,    4.,   28.,   47.,   16.,\n",
       "           4.,    0.,    0.,    0.,    0.,    0.,    0.,    0.,    0.,\n",
       "           0.,    0.,    1.]),\n",
       " array([  4.86666667e+01,   2.70379026e+42,   5.40758052e+42,\n",
       "          8.11137078e+42,   1.08151610e+43,   1.35189513e+43,\n",
       "          1.62227416e+43,   1.89265318e+43,   2.16303221e+43,\n",
       "          2.43341123e+43,   2.70379026e+43,   2.97416928e+43,\n",
       "          3.24454831e+43,   3.51492734e+43,   3.78530636e+43,\n",
       "          4.05568539e+43,   4.32606441e+43,   4.59644344e+43,\n",
       "          4.86682247e+43,   5.13720149e+43,   5.40758052e+43,\n",
       "          5.67795954e+43,   5.94833857e+43,   6.21871760e+43,\n",
       "          6.48909662e+43,   6.75947565e+43,   7.02985467e+43,\n",
       "          7.30023370e+43,   7.57061272e+43,   7.84099175e+43,\n",
       "          8.11137078e+43]),\n",
       " <a list of 30 Patch objects>)"
      ]
     },
     "execution_count": 54,
     "metadata": {},
     "output_type": "execute_result"
    },
    {
     "name": "stderr",
     "output_type": "stream",
     "text": [
      "/usr/local/Anaconda3-5.0.0-Linux-x86_64/envs/PUI2016_Python3/lib/python3.5/site-packages/matplotlib/font_manager.py:1316: UserWarning: findfont: Font family ['sans-serif'] not found. Falling back to DejaVu Sans\n",
      "  (prop.get_family(), self.defaultFamily[fontext]))\n"
     ]
    },
    {
     "data": {
      "image/png": "[encoded data removed]",
      "text/plain": [
       "<matplotlib.figure.Figure at 0x7f94ebbb7198>"
      ]
     },
     "metadata": {},
     "output_type": "display_data"
    }
   ],
   "source": [
    "mean=np.array(l_all).mean()\n",
    "std=np.array(l_all).std()\n",
    "pl.hist(l_all,bins=30)"
   ]
  },
  {
   "cell_type": "code",
   "execution_count": null,
   "metadata": {},
   "outputs": [],
   "source": []
  }
 ],
 "metadata": {
  "anaconda-cloud": {},
  "kernelspec": {
   "display_name": "PUI2016_Python3",
   "language": "python",
   "name": "pui2016_python3"
  },
  "language_info": {
   "codemirror_mode": {
    "name": "ipython",
    "version": 3
   },
   "file_extension": ".py",
   "mimetype": "text/x-python",
   "name": "python",
   "nbconvert_exporter": "python",
   "pygments_lexer": "ipython3",
   "version": "3.5.4"
  }
 },
 "nbformat": 4,
 "nbformat_minor": 2
}
