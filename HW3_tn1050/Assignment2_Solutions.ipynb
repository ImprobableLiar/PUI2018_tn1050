{
 "cells": [
  {
   "cell_type": "code",
   "execution_count": 1,
   "metadata": {},
   "outputs": [],
   "source": [
    "# example of gathering, reading, and plotting data\n",
    "# developed by FBB for PUI in 2018\n",
    "# uses NYC data portal NYC OPEN DATA https://data.cityofnewyork.us/"
   ]
  },
  {
   "cell_type": "code",
   "execution_count": 2,
   "metadata": {},
   "outputs": [],
   "source": [
    "from __future__ import print_function #for compatibility beteen python2 and python3\n",
    "\n",
    "# all other needed modules will be imported as they are needed. \n",
    "# I will leave them in the cell where they become relevant BUT  \n",
    "# PEP8 standards require to move them at the top cell, \n",
    "# so you must move your imports in this cell for the homework"
   ]
  },
  {
   "cell_type": "markdown",
   "metadata": {},
   "source": [
    "# Find data on the portal"
   ]
  },
  {
   "cell_type": "markdown",
   "metadata": {},
   "source": [
    " using DHS data on shelter population\n",
    " obtained with the following steps from the website \n",
    " \n",
    " https://opendata.cityofnewyork.us/ -> Data \n",
    " \n",
    " https://opendata.cityofnewyork.us/data/ -> Department of Homeless Services (DHS) (in data by agency)\n",
    " \n",
    " https://data.cityofnewyork.us/browse?Dataset-Information_Agency=Department+of+Homeless+Services+%28DHS%29\n",
    " -> DHS daily report\n",
    " \n",
    " https://data.cityofnewyork.us/Social-Services/DHS-Daily-Report/k46n-sa2m -> View Data \n",
    " \n",
    " https://data.cityofnewyork.us/Social-Services/DHS-Daily-Report/k46n-sa2m/data -> Export\n",
    " \n",
    " this gives me various links. I copy and paste below the CSV link"
   ]
  },
  {
   "cell_type": "markdown",
   "metadata": {},
   "source": [
    "# solution 1: download from the portal \n",
    "\n"
   ]
  },
  {
   "cell_type": "code",
   "execution_count": 32,
   "metadata": {},
   "outputs": [
    {
     "name": "stdout",
     "output_type": "stream",
     "text": [
      "  % Total    % Received % Xferd  Average Speed   Time    Time     Time  Current\n",
      "                                 Dload  Upload   Total   Spent    Left  Speed\n",
      "100  730k    0  730k    0     0  1163k      0 --:--:-- --:--:-- --:--:-- 1161k\n"
     ]
    }
   ],
   "source": [
    "!curl https://data.cityofnewyork.us/api/views/hg8x-zxpr/rows.csv?accessType=DOWNLOAD > housing.csv"
   ]
  },
  {
   "cell_type": "code",
   "execution_count": 33,
   "metadata": {},
   "outputs": [
    {
     "name": "stdout",
     "output_type": "stream",
     "text": [
      "PUIdata /Users/tanyanabila/Documents/study/NYU-2018/PUI2018/PUIdata\n"
     ]
    }
   ],
   "source": [
    "# ove the downloaded data to PUI data\n",
    "import os\n",
    "print(\"PUIdata\", os.getenv(\"PUIDATA\"))"
   ]
  },
  {
   "cell_type": "code",
   "execution_count": 34,
   "metadata": {},
   "outputs": [
    {
     "name": "stdout",
     "output_type": "stream",
     "text": [
      "PUIdata /Users/tanyanabila/Documents/study/NYU-2018/PUI2018/PUIdata\n"
     ]
    }
   ],
   "source": [
    "#create the env variable if missing\n",
    "os.environ[\"PUIDATA\"] = \"%s/Documents/study/NYU-2018/PUI2018/PUIdata\"%os.getenv(\"HOME\")\n",
    "\n",
    "print(\"PUIdata\", os.getenv(\"PUIDATA\"))"
   ]
  },
  {
   "cell_type": "code",
   "execution_count": 35,
   "metadata": {},
   "outputs": [],
   "source": [
    "# move the data\n",
    "!mv housing.csv $PUIDATA"
   ]
  },
  {
   "cell_type": "code",
   "execution_count": 36,
   "metadata": {},
   "outputs": [
    {
     "name": "stdout",
     "output_type": "stream",
     "text": [
      "housing.csv\n"
     ]
    }
   ],
   "source": [
    "#test if the data is there\n",
    "!ls $PUIDATA"
   ]
  },
  {
   "cell_type": "markdown",
   "metadata": {},
   "source": [
    "## read in the data with pandas"
   ]
  },
  {
   "cell_type": "code",
   "execution_count": 37,
   "metadata": {},
   "outputs": [],
   "source": [
    "#read in the data with pandas\n",
    "import pandas as pd\n",
    "df = pd.read_csv(\"%s/housing.csv\"%os.getenv(\"PUIDATA\"))"
   ]
  },
  {
   "cell_type": "code",
   "execution_count": 38,
   "metadata": {},
   "outputs": [
    {
     "data": {
      "text/html": [
       "<div>\n",
       "<style scoped>\n",
       "    .dataframe tbody tr th:only-of-type {\n",
       "        vertical-align: middle;\n",
       "    }\n",
       "\n",
       "    .dataframe tbody tr th {\n",
       "        vertical-align: top;\n",
       "    }\n",
       "\n",
       "    .dataframe thead th {\n",
       "        text-align: right;\n",
       "    }\n",
       "</style>\n",
       "<table border=\"1\" class=\"dataframe\">\n",
       "  <thead>\n",
       "    <tr style=\"text-align: right;\">\n",
       "      <th></th>\n",
       "      <th>Project ID</th>\n",
       "      <th>Project Name</th>\n",
       "      <th>Project Start Date</th>\n",
       "      <th>Project Completion Date</th>\n",
       "      <th>Building ID</th>\n",
       "      <th>Number</th>\n",
       "      <th>Street</th>\n",
       "      <th>Borough</th>\n",
       "      <th>Postcode</th>\n",
       "      <th>BBL</th>\n",
       "      <th>...</th>\n",
       "      <th>2-BR Units</th>\n",
       "      <th>3-BR Units</th>\n",
       "      <th>4-BR Units</th>\n",
       "      <th>5-BR Units</th>\n",
       "      <th>6-BR+ Units</th>\n",
       "      <th>Unknown-BR Units</th>\n",
       "      <th>Counted Rental Units</th>\n",
       "      <th>Counted Homeownership Units</th>\n",
       "      <th>All Counted Units</th>\n",
       "      <th>Total Units</th>\n",
       "    </tr>\n",
       "  </thead>\n",
       "  <tbody>\n",
       "    <tr>\n",
       "      <th>0</th>\n",
       "      <td>51867</td>\n",
       "      <td>THE ROBESON</td>\n",
       "      <td>06/29/2018</td>\n",
       "      <td>NaN</td>\n",
       "      <td>927152.0</td>\n",
       "      <td>407</td>\n",
       "      <td>LENOX AVENUE</td>\n",
       "      <td>Manhattan</td>\n",
       "      <td>10037.0</td>\n",
       "      <td>1.019150e+09</td>\n",
       "      <td>...</td>\n",
       "      <td>32</td>\n",
       "      <td>6</td>\n",
       "      <td>0</td>\n",
       "      <td>0</td>\n",
       "      <td>0</td>\n",
       "      <td>0</td>\n",
       "      <td>79</td>\n",
       "      <td>0</td>\n",
       "      <td>79</td>\n",
       "      <td>79</td>\n",
       "    </tr>\n",
       "    <tr>\n",
       "      <th>1</th>\n",
       "      <td>52986</td>\n",
       "      <td>ESSIE  JEFFRIES APARTMENTS HDFC.HUDMF.FY18</td>\n",
       "      <td>06/29/2018</td>\n",
       "      <td>NaN</td>\n",
       "      <td>5738.0</td>\n",
       "      <td>1990</td>\n",
       "      <td>AMSTERDAM AVENUE</td>\n",
       "      <td>Manhattan</td>\n",
       "      <td>10032.0</td>\n",
       "      <td>1.021170e+09</td>\n",
       "      <td>...</td>\n",
       "      <td>15</td>\n",
       "      <td>5</td>\n",
       "      <td>5</td>\n",
       "      <td>0</td>\n",
       "      <td>0</td>\n",
       "      <td>0</td>\n",
       "      <td>25</td>\n",
       "      <td>0</td>\n",
       "      <td>25</td>\n",
       "      <td>25</td>\n",
       "    </tr>\n",
       "    <tr>\n",
       "      <th>2</th>\n",
       "      <td>52986</td>\n",
       "      <td>ESSIE  JEFFRIES APARTMENTS HDFC.HUDMF.FY18</td>\n",
       "      <td>06/29/2018</td>\n",
       "      <td>NaN</td>\n",
       "      <td>42862.0</td>\n",
       "      <td>531</td>\n",
       "      <td>WEST 160 STREET</td>\n",
       "      <td>Manhattan</td>\n",
       "      <td>10032.0</td>\n",
       "      <td>1.021190e+09</td>\n",
       "      <td>...</td>\n",
       "      <td>20</td>\n",
       "      <td>0</td>\n",
       "      <td>0</td>\n",
       "      <td>0</td>\n",
       "      <td>0</td>\n",
       "      <td>0</td>\n",
       "      <td>20</td>\n",
       "      <td>0</td>\n",
       "      <td>20</td>\n",
       "      <td>20</td>\n",
       "    </tr>\n",
       "    <tr>\n",
       "      <th>3</th>\n",
       "      <td>52986</td>\n",
       "      <td>ESSIE  JEFFRIES APARTMENTS HDFC.HUDMF.FY18</td>\n",
       "      <td>06/29/2018</td>\n",
       "      <td>NaN</td>\n",
       "      <td>42869.0</td>\n",
       "      <td>547</td>\n",
       "      <td>WEST 160 STREET</td>\n",
       "      <td>Manhattan</td>\n",
       "      <td>10032.0</td>\n",
       "      <td>1.021190e+09</td>\n",
       "      <td>...</td>\n",
       "      <td>20</td>\n",
       "      <td>0</td>\n",
       "      <td>0</td>\n",
       "      <td>0</td>\n",
       "      <td>0</td>\n",
       "      <td>0</td>\n",
       "      <td>20</td>\n",
       "      <td>0</td>\n",
       "      <td>20</td>\n",
       "      <td>20</td>\n",
       "    </tr>\n",
       "    <tr>\n",
       "      <th>4</th>\n",
       "      <td>54377</td>\n",
       "      <td>CONFIDENTIAL</td>\n",
       "      <td>06/29/2018</td>\n",
       "      <td>NaN</td>\n",
       "      <td>NaN</td>\n",
       "      <td>----</td>\n",
       "      <td>----</td>\n",
       "      <td>Brooklyn</td>\n",
       "      <td>NaN</td>\n",
       "      <td>NaN</td>\n",
       "      <td>...</td>\n",
       "      <td>14</td>\n",
       "      <td>12</td>\n",
       "      <td>0</td>\n",
       "      <td>0</td>\n",
       "      <td>0</td>\n",
       "      <td>0</td>\n",
       "      <td>50</td>\n",
       "      <td>0</td>\n",
       "      <td>50</td>\n",
       "      <td>50</td>\n",
       "    </tr>\n",
       "    <tr>\n",
       "      <th>5</th>\n",
       "      <td>59107</td>\n",
       "      <td>LA CABANA HOUSES</td>\n",
       "      <td>06/29/2018</td>\n",
       "      <td>NaN</td>\n",
       "      <td>328793.0</td>\n",
       "      <td>391</td>\n",
       "      <td>LORIMER STREET</td>\n",
       "      <td>Brooklyn</td>\n",
       "      <td>11206.0</td>\n",
       "      <td>3.030310e+09</td>\n",
       "      <td>...</td>\n",
       "      <td>15</td>\n",
       "      <td>35</td>\n",
       "      <td>0</td>\n",
       "      <td>0</td>\n",
       "      <td>0</td>\n",
       "      <td>0</td>\n",
       "      <td>71</td>\n",
       "      <td>0</td>\n",
       "      <td>71</td>\n",
       "      <td>71</td>\n",
       "    </tr>\n",
       "    <tr>\n",
       "      <th>6</th>\n",
       "      <td>59107</td>\n",
       "      <td>LA CABANA HOUSES</td>\n",
       "      <td>06/29/2018</td>\n",
       "      <td>NaN</td>\n",
       "      <td>328801.0</td>\n",
       "      <td>417</td>\n",
       "      <td>LORIMER STREET</td>\n",
       "      <td>Brooklyn</td>\n",
       "      <td>11206.0</td>\n",
       "      <td>3.030220e+09</td>\n",
       "      <td>...</td>\n",
       "      <td>9</td>\n",
       "      <td>23</td>\n",
       "      <td>0</td>\n",
       "      <td>0</td>\n",
       "      <td>0</td>\n",
       "      <td>0</td>\n",
       "      <td>48</td>\n",
       "      <td>0</td>\n",
       "      <td>48</td>\n",
       "      <td>48</td>\n",
       "    </tr>\n",
       "    <tr>\n",
       "      <th>7</th>\n",
       "      <td>59107</td>\n",
       "      <td>LA CABANA HOUSES</td>\n",
       "      <td>06/29/2018</td>\n",
       "      <td>NaN</td>\n",
       "      <td>380885.0</td>\n",
       "      <td>16</td>\n",
       "      <td>TEN EYCK STREET</td>\n",
       "      <td>Brooklyn</td>\n",
       "      <td>11206.0</td>\n",
       "      <td>3.030220e+09</td>\n",
       "      <td>...</td>\n",
       "      <td>9</td>\n",
       "      <td>23</td>\n",
       "      <td>0</td>\n",
       "      <td>0</td>\n",
       "      <td>0</td>\n",
       "      <td>0</td>\n",
       "      <td>48</td>\n",
       "      <td>0</td>\n",
       "      <td>48</td>\n",
       "      <td>48</td>\n",
       "    </tr>\n",
       "  </tbody>\n",
       "</table>\n",
       "<p>8 rows × 41 columns</p>\n",
       "</div>"
      ],
      "text/plain": [
       "   Project ID                                Project Name Project Start Date  \\\n",
       "0       51867                                 THE ROBESON         06/29/2018   \n",
       "1       52986  ESSIE  JEFFRIES APARTMENTS HDFC.HUDMF.FY18         06/29/2018   \n",
       "2       52986  ESSIE  JEFFRIES APARTMENTS HDFC.HUDMF.FY18         06/29/2018   \n",
       "3       52986  ESSIE  JEFFRIES APARTMENTS HDFC.HUDMF.FY18         06/29/2018   \n",
       "4       54377                                CONFIDENTIAL         06/29/2018   \n",
       "5       59107                            LA CABANA HOUSES         06/29/2018   \n",
       "6       59107                            LA CABANA HOUSES         06/29/2018   \n",
       "7       59107                            LA CABANA HOUSES         06/29/2018   \n",
       "\n",
       "  Project Completion Date  Building ID Number            Street    Borough  \\\n",
       "0                     NaN     927152.0    407      LENOX AVENUE  Manhattan   \n",
       "1                     NaN       5738.0   1990  AMSTERDAM AVENUE  Manhattan   \n",
       "2                     NaN      42862.0    531   WEST 160 STREET  Manhattan   \n",
       "3                     NaN      42869.0    547   WEST 160 STREET  Manhattan   \n",
       "4                     NaN          NaN   ----              ----   Brooklyn   \n",
       "5                     NaN     328793.0    391    LORIMER STREET   Brooklyn   \n",
       "6                     NaN     328801.0    417    LORIMER STREET   Brooklyn   \n",
       "7                     NaN     380885.0     16   TEN EYCK STREET   Brooklyn   \n",
       "\n",
       "   Postcode           BBL     ...      2-BR Units 3-BR Units  4-BR Units  \\\n",
       "0   10037.0  1.019150e+09     ...              32          6           0   \n",
       "1   10032.0  1.021170e+09     ...              15          5           5   \n",
       "2   10032.0  1.021190e+09     ...              20          0           0   \n",
       "3   10032.0  1.021190e+09     ...              20          0           0   \n",
       "4       NaN           NaN     ...              14         12           0   \n",
       "5   11206.0  3.030310e+09     ...              15         35           0   \n",
       "6   11206.0  3.030220e+09     ...               9         23           0   \n",
       "7   11206.0  3.030220e+09     ...               9         23           0   \n",
       "\n",
       "   5-BR Units 6-BR+ Units  Unknown-BR Units  Counted Rental Units  \\\n",
       "0           0           0                 0                    79   \n",
       "1           0           0                 0                    25   \n",
       "2           0           0                 0                    20   \n",
       "3           0           0                 0                    20   \n",
       "4           0           0                 0                    50   \n",
       "5           0           0                 0                    71   \n",
       "6           0           0                 0                    48   \n",
       "7           0           0                 0                    48   \n",
       "\n",
       "   Counted Homeownership Units  All Counted Units Total Units  \n",
       "0                            0                 79          79  \n",
       "1                            0                 25          25  \n",
       "2                            0                 20          20  \n",
       "3                            0                 20          20  \n",
       "4                            0                 50          50  \n",
       "5                            0                 71          71  \n",
       "6                            0                 48          48  \n",
       "7                            0                 48          48  \n",
       "\n",
       "[8 rows x 41 columns]"
      ]
     },
     "execution_count": 38,
     "metadata": {},
     "output_type": "execute_result"
    }
   ],
   "source": [
    "#print the fist 8 lines out\n",
    "df.head(8)"
   ]
  },
  {
   "cell_type": "code",
   "execution_count": 39,
   "metadata": {},
   "outputs": [
    {
     "data": {
      "text/html": [
       "<div>\n",
       "<style scoped>\n",
       "    .dataframe tbody tr th:only-of-type {\n",
       "        vertical-align: middle;\n",
       "    }\n",
       "\n",
       "    .dataframe tbody tr th {\n",
       "        vertical-align: top;\n",
       "    }\n",
       "\n",
       "    .dataframe thead th {\n",
       "        text-align: right;\n",
       "    }\n",
       "</style>\n",
       "<table border=\"1\" class=\"dataframe\">\n",
       "  <thead>\n",
       "    <tr style=\"text-align: right;\">\n",
       "      <th></th>\n",
       "      <th>Project ID</th>\n",
       "      <th>Project Name</th>\n",
       "      <th>Project Start Date</th>\n",
       "      <th>Project Completion Date</th>\n",
       "      <th>Building ID</th>\n",
       "      <th>Number</th>\n",
       "      <th>Street</th>\n",
       "      <th>Borough</th>\n",
       "      <th>Postcode</th>\n",
       "      <th>BBL</th>\n",
       "      <th>...</th>\n",
       "      <th>2-BR Units</th>\n",
       "      <th>3-BR Units</th>\n",
       "      <th>4-BR Units</th>\n",
       "      <th>5-BR Units</th>\n",
       "      <th>6-BR+ Units</th>\n",
       "      <th>Unknown-BR Units</th>\n",
       "      <th>Counted Rental Units</th>\n",
       "      <th>Counted Homeownership Units</th>\n",
       "      <th>All Counted Units</th>\n",
       "      <th>Total Units</th>\n",
       "    </tr>\n",
       "  </thead>\n",
       "  <tbody>\n",
       "    <tr>\n",
       "      <th>3284</th>\n",
       "      <td>57341</td>\n",
       "      <td>CONFIDENTIAL</td>\n",
       "      <td>01/10/2014</td>\n",
       "      <td>01/10/2014</td>\n",
       "      <td>NaN</td>\n",
       "      <td>----</td>\n",
       "      <td>----</td>\n",
       "      <td>Staten Island</td>\n",
       "      <td>NaN</td>\n",
       "      <td>NaN</td>\n",
       "      <td>...</td>\n",
       "      <td>0</td>\n",
       "      <td>0</td>\n",
       "      <td>0</td>\n",
       "      <td>0</td>\n",
       "      <td>0</td>\n",
       "      <td>1</td>\n",
       "      <td>0</td>\n",
       "      <td>1</td>\n",
       "      <td>1</td>\n",
       "      <td>1</td>\n",
       "    </tr>\n",
       "    <tr>\n",
       "      <th>3285</th>\n",
       "      <td>55647</td>\n",
       "      <td>CONFIDENTIAL</td>\n",
       "      <td>01/07/2014</td>\n",
       "      <td>01/07/2014</td>\n",
       "      <td>NaN</td>\n",
       "      <td>----</td>\n",
       "      <td>----</td>\n",
       "      <td>Brooklyn</td>\n",
       "      <td>NaN</td>\n",
       "      <td>NaN</td>\n",
       "      <td>...</td>\n",
       "      <td>0</td>\n",
       "      <td>0</td>\n",
       "      <td>0</td>\n",
       "      <td>0</td>\n",
       "      <td>0</td>\n",
       "      <td>1</td>\n",
       "      <td>0</td>\n",
       "      <td>1</td>\n",
       "      <td>1</td>\n",
       "      <td>1</td>\n",
       "    </tr>\n",
       "    <tr>\n",
       "      <th>3286</th>\n",
       "      <td>55759</td>\n",
       "      <td>CONFIDENTIAL</td>\n",
       "      <td>01/03/2014</td>\n",
       "      <td>01/03/2014</td>\n",
       "      <td>NaN</td>\n",
       "      <td>----</td>\n",
       "      <td>----</td>\n",
       "      <td>Queens</td>\n",
       "      <td>NaN</td>\n",
       "      <td>NaN</td>\n",
       "      <td>...</td>\n",
       "      <td>0</td>\n",
       "      <td>0</td>\n",
       "      <td>0</td>\n",
       "      <td>0</td>\n",
       "      <td>0</td>\n",
       "      <td>1</td>\n",
       "      <td>0</td>\n",
       "      <td>1</td>\n",
       "      <td>1</td>\n",
       "      <td>1</td>\n",
       "    </tr>\n",
       "  </tbody>\n",
       "</table>\n",
       "<p>3 rows × 41 columns</p>\n",
       "</div>"
      ],
      "text/plain": [
       "      Project ID  Project Name Project Start Date Project Completion Date  \\\n",
       "3284       57341  CONFIDENTIAL         01/10/2014              01/10/2014   \n",
       "3285       55647  CONFIDENTIAL         01/07/2014              01/07/2014   \n",
       "3286       55759  CONFIDENTIAL         01/03/2014              01/03/2014   \n",
       "\n",
       "      Building ID Number Street        Borough  Postcode  BBL     ...      \\\n",
       "3284          NaN   ----   ----  Staten Island       NaN  NaN     ...       \n",
       "3285          NaN   ----   ----       Brooklyn       NaN  NaN     ...       \n",
       "3286          NaN   ----   ----         Queens       NaN  NaN     ...       \n",
       "\n",
       "      2-BR Units 3-BR Units  4-BR Units  5-BR Units 6-BR+ Units  \\\n",
       "3284           0          0           0           0           0   \n",
       "3285           0          0           0           0           0   \n",
       "3286           0          0           0           0           0   \n",
       "\n",
       "      Unknown-BR Units  Counted Rental Units  Counted Homeownership Units  \\\n",
       "3284                 1                     0                            1   \n",
       "3285                 1                     0                            1   \n",
       "3286                 1                     0                            1   \n",
       "\n",
       "      All Counted Units Total Units  \n",
       "3284                  1           1  \n",
       "3285                  1           1  \n",
       "3286                  1           1  \n",
       "\n",
       "[3 rows x 41 columns]"
      ]
     },
     "execution_count": 39,
     "metadata": {},
     "output_type": "execute_result"
    }
   ],
   "source": [
    "#print the last 3 lines out\n",
    "df.tail(3)"
   ]
  },
  {
   "cell_type": "code",
   "execution_count": 40,
   "metadata": {},
   "outputs": [
    {
     "data": {
      "text/plain": [
       "Index(['Project ID', 'Project Name', 'Project Start Date',\n",
       "       'Project Completion Date', 'Building ID', 'Number', 'Street', 'Borough',\n",
       "       'Postcode', 'BBL', 'BIN', 'Community Board', 'Council District',\n",
       "       'Census Tract', 'NTA - Neighborhood Tabulation Area', 'Latitude',\n",
       "       'Longitude', 'Latitude (Internal)', 'Longitude (Internal)',\n",
       "       'Building Completion Date', 'Reporting Construction Type',\n",
       "       'Extended Affordability Only', 'Prevailing Wage Status',\n",
       "       'Extremely Low Income Units', 'Very Low Income Units',\n",
       "       'Low Income Units', 'Moderate Income Units', 'Middle Income Units',\n",
       "       'Other Income Units', 'Studio Units', '1-BR Units', '2-BR Units',\n",
       "       '3-BR Units', '4-BR Units', '5-BR Units', '6-BR+ Units',\n",
       "       'Unknown-BR Units', 'Counted Rental Units',\n",
       "       'Counted Homeownership Units', 'All Counted Units', 'Total Units'],\n",
       "      dtype='object')"
      ]
     },
     "execution_count": 40,
     "metadata": {},
     "output_type": "execute_result"
    }
   ],
   "source": [
    "#look at the columns available, those are the variables\n",
    "df.columns"
   ]
  },
  {
   "cell_type": "code",
   "execution_count": 41,
   "metadata": {},
   "outputs": [
    {
     "data": {
      "text/plain": [
       "134767"
      ]
     },
     "execution_count": 41,
     "metadata": {},
     "output_type": "execute_result"
    }
   ],
   "source": [
    "#count how many rows, those are the data points\n",
    "df.size"
   ]
  },
  {
   "cell_type": "code",
   "execution_count": 42,
   "metadata": {},
   "outputs": [],
   "source": [
    "#select 2 columns only for plotting\n",
    "df_2c = df[['Extremely Low Income Units', 'Studio Units']]"
   ]
  },
  {
   "cell_type": "code",
   "execution_count": 43,
   "metadata": {},
   "outputs": [
    {
     "data": {
      "text/html": [
       "<div>\n",
       "<style scoped>\n",
       "    .dataframe tbody tr th:only-of-type {\n",
       "        vertical-align: middle;\n",
       "    }\n",
       "\n",
       "    .dataframe tbody tr th {\n",
       "        vertical-align: top;\n",
       "    }\n",
       "\n",
       "    .dataframe thead th {\n",
       "        text-align: right;\n",
       "    }\n",
       "</style>\n",
       "<table border=\"1\" class=\"dataframe\">\n",
       "  <thead>\n",
       "    <tr style=\"text-align: right;\">\n",
       "      <th></th>\n",
       "      <th>Extremely Low Income Units</th>\n",
       "      <th>Studio Units</th>\n",
       "    </tr>\n",
       "  </thead>\n",
       "  <tbody>\n",
       "    <tr>\n",
       "      <th>0</th>\n",
       "      <td>0</td>\n",
       "      <td>16</td>\n",
       "    </tr>\n",
       "    <tr>\n",
       "      <th>1</th>\n",
       "      <td>20</td>\n",
       "      <td>0</td>\n",
       "    </tr>\n",
       "    <tr>\n",
       "      <th>2</th>\n",
       "      <td>6</td>\n",
       "      <td>0</td>\n",
       "    </tr>\n",
       "    <tr>\n",
       "      <th>3</th>\n",
       "      <td>4</td>\n",
       "      <td>0</td>\n",
       "    </tr>\n",
       "    <tr>\n",
       "      <th>4</th>\n",
       "      <td>1</td>\n",
       "      <td>11</td>\n",
       "    </tr>\n",
       "  </tbody>\n",
       "</table>\n",
       "</div>"
      ],
      "text/plain": [
       "   Extremely Low Income Units  Studio Units\n",
       "0                           0            16\n",
       "1                          20             0\n",
       "2                           6             0\n",
       "3                           4             0\n",
       "4                           1            11"
      ]
     },
     "execution_count": 43,
     "metadata": {},
     "output_type": "execute_result"
    }
   ],
   "source": [
    "df_2c.head()"
   ]
  },
  {
   "cell_type": "markdown",
   "metadata": {},
   "source": [
    "## plot the data"
   ]
  },
  {
   "cell_type": "code",
   "execution_count": 44,
   "metadata": {},
   "outputs": [
    {
     "data": {
      "text/plain": [
       "<matplotlib.axes._subplots.AxesSubplot at 0x11422b780>"
      ]
     },
     "execution_count": 44,
     "metadata": {},
     "output_type": "execute_result"
    },
    {
     "data": {
      "image/png": "[encoded data removed]",
      "text/plain": [
       "<Figure size 432x288 with 1 Axes>"
      ]
     },
     "metadata": {},
     "output_type": "display_data"
    }
   ],
   "source": [
    "df_2c.plot(x=\"Extremely Low Income Units\", y=\"Studio Units\")"
   ]
  },
  {
   "cell_type": "code",
   "execution_count": 45,
   "metadata": {},
   "outputs": [],
   "source": [
    "# wont show anything if i do not use the magic command to show plots in the notebook \n",
    "#(or use pl.show to pop up a window, but for the homework plots have to be embedded)"
   ]
  },
  {
   "cell_type": "code",
   "execution_count": 46,
   "metadata": {},
   "outputs": [
    {
     "name": "stdout",
     "output_type": "stream",
     "text": [
      "Populating the interactive namespace from numpy and matplotlib\n"
     ]
    }
   ],
   "source": [
    "%pylab inline"
   ]
  },
  {
   "cell_type": "code",
   "execution_count": 47,
   "metadata": {},
   "outputs": [
    {
     "data": {
      "image/png": "[encoded data removed]",
      "text/plain": [
       "<Figure size 432x288 with 1 Axes>"
      ]
     },
     "metadata": {},
     "output_type": "display_data"
    }
   ],
   "source": [
    "df_2c.plot(x=\"Extremely Low Income Units\", y=\"Studio Units\", kind='scatter');\n",
    "# every plot needs a caption that explains to the reader \n",
    "# 1) WHAT what the reader is loooking at and \n",
    "# 2) WHY why the reader is looking at it here in the analysis \n",
    "#      (in this case there is no why cause this plot is not part of an analysis)\n",
    "# 3) TAKE HOME what is the take home point for the plot in the analysis \n",
    "#      (also there is no take home point here cause we are not doind an analysis but you can point out interesting features)"
   ]
  },
  {
   "cell_type": "markdown",
   "metadata": {},
   "source": [
    "Figure 1: Number of Studio Units in each Project against the number of Extremely Low Income Units. Note that there is no specific pattern here.  "
   ]
  },
  {
   "cell_type": "markdown",
   "metadata": {},
   "source": [
    "# solution 2: Use API and download a json file"
   ]
  },
  {
   "cell_type": "markdown",
   "metadata": {},
   "source": [
    "from the dataset export link now go to -> SODA API and the the endpoint"
   ]
  },
  {
   "cell_type": "code",
   "execution_count": 19,
   "metadata": {},
   "outputs": [],
   "source": [
    "url = \"https://data.cityofnewyork.us/resource/q3m4-ttp3.json\""
   ]
  },
  {
   "cell_type": "code",
   "execution_count": 20,
   "metadata": {},
   "outputs": [],
   "source": [
    "#use the appropriatepandas function to read in the json file\n",
    "df = pd.read_json(url)"
   ]
  },
  {
   "cell_type": "code",
   "execution_count": 21,
   "metadata": {},
   "outputs": [
    {
     "data": {
      "text/html": [
       "<div>\n",
       "<style scoped>\n",
       "    .dataframe tbody tr th:only-of-type {\n",
       "        vertical-align: middle;\n",
       "    }\n",
       "\n",
       "    .dataframe tbody tr th {\n",
       "        vertical-align: top;\n",
       "    }\n",
       "\n",
       "    .dataframe thead th {\n",
       "        text-align: right;\n",
       "    }\n",
       "</style>\n",
       "<table border=\"1\" class=\"dataframe\">\n",
       "  <thead>\n",
       "    <tr style=\"text-align: right;\">\n",
       "      <th></th>\n",
       "      <th>_1_br_units</th>\n",
       "      <th>_2_br_units</th>\n",
       "      <th>_3_br_units</th>\n",
       "      <th>_4_br_units</th>\n",
       "      <th>_5_br_units</th>\n",
       "      <th>_6_br_units</th>\n",
       "      <th>all_counted_units</th>\n",
       "      <th>bbl</th>\n",
       "      <th>bin</th>\n",
       "      <th>borough</th>\n",
       "      <th>...</th>\n",
       "      <th>project_completion_date</th>\n",
       "      <th>project_id</th>\n",
       "      <th>project_name</th>\n",
       "      <th>project_start_date</th>\n",
       "      <th>reporting_construction_type</th>\n",
       "      <th>street_name</th>\n",
       "      <th>studio_units</th>\n",
       "      <th>total_units</th>\n",
       "      <th>unknown_br_units</th>\n",
       "      <th>very_low_income_units</th>\n",
       "    </tr>\n",
       "  </thead>\n",
       "  <tbody>\n",
       "    <tr>\n",
       "      <th>0</th>\n",
       "      <td>0</td>\n",
       "      <td>9</td>\n",
       "      <td>0</td>\n",
       "      <td>0</td>\n",
       "      <td>0</td>\n",
       "      <td>0</td>\n",
       "      <td>9</td>\n",
       "      <td>1.003930e+09</td>\n",
       "      <td>1004876.0</td>\n",
       "      <td>Manhattan</td>\n",
       "      <td>...</td>\n",
       "      <td>2017-06-29T00:00:00.000</td>\n",
       "      <td>63845</td>\n",
       "      <td>LESPMHA HDFC</td>\n",
       "      <td>2017-06-29T00:00:00.000</td>\n",
       "      <td>Preservation</td>\n",
       "      <td>AVENUE B</td>\n",
       "      <td>0</td>\n",
       "      <td>9</td>\n",
       "      <td>0</td>\n",
       "      <td>5</td>\n",
       "    </tr>\n",
       "    <tr>\n",
       "      <th>1</th>\n",
       "      <td>1</td>\n",
       "      <td>2</td>\n",
       "      <td>0</td>\n",
       "      <td>0</td>\n",
       "      <td>0</td>\n",
       "      <td>0</td>\n",
       "      <td>3</td>\n",
       "      <td>3.034350e+09</td>\n",
       "      <td>3079751.0</td>\n",
       "      <td>Brooklyn</td>\n",
       "      <td>...</td>\n",
       "      <td>2017-10-04T00:00:00.000</td>\n",
       "      <td>65132</td>\n",
       "      <td>1238 DECATUR STREET</td>\n",
       "      <td>2014-12-17T00:00:00.000</td>\n",
       "      <td>New Construction</td>\n",
       "      <td>DECATUR STREET</td>\n",
       "      <td>0</td>\n",
       "      <td>15</td>\n",
       "      <td>0</td>\n",
       "      <td>0</td>\n",
       "    </tr>\n",
       "    <tr>\n",
       "      <th>2</th>\n",
       "      <td>3</td>\n",
       "      <td>3</td>\n",
       "      <td>0</td>\n",
       "      <td>0</td>\n",
       "      <td>0</td>\n",
       "      <td>0</td>\n",
       "      <td>6</td>\n",
       "      <td>3.018240e+09</td>\n",
       "      <td>3051695.0</td>\n",
       "      <td>Brooklyn</td>\n",
       "      <td>...</td>\n",
       "      <td>NaN</td>\n",
       "      <td>58589</td>\n",
       "      <td>Madison EDJ LLC</td>\n",
       "      <td>2016-06-29T00:00:00.000</td>\n",
       "      <td>Preservation</td>\n",
       "      <td>PUTNAM AVENUE</td>\n",
       "      <td>0</td>\n",
       "      <td>6</td>\n",
       "      <td>0</td>\n",
       "      <td>0</td>\n",
       "    </tr>\n",
       "  </tbody>\n",
       "</table>\n",
       "<p>3 rows × 41 columns</p>\n",
       "</div>"
      ],
      "text/plain": [
       "   _1_br_units  _2_br_units  _3_br_units  _4_br_units  _5_br_units  \\\n",
       "0            0            9            0            0            0   \n",
       "1            1            2            0            0            0   \n",
       "2            3            3            0            0            0   \n",
       "\n",
       "   _6_br_units  all_counted_units           bbl        bin    borough  \\\n",
       "0            0                  9  1.003930e+09  1004876.0  Manhattan   \n",
       "1            0                  3  3.034350e+09  3079751.0   Brooklyn   \n",
       "2            0                  6  3.018240e+09  3051695.0   Brooklyn   \n",
       "\n",
       "           ...           project_completion_date  project_id  \\\n",
       "0          ...           2017-06-29T00:00:00.000       63845   \n",
       "1          ...           2017-10-04T00:00:00.000       65132   \n",
       "2          ...                               NaN       58589   \n",
       "\n",
       "          project_name       project_start_date  reporting_construction_type  \\\n",
       "0         LESPMHA HDFC  2017-06-29T00:00:00.000                 Preservation   \n",
       "1  1238 DECATUR STREET  2014-12-17T00:00:00.000             New Construction   \n",
       "2      Madison EDJ LLC  2016-06-29T00:00:00.000                 Preservation   \n",
       "\n",
       "      street_name  studio_units total_units  unknown_br_units  \\\n",
       "0        AVENUE B             0           9                 0   \n",
       "1  DECATUR STREET             0          15                 0   \n",
       "2   PUTNAM AVENUE             0           6                 0   \n",
       "\n",
       "  very_low_income_units  \n",
       "0                     5  \n",
       "1                     0  \n",
       "2                     0  \n",
       "\n",
       "[3 rows x 41 columns]"
      ]
     },
     "execution_count": 21,
     "metadata": {},
     "output_type": "execute_result"
    }
   ],
   "source": [
    "# print it out\n",
    "df.head(3)"
   ]
  },
  {
   "cell_type": "code",
   "execution_count": 22,
   "metadata": {},
   "outputs": [
    {
     "data": {
      "text/plain": [
       "Index(['_1_br_units', '_2_br_units', '_3_br_units', '_4_br_units',\n",
       "       '_5_br_units', '_6_br_units', 'all_counted_units', 'bbl', 'bin',\n",
       "       'borough', 'building_completion_date', 'building_id', 'census_tract',\n",
       "       'community_board', 'council_district', 'counted_homeownership_units',\n",
       "       'counted_rental_units', 'extended_affordability_status',\n",
       "       'extremely_low_income_units', 'house_number', 'latitude',\n",
       "       'latitude_internal', 'longitude', 'longitude_internal',\n",
       "       'low_income_units', 'middle_income_units', 'moderate_income_units',\n",
       "       'neighborhood_tabulation_area', 'other_income_units', 'postcode',\n",
       "       'prevailing_wage_status', 'project_completion_date', 'project_id',\n",
       "       'project_name', 'project_start_date', 'reporting_construction_type',\n",
       "       'street_name', 'studio_units', 'total_units', 'unknown_br_units',\n",
       "       'very_low_income_units'],\n",
       "      dtype='object')"
      ]
     },
     "execution_count": 22,
     "metadata": {},
     "output_type": "execute_result"
    }
   ],
   "source": [
    "df.columns"
   ]
  },
  {
   "cell_type": "code",
   "execution_count": 23,
   "metadata": {},
   "outputs": [],
   "source": [
    "#now select a date and 2 variables\n",
    "df_3c = df[['project_start_date', 'extremely_low_income_units', 'total_units']]"
   ]
  },
  {
   "cell_type": "markdown",
   "metadata": {},
   "source": [
    "for consistency with the data above, I will change the names of the columns (variables) to be the same as before. This way the plots will come out with the same labels and legends"
   ]
  },
  {
   "cell_type": "code",
   "execution_count": null,
   "metadata": {},
   "outputs": [],
   "source": [
    "df_3c['project_start_date']=pd.to_datetime(df_3c['project_start_date'])"
   ]
  },
  {
   "cell_type": "code",
   "execution_count": 24,
   "metadata": {},
   "outputs": [
    {
     "name": "stderr",
     "output_type": "stream",
     "text": [
      "/Users/tanyanabila/Applications/miniconda3/lib/python3.6/site-packages/pandas/core/frame.py:3781: SettingWithCopyWarning: \n",
      "A value is trying to be set on a copy of a slice from a DataFrame\n",
      "\n",
      "See the caveats in the documentation: http://pandas.pydata.org/pandas-docs/stable/indexing.html#indexing-view-versus-copy\n",
      "  return super(DataFrame, self).rename(**kwargs)\n"
     ]
    }
   ],
   "source": [
    "df_3c.rename(columns = {'project_start_date':'Project Start Date', \n",
    "               'extremely_low_income_units':'Extremely Low Income Units', \n",
    "               'total_units': 'Total Units'}, inplace=True)"
   ]
  },
  {
   "cell_type": "code",
   "execution_count": 25,
   "metadata": {},
   "outputs": [
    {
     "data": {
      "text/html": [
       "<div>\n",
       "<style scoped>\n",
       "    .dataframe tbody tr th:only-of-type {\n",
       "        vertical-align: middle;\n",
       "    }\n",
       "\n",
       "    .dataframe tbody tr th {\n",
       "        vertical-align: top;\n",
       "    }\n",
       "\n",
       "    .dataframe thead th {\n",
       "        text-align: right;\n",
       "    }\n",
       "</style>\n",
       "<table border=\"1\" class=\"dataframe\">\n",
       "  <thead>\n",
       "    <tr style=\"text-align: right;\">\n",
       "      <th></th>\n",
       "      <th>Project Start Date</th>\n",
       "      <th>Extremely Low Income Units</th>\n",
       "      <th>Total Units</th>\n",
       "    </tr>\n",
       "  </thead>\n",
       "  <tbody>\n",
       "    <tr>\n",
       "      <th>0</th>\n",
       "      <td>2017-06-29T00:00:00.000</td>\n",
       "      <td>0</td>\n",
       "      <td>9</td>\n",
       "    </tr>\n",
       "    <tr>\n",
       "      <th>1</th>\n",
       "      <td>2014-12-17T00:00:00.000</td>\n",
       "      <td>0</td>\n",
       "      <td>15</td>\n",
       "    </tr>\n",
       "    <tr>\n",
       "      <th>2</th>\n",
       "      <td>2016-06-29T00:00:00.000</td>\n",
       "      <td>0</td>\n",
       "      <td>6</td>\n",
       "    </tr>\n",
       "    <tr>\n",
       "      <th>3</th>\n",
       "      <td>2016-06-22T00:00:00.000</td>\n",
       "      <td>135</td>\n",
       "      <td>385</td>\n",
       "    </tr>\n",
       "    <tr>\n",
       "      <th>4</th>\n",
       "      <td>2016-06-27T00:00:00.000</td>\n",
       "      <td>0</td>\n",
       "      <td>1</td>\n",
       "    </tr>\n",
       "  </tbody>\n",
       "</table>\n",
       "</div>"
      ],
      "text/plain": [
       "        Project Start Date  Extremely Low Income Units  Total Units\n",
       "0  2017-06-29T00:00:00.000                           0            9\n",
       "1  2014-12-17T00:00:00.000                           0           15\n",
       "2  2016-06-29T00:00:00.000                           0            6\n",
       "3  2016-06-22T00:00:00.000                         135          385\n",
       "4  2016-06-27T00:00:00.000                           0            1"
      ]
     },
     "execution_count": 25,
     "metadata": {},
     "output_type": "execute_result"
    }
   ],
   "source": [
    "df_3c.head()"
   ]
  },
  {
   "cell_type": "code",
   "execution_count": 26,
   "metadata": {},
   "outputs": [
    {
     "data": {
      "image/png": "[encoded data removed]",
      "text/plain": [
       "<Figure size 432x288 with 1 Axes>"
      ]
     },
     "metadata": {},
     "output_type": "display_data"
    }
   ],
   "source": [
    "#as a default this plot wont have a y label, but all plots must have axis labels!\n",
    "ax = df_3c.plot(x='Project Start Date', y='Total Units');\n",
    "ax.set_ylabel(\"Number\");"
   ]
  },
  {
   "cell_type": "markdown",
   "metadata": {},
   "source": [
    "i do not like the formatting of those dates so I will drom the timestamp overwriting the original column. \n",
    "for more info on baisc timestamp manipulation \n",
    "( no capation cause I am remaking this figure)\n"
   ]
  },
  {
   "cell_type": "code",
   "execution_count": 27,
   "metadata": {},
   "outputs": [
    {
     "name": "stderr",
     "output_type": "stream",
     "text": [
      "/Users/tanyanabila/Applications/miniconda3/lib/python3.6/site-packages/ipykernel_launcher.py:1: SettingWithCopyWarning: \n",
      "A value is trying to be set on a copy of a slice from a DataFrame.\n",
      "Try using .loc[row_indexer,col_indexer] = value instead\n",
      "\n",
      "See the caveats in the documentation: http://pandas.pydata.org/pandas-docs/stable/indexing.html#indexing-view-versus-copy\n",
      "  \"\"\"Entry point for launching an IPython kernel.\n"
     ]
    }
   ],
   "source": [
    "df_3c[\"Project Start Date\"] = df_3c[\"Project Start Date\"].apply(lambda x: pd.Timestamp(x))"
   ]
  },
  {
   "cell_type": "markdown",
   "metadata": {},
   "source": [
    "now that I am using timestamps (instead of strings as the data got read in form the json file) Pandas know to rotate the labels appropriately so I can drop rot=90"
   ]
  },
  {
   "cell_type": "code",
   "execution_count": 28,
   "metadata": {},
   "outputs": [
    {
     "data": {
      "image/png": "[encoded data removed]",
      "text/plain": [
       "<Figure size 432x288 with 1 Axes>"
      ]
     },
     "metadata": {},
     "output_type": "display_data"
    }
   ],
   "source": [
    "ax = df_3c.plot(x='Project Start Date', y='Total Units')\n",
    "ax.set_ylabel(\"Number\");"
   ]
  },
  {
   "cell_type": "markdown",
   "metadata": {},
   "source": [
    "Figure 2: the total number of units, affordable and market rate, in each building from January 2014 to July 2018"
   ]
  },
  {
   "cell_type": "code",
   "execution_count": 29,
   "metadata": {},
   "outputs": [
    {
     "data": {
      "image/png": "[encoded data removed]",
      "text/plain": [
       "<Figure size 432x288 with 1 Axes>"
      ]
     },
     "metadata": {},
     "output_type": "display_data"
    }
   ],
   "source": [
    "#plot the other columns\n",
    "ax = df_3c.plot(x='Project Start Date', y='Extremely Low Income Units')\n",
    "ax.set_ylabel(\"Number\");"
   ]
  },
  {
   "cell_type": "markdown",
   "metadata": {},
   "source": [
    "Figure 3: Extremely Low Income Units with rents that are affordable to households earning 0 to 30% of the area median income (AMI) from January 2014 to July 2018"
   ]
  },
  {
   "cell_type": "code",
   "execution_count": null,
   "metadata": {},
   "outputs": [],
   "source": []
  }
 ],
 "metadata": {
  "kernelspec": {
   "display_name": "Python 3",
   "language": "python",
   "name": "python3"
  },
  "language_info": {
   "codemirror_mode": {
    "name": "ipython",
    "version": 3
   },
   "file_extension": ".py",
   "mimetype": "text/x-python",
   "name": "python",
   "nbconvert_exporter": "python",
   "pygments_lexer": "ipython3",
   "version": "3.6.6"
  }
 },
 "nbformat": 4,
 "nbformat_minor": 2
}
