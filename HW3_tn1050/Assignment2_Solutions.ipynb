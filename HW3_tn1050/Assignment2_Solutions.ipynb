{
 "cells": [
  {
   "cell_type": "code",
   "execution_count": 1,
   "metadata": {},
   "outputs": [],
   "source": [
    "# example of gathering, reading, and plotting data\n",
    "# developed by FBB for PUI in 2018\n",
    "# uses NYC data portal NYC OPEN DATA https://data.cityofnewyork.us/"
   ]
  },
  {
   "cell_type": "code",
   "execution_count": 2,
   "metadata": {},
   "outputs": [],
   "source": [
    "from __future__ import print_function #for compatibility beteen python2 and python3\n",
    "\n",
    "# all other needed modules will be imported as they are needed. \n",
    "# I will leave them in the cell where they become relevant BUT  \n",
    "# PEP8 standards require to move them at the top cell, \n",
    "# so you must move your imports in this cell for the homework"
   ]
  },
  {
   "cell_type": "markdown",
   "metadata": {},
   "source": [
    "# Find data on the portal"
   ]
  },
  {
   "cell_type": "markdown",
   "metadata": {},
   "source": [
    " using DHS data on shelter population\n",
    " obtained with the following steps from the website \n",
    " \n",
    " https://opendata.cityofnewyork.us/ -> Data \n",
    " \n",
    " https://opendata.cityofnewyork.us/data/ -> Department of Homeless Services (DHS) (in data by agency)\n",
    " \n",
    " https://data.cityofnewyork.us/browse?Dataset-Information_Agency=Department+of+Homeless+Services+%28DHS%29\n",
    " -> DHS daily report\n",
    " \n",
    " https://data.cityofnewyork.us/Social-Services/DHS-Daily-Report/k46n-sa2m -> View Data \n",
    " \n",
    " https://data.cityofnewyork.us/Social-Services/DHS-Daily-Report/k46n-sa2m/data -> Export\n",
    " \n",
    " this gives me various links. I copy and paste below the CSV link"
   ]
  },
  {
   "cell_type": "markdown",
   "metadata": {},
   "source": [
    "# solution 1: download from the portal \n",
    "\n"
   ]
  },
  {
   "cell_type": "code",
<<<<<<< HEAD
   "execution_count": 32,
=======
   "execution_count": 8,
>>>>>>> c59c1ecab8eb076d93810ca6b4d80b07df454d2a
   "metadata": {},
   "outputs": [
    {
     "name": "stdout",
     "output_type": "stream",
     "text": [
      "  % Total    % Received % Xferd  Average Speed   Time    Time     Time  Current\n",
      "                                 Dload  Upload   Total   Spent    Left  Speed\n",
<<<<<<< HEAD
      "100  730k    0  730k    0     0  1163k      0 --:--:-- --:--:-- --:--:-- 1161k\n"
=======
      "100  730k    0  730k    0     0  1478k      0 --:--:-- --:--:-- --:--:-- 1479k\n"
>>>>>>> c59c1ecab8eb076d93810ca6b4d80b07df454d2a
     ]
    }
   ],
   "source": [
    "!curl https://data.cityofnewyork.us/api/views/hg8x-zxpr/rows.csv?accessType=DOWNLOAD > housing.csv"
   ]
  },
  {
   "cell_type": "code",
<<<<<<< HEAD
   "execution_count": 33,
=======
   "execution_count": 9,
   "metadata": {},
   "outputs": [
    {
     "name": "stdout",
     "output_type": "stream",
     "text": [
      "Assignment2_Solutions.ipynb  housing.csv  screenshots\n",
      "get_bus_info_tn1050.py\t     README.md\t  show_bus_locations_tn1050.py\n"
     ]
    }
   ],
   "source": [
    "!ls"
   ]
  },
  {
   "cell_type": "code",
   "execution_count": 10,
>>>>>>> c59c1ecab8eb076d93810ca6b4d80b07df454d2a
   "metadata": {},
   "outputs": [
    {
     "name": "stdout",
     "output_type": "stream",
     "text": [
<<<<<<< HEAD
      "PUIdata /Users/tanyanabila/Documents/study/NYU-2018/PUI2018/PUIdata\n"
=======
      "PUIdata /nfshome/tn1050/PUIdata\n"
>>>>>>> c59c1ecab8eb076d93810ca6b4d80b07df454d2a
     ]
    }
   ],
   "source": [
    "# ove the downloaded data to PUI data\n",
    "import os\n",
    "print(\"PUIdata\", os.getenv(\"PUIDATA\"))"
   ]
  },
  {
   "cell_type": "code",
<<<<<<< HEAD
   "execution_count": 34,
=======
   "execution_count": 11,
>>>>>>> c59c1ecab8eb076d93810ca6b4d80b07df454d2a
   "metadata": {},
   "outputs": [
    {
     "name": "stdout",
     "output_type": "stream",
     "text": [
<<<<<<< HEAD
      "PUIdata /Users/tanyanabila/Documents/study/NYU-2018/PUI2018/PUIdata\n"
=======
      "PUIdata /nfshome/tn1050/PUI2018/PUIdata\n"
>>>>>>> c59c1ecab8eb076d93810ca6b4d80b07df454d2a
     ]
    }
   ],
   "source": [
    "#create the env variable if missing\n",
<<<<<<< HEAD
    "os.environ[\"PUIDATA\"] = \"%s/PUIdata\"%os.getenv(\"HOME\")\n",
=======
    "os.environ[\"PUIDATA\"] = \"%s/PUI2018/PUIdata\"%os.getenv(\"HOME\")\n",
>>>>>>> c59c1ecab8eb076d93810ca6b4d80b07df454d2a
    "\n",
    "print(\"PUIdata\", os.getenv(\"PUIDATA\"))"
   ]
  },
  {
   "cell_type": "code",
<<<<<<< HEAD
   "execution_count": 35,
=======
   "execution_count": 12,
>>>>>>> c59c1ecab8eb076d93810ca6b4d80b07df454d2a
   "metadata": {},
   "outputs": [],
   "source": [
    "# move the data\n",
    "!mv housing.csv $PUIDATA"
   ]
  },
  {
   "cell_type": "code",
<<<<<<< HEAD
   "execution_count": 36,
=======
   "execution_count": 13,
>>>>>>> c59c1ecab8eb076d93810ca6b4d80b07df454d2a
   "metadata": {},
   "outputs": [
    {
     "name": "stdout",
     "output_type": "stream",
     "text": [
      "housing.csv\n"
     ]
    }
   ],
   "source": [
    "#test if the data is there\n",
    "!ls $PUIDATA"
   ]
  },
  {
   "cell_type": "markdown",
   "metadata": {},
   "source": [
    "## read in the data with pandas"
   ]
  },
  {
   "cell_type": "code",
<<<<<<< HEAD
   "execution_count": 37,
=======
   "execution_count": 14,
>>>>>>> c59c1ecab8eb076d93810ca6b4d80b07df454d2a
   "metadata": {},
   "outputs": [],
   "source": [
    "#read in the data with pandas\n",
    "import pandas as pd\n",
    "df = pd.read_csv(\"%s/housing.csv\"%os.getenv(\"PUIDATA\"))"
   ]
  },
  {
   "cell_type": "code",
<<<<<<< HEAD
   "execution_count": 38,
=======
   "execution_count": 15,
>>>>>>> c59c1ecab8eb076d93810ca6b4d80b07df454d2a
   "metadata": {},
   "outputs": [
    {
     "data": {
      "text/html": [
       "<div>\n",
<<<<<<< HEAD
       "<style scoped>\n",
       "    .dataframe tbody tr th:only-of-type {\n",
       "        vertical-align: middle;\n",
       "    }\n",
       "\n",
       "    .dataframe tbody tr th {\n",
       "        vertical-align: top;\n",
       "    }\n",
       "\n",
       "    .dataframe thead th {\n",
       "        text-align: right;\n",
       "    }\n",
       "</style>\n",
=======
>>>>>>> c59c1ecab8eb076d93810ca6b4d80b07df454d2a
       "<table border=\"1\" class=\"dataframe\">\n",
       "  <thead>\n",
       "    <tr style=\"text-align: right;\">\n",
       "      <th></th>\n",
       "      <th>Project ID</th>\n",
       "      <th>Project Name</th>\n",
       "      <th>Project Start Date</th>\n",
       "      <th>Project Completion Date</th>\n",
       "      <th>Building ID</th>\n",
       "      <th>Number</th>\n",
       "      <th>Street</th>\n",
       "      <th>Borough</th>\n",
       "      <th>Postcode</th>\n",
       "      <th>BBL</th>\n",
       "      <th>...</th>\n",
       "      <th>2-BR Units</th>\n",
       "      <th>3-BR Units</th>\n",
       "      <th>4-BR Units</th>\n",
       "      <th>5-BR Units</th>\n",
       "      <th>6-BR+ Units</th>\n",
       "      <th>Unknown-BR Units</th>\n",
       "      <th>Counted Rental Units</th>\n",
       "      <th>Counted Homeownership Units</th>\n",
       "      <th>All Counted Units</th>\n",
       "      <th>Total Units</th>\n",
       "    </tr>\n",
       "  </thead>\n",
       "  <tbody>\n",
       "    <tr>\n",
       "      <th>0</th>\n",
       "      <td>51867</td>\n",
       "      <td>THE ROBESON</td>\n",
       "      <td>06/29/2018</td>\n",
       "      <td>NaN</td>\n",
       "      <td>927152.0</td>\n",
       "      <td>407</td>\n",
       "      <td>LENOX AVENUE</td>\n",
       "      <td>Manhattan</td>\n",
       "      <td>10037.0</td>\n",
       "      <td>1.019150e+09</td>\n",
       "      <td>...</td>\n",
       "      <td>32</td>\n",
       "      <td>6</td>\n",
       "      <td>0</td>\n",
       "      <td>0</td>\n",
       "      <td>0</td>\n",
       "      <td>0</td>\n",
       "      <td>79</td>\n",
       "      <td>0</td>\n",
       "      <td>79</td>\n",
       "      <td>79</td>\n",
       "    </tr>\n",
       "    <tr>\n",
       "      <th>1</th>\n",
       "      <td>52986</td>\n",
       "      <td>ESSIE  JEFFRIES APARTMENTS HDFC.HUDMF.FY18</td>\n",
       "      <td>06/29/2018</td>\n",
       "      <td>NaN</td>\n",
       "      <td>5738.0</td>\n",
       "      <td>1990</td>\n",
       "      <td>AMSTERDAM AVENUE</td>\n",
       "      <td>Manhattan</td>\n",
       "      <td>10032.0</td>\n",
       "      <td>1.021170e+09</td>\n",
       "      <td>...</td>\n",
       "      <td>15</td>\n",
       "      <td>5</td>\n",
       "      <td>5</td>\n",
       "      <td>0</td>\n",
       "      <td>0</td>\n",
       "      <td>0</td>\n",
       "      <td>25</td>\n",
       "      <td>0</td>\n",
       "      <td>25</td>\n",
       "      <td>25</td>\n",
       "    </tr>\n",
       "    <tr>\n",
       "      <th>2</th>\n",
       "      <td>52986</td>\n",
       "      <td>ESSIE  JEFFRIES APARTMENTS HDFC.HUDMF.FY18</td>\n",
       "      <td>06/29/2018</td>\n",
       "      <td>NaN</td>\n",
       "      <td>42862.0</td>\n",
       "      <td>531</td>\n",
       "      <td>WEST 160 STREET</td>\n",
       "      <td>Manhattan</td>\n",
       "      <td>10032.0</td>\n",
       "      <td>1.021190e+09</td>\n",
       "      <td>...</td>\n",
       "      <td>20</td>\n",
       "      <td>0</td>\n",
       "      <td>0</td>\n",
       "      <td>0</td>\n",
       "      <td>0</td>\n",
       "      <td>0</td>\n",
       "      <td>20</td>\n",
       "      <td>0</td>\n",
       "      <td>20</td>\n",
       "      <td>20</td>\n",
       "    </tr>\n",
       "    <tr>\n",
       "      <th>3</th>\n",
       "      <td>52986</td>\n",
       "      <td>ESSIE  JEFFRIES APARTMENTS HDFC.HUDMF.FY18</td>\n",
       "      <td>06/29/2018</td>\n",
       "      <td>NaN</td>\n",
       "      <td>42869.0</td>\n",
       "      <td>547</td>\n",
       "      <td>WEST 160 STREET</td>\n",
       "      <td>Manhattan</td>\n",
       "      <td>10032.0</td>\n",
       "      <td>1.021190e+09</td>\n",
       "      <td>...</td>\n",
       "      <td>20</td>\n",
       "      <td>0</td>\n",
       "      <td>0</td>\n",
       "      <td>0</td>\n",
       "      <td>0</td>\n",
       "      <td>0</td>\n",
       "      <td>20</td>\n",
       "      <td>0</td>\n",
       "      <td>20</td>\n",
       "      <td>20</td>\n",
       "    </tr>\n",
       "    <tr>\n",
       "      <th>4</th>\n",
       "      <td>54377</td>\n",
       "      <td>CONFIDENTIAL</td>\n",
       "      <td>06/29/2018</td>\n",
       "      <td>NaN</td>\n",
       "      <td>NaN</td>\n",
       "      <td>----</td>\n",
       "      <td>----</td>\n",
       "      <td>Brooklyn</td>\n",
       "      <td>NaN</td>\n",
       "      <td>NaN</td>\n",
       "      <td>...</td>\n",
       "      <td>14</td>\n",
       "      <td>12</td>\n",
       "      <td>0</td>\n",
       "      <td>0</td>\n",
       "      <td>0</td>\n",
       "      <td>0</td>\n",
       "      <td>50</td>\n",
       "      <td>0</td>\n",
       "      <td>50</td>\n",
       "      <td>50</td>\n",
       "    </tr>\n",
       "    <tr>\n",
       "      <th>5</th>\n",
       "      <td>59107</td>\n",
       "      <td>LA CABANA HOUSES</td>\n",
       "      <td>06/29/2018</td>\n",
       "      <td>NaN</td>\n",
       "      <td>328793.0</td>\n",
       "      <td>391</td>\n",
       "      <td>LORIMER STREET</td>\n",
       "      <td>Brooklyn</td>\n",
       "      <td>11206.0</td>\n",
       "      <td>3.030310e+09</td>\n",
       "      <td>...</td>\n",
       "      <td>15</td>\n",
       "      <td>35</td>\n",
       "      <td>0</td>\n",
       "      <td>0</td>\n",
       "      <td>0</td>\n",
       "      <td>0</td>\n",
       "      <td>71</td>\n",
       "      <td>0</td>\n",
       "      <td>71</td>\n",
       "      <td>71</td>\n",
       "    </tr>\n",
       "    <tr>\n",
       "      <th>6</th>\n",
       "      <td>59107</td>\n",
       "      <td>LA CABANA HOUSES</td>\n",
       "      <td>06/29/2018</td>\n",
       "      <td>NaN</td>\n",
       "      <td>328801.0</td>\n",
       "      <td>417</td>\n",
       "      <td>LORIMER STREET</td>\n",
       "      <td>Brooklyn</td>\n",
       "      <td>11206.0</td>\n",
       "      <td>3.030220e+09</td>\n",
       "      <td>...</td>\n",
       "      <td>9</td>\n",
       "      <td>23</td>\n",
       "      <td>0</td>\n",
       "      <td>0</td>\n",
       "      <td>0</td>\n",
       "      <td>0</td>\n",
       "      <td>48</td>\n",
       "      <td>0</td>\n",
       "      <td>48</td>\n",
       "      <td>48</td>\n",
       "    </tr>\n",
       "    <tr>\n",
       "      <th>7</th>\n",
       "      <td>59107</td>\n",
       "      <td>LA CABANA HOUSES</td>\n",
       "      <td>06/29/2018</td>\n",
       "      <td>NaN</td>\n",
       "      <td>380885.0</td>\n",
       "      <td>16</td>\n",
       "      <td>TEN EYCK STREET</td>\n",
       "      <td>Brooklyn</td>\n",
       "      <td>11206.0</td>\n",
       "      <td>3.030220e+09</td>\n",
       "      <td>...</td>\n",
       "      <td>9</td>\n",
       "      <td>23</td>\n",
       "      <td>0</td>\n",
       "      <td>0</td>\n",
       "      <td>0</td>\n",
       "      <td>0</td>\n",
       "      <td>48</td>\n",
       "      <td>0</td>\n",
       "      <td>48</td>\n",
       "      <td>48</td>\n",
       "    </tr>\n",
       "  </tbody>\n",
       "</table>\n",
       "<p>8 rows × 41 columns</p>\n",
       "</div>"
      ],
      "text/plain": [
       "   Project ID                                Project Name Project Start Date  \\\n",
       "0       51867                                 THE ROBESON         06/29/2018   \n",
       "1       52986  ESSIE  JEFFRIES APARTMENTS HDFC.HUDMF.FY18         06/29/2018   \n",
       "2       52986  ESSIE  JEFFRIES APARTMENTS HDFC.HUDMF.FY18         06/29/2018   \n",
       "3       52986  ESSIE  JEFFRIES APARTMENTS HDFC.HUDMF.FY18         06/29/2018   \n",
       "4       54377                                CONFIDENTIAL         06/29/2018   \n",
       "5       59107                            LA CABANA HOUSES         06/29/2018   \n",
       "6       59107                            LA CABANA HOUSES         06/29/2018   \n",
       "7       59107                            LA CABANA HOUSES         06/29/2018   \n",
       "\n",
       "  Project Completion Date  Building ID Number            Street    Borough  \\\n",
       "0                     NaN     927152.0    407      LENOX AVENUE  Manhattan   \n",
       "1                     NaN       5738.0   1990  AMSTERDAM AVENUE  Manhattan   \n",
       "2                     NaN      42862.0    531   WEST 160 STREET  Manhattan   \n",
       "3                     NaN      42869.0    547   WEST 160 STREET  Manhattan   \n",
       "4                     NaN          NaN   ----              ----   Brooklyn   \n",
       "5                     NaN     328793.0    391    LORIMER STREET   Brooklyn   \n",
       "6                     NaN     328801.0    417    LORIMER STREET   Brooklyn   \n",
       "7                     NaN     380885.0     16   TEN EYCK STREET   Brooklyn   \n",
       "\n",
       "   Postcode           BBL     ...      2-BR Units 3-BR Units  4-BR Units  \\\n",
       "0   10037.0  1.019150e+09     ...              32          6           0   \n",
       "1   10032.0  1.021170e+09     ...              15          5           5   \n",
       "2   10032.0  1.021190e+09     ...              20          0           0   \n",
       "3   10032.0  1.021190e+09     ...              20          0           0   \n",
       "4       NaN           NaN     ...              14         12           0   \n",
       "5   11206.0  3.030310e+09     ...              15         35           0   \n",
       "6   11206.0  3.030220e+09     ...               9         23           0   \n",
       "7   11206.0  3.030220e+09     ...               9         23           0   \n",
       "\n",
       "   5-BR Units 6-BR+ Units  Unknown-BR Units  Counted Rental Units  \\\n",
       "0           0           0                 0                    79   \n",
       "1           0           0                 0                    25   \n",
       "2           0           0                 0                    20   \n",
       "3           0           0                 0                    20   \n",
       "4           0           0                 0                    50   \n",
       "5           0           0                 0                    71   \n",
       "6           0           0                 0                    48   \n",
       "7           0           0                 0                    48   \n",
       "\n",
       "   Counted Homeownership Units  All Counted Units Total Units  \n",
       "0                            0                 79          79  \n",
       "1                            0                 25          25  \n",
       "2                            0                 20          20  \n",
       "3                            0                 20          20  \n",
       "4                            0                 50          50  \n",
       "5                            0                 71          71  \n",
       "6                            0                 48          48  \n",
       "7                            0                 48          48  \n",
       "\n",
       "[8 rows x 41 columns]"
      ]
     },
<<<<<<< HEAD
     "execution_count": 38,
=======
     "execution_count": 15,
>>>>>>> c59c1ecab8eb076d93810ca6b4d80b07df454d2a
     "metadata": {},
     "output_type": "execute_result"
    }
   ],
   "source": [
    "#print the fist 8 lines out\n",
    "df.head(8)"
   ]
  },
  {
   "cell_type": "code",
<<<<<<< HEAD
   "execution_count": 39,
=======
   "execution_count": 16,
>>>>>>> c59c1ecab8eb076d93810ca6b4d80b07df454d2a
   "metadata": {},
   "outputs": [
    {
     "data": {
      "text/html": [
       "<div>\n",
<<<<<<< HEAD
       "<style scoped>\n",
       "    .dataframe tbody tr th:only-of-type {\n",
       "        vertical-align: middle;\n",
       "    }\n",
       "\n",
       "    .dataframe tbody tr th {\n",
       "        vertical-align: top;\n",
       "    }\n",
       "\n",
       "    .dataframe thead th {\n",
       "        text-align: right;\n",
       "    }\n",
       "</style>\n",
=======
>>>>>>> c59c1ecab8eb076d93810ca6b4d80b07df454d2a
       "<table border=\"1\" class=\"dataframe\">\n",
       "  <thead>\n",
       "    <tr style=\"text-align: right;\">\n",
       "      <th></th>\n",
       "      <th>Project ID</th>\n",
       "      <th>Project Name</th>\n",
       "      <th>Project Start Date</th>\n",
       "      <th>Project Completion Date</th>\n",
       "      <th>Building ID</th>\n",
       "      <th>Number</th>\n",
       "      <th>Street</th>\n",
       "      <th>Borough</th>\n",
       "      <th>Postcode</th>\n",
       "      <th>BBL</th>\n",
       "      <th>...</th>\n",
       "      <th>2-BR Units</th>\n",
       "      <th>3-BR Units</th>\n",
       "      <th>4-BR Units</th>\n",
       "      <th>5-BR Units</th>\n",
       "      <th>6-BR+ Units</th>\n",
       "      <th>Unknown-BR Units</th>\n",
       "      <th>Counted Rental Units</th>\n",
       "      <th>Counted Homeownership Units</th>\n",
       "      <th>All Counted Units</th>\n",
       "      <th>Total Units</th>\n",
       "    </tr>\n",
       "  </thead>\n",
       "  <tbody>\n",
       "    <tr>\n",
       "      <th>3284</th>\n",
       "      <td>57341</td>\n",
       "      <td>CONFIDENTIAL</td>\n",
       "      <td>01/10/2014</td>\n",
       "      <td>01/10/2014</td>\n",
       "      <td>NaN</td>\n",
       "      <td>----</td>\n",
       "      <td>----</td>\n",
       "      <td>Staten Island</td>\n",
       "      <td>NaN</td>\n",
       "      <td>NaN</td>\n",
       "      <td>...</td>\n",
       "      <td>0</td>\n",
       "      <td>0</td>\n",
       "      <td>0</td>\n",
       "      <td>0</td>\n",
       "      <td>0</td>\n",
       "      <td>1</td>\n",
       "      <td>0</td>\n",
       "      <td>1</td>\n",
       "      <td>1</td>\n",
       "      <td>1</td>\n",
       "    </tr>\n",
       "    <tr>\n",
       "      <th>3285</th>\n",
       "      <td>55647</td>\n",
       "      <td>CONFIDENTIAL</td>\n",
       "      <td>01/07/2014</td>\n",
       "      <td>01/07/2014</td>\n",
       "      <td>NaN</td>\n",
       "      <td>----</td>\n",
       "      <td>----</td>\n",
       "      <td>Brooklyn</td>\n",
       "      <td>NaN</td>\n",
       "      <td>NaN</td>\n",
       "      <td>...</td>\n",
       "      <td>0</td>\n",
       "      <td>0</td>\n",
       "      <td>0</td>\n",
       "      <td>0</td>\n",
       "      <td>0</td>\n",
       "      <td>1</td>\n",
       "      <td>0</td>\n",
       "      <td>1</td>\n",
       "      <td>1</td>\n",
       "      <td>1</td>\n",
       "    </tr>\n",
       "    <tr>\n",
       "      <th>3286</th>\n",
       "      <td>55759</td>\n",
       "      <td>CONFIDENTIAL</td>\n",
       "      <td>01/03/2014</td>\n",
       "      <td>01/03/2014</td>\n",
       "      <td>NaN</td>\n",
       "      <td>----</td>\n",
       "      <td>----</td>\n",
       "      <td>Queens</td>\n",
       "      <td>NaN</td>\n",
       "      <td>NaN</td>\n",
       "      <td>...</td>\n",
       "      <td>0</td>\n",
       "      <td>0</td>\n",
       "      <td>0</td>\n",
       "      <td>0</td>\n",
       "      <td>0</td>\n",
       "      <td>1</td>\n",
       "      <td>0</td>\n",
       "      <td>1</td>\n",
       "      <td>1</td>\n",
       "      <td>1</td>\n",
       "    </tr>\n",
       "  </tbody>\n",
       "</table>\n",
       "<p>3 rows × 41 columns</p>\n",
       "</div>"
      ],
      "text/plain": [
       "      Project ID  Project Name Project Start Date Project Completion Date  \\\n",
       "3284       57341  CONFIDENTIAL         01/10/2014              01/10/2014   \n",
       "3285       55647  CONFIDENTIAL         01/07/2014              01/07/2014   \n",
       "3286       55759  CONFIDENTIAL         01/03/2014              01/03/2014   \n",
       "\n",
       "      Building ID Number Street        Borough  Postcode  BBL     ...      \\\n",
       "3284          NaN   ----   ----  Staten Island       NaN  NaN     ...       \n",
       "3285          NaN   ----   ----       Brooklyn       NaN  NaN     ...       \n",
       "3286          NaN   ----   ----         Queens       NaN  NaN     ...       \n",
       "\n",
       "      2-BR Units 3-BR Units  4-BR Units  5-BR Units 6-BR+ Units  \\\n",
       "3284           0          0           0           0           0   \n",
       "3285           0          0           0           0           0   \n",
       "3286           0          0           0           0           0   \n",
       "\n",
       "      Unknown-BR Units  Counted Rental Units  Counted Homeownership Units  \\\n",
       "3284                 1                     0                            1   \n",
       "3285                 1                     0                            1   \n",
       "3286                 1                     0                            1   \n",
       "\n",
       "      All Counted Units Total Units  \n",
       "3284                  1           1  \n",
       "3285                  1           1  \n",
       "3286                  1           1  \n",
       "\n",
       "[3 rows x 41 columns]"
      ]
     },
<<<<<<< HEAD
     "execution_count": 39,
=======
     "execution_count": 16,
>>>>>>> c59c1ecab8eb076d93810ca6b4d80b07df454d2a
     "metadata": {},
     "output_type": "execute_result"
    }
   ],
   "source": [
    "#print the last 3 lines out\n",
    "df.tail(3)"
   ]
  },
  {
   "cell_type": "code",
<<<<<<< HEAD
   "execution_count": 40,
=======
   "execution_count": 17,
>>>>>>> c59c1ecab8eb076d93810ca6b4d80b07df454d2a
   "metadata": {},
   "outputs": [
    {
     "data": {
      "text/plain": [
       "Index(['Project ID', 'Project Name', 'Project Start Date',\n",
       "       'Project Completion Date', 'Building ID', 'Number', 'Street', 'Borough',\n",
       "       'Postcode', 'BBL', 'BIN', 'Community Board', 'Council District',\n",
       "       'Census Tract', 'NTA - Neighborhood Tabulation Area', 'Latitude',\n",
       "       'Longitude', 'Latitude (Internal)', 'Longitude (Internal)',\n",
       "       'Building Completion Date', 'Reporting Construction Type',\n",
       "       'Extended Affordability Only', 'Prevailing Wage Status',\n",
       "       'Extremely Low Income Units', 'Very Low Income Units',\n",
       "       'Low Income Units', 'Moderate Income Units', 'Middle Income Units',\n",
       "       'Other Income Units', 'Studio Units', '1-BR Units', '2-BR Units',\n",
       "       '3-BR Units', '4-BR Units', '5-BR Units', '6-BR+ Units',\n",
       "       'Unknown-BR Units', 'Counted Rental Units',\n",
       "       'Counted Homeownership Units', 'All Counted Units', 'Total Units'],\n",
       "      dtype='object')"
      ]
     },
<<<<<<< HEAD
     "execution_count": 40,
=======
     "execution_count": 17,
>>>>>>> c59c1ecab8eb076d93810ca6b4d80b07df454d2a
     "metadata": {},
     "output_type": "execute_result"
    }
   ],
   "source": [
    "#look at the columns available, those are the variables\n",
    "df.columns"
   ]
  },
  {
   "cell_type": "code",
<<<<<<< HEAD
   "execution_count": 41,
=======
   "execution_count": 18,
>>>>>>> c59c1ecab8eb076d93810ca6b4d80b07df454d2a
   "metadata": {},
   "outputs": [
    {
     "data": {
      "text/plain": [
       "134767"
      ]
     },
<<<<<<< HEAD
     "execution_count": 41,
=======
     "execution_count": 18,
>>>>>>> c59c1ecab8eb076d93810ca6b4d80b07df454d2a
     "metadata": {},
     "output_type": "execute_result"
    }
   ],
   "source": [
    "#count how many rows, those are the data points\n",
    "df.size"
   ]
  },
  {
   "cell_type": "code",
<<<<<<< HEAD
   "execution_count": 42,
=======
   "execution_count": 19,
>>>>>>> c59c1ecab8eb076d93810ca6b4d80b07df454d2a
   "metadata": {},
   "outputs": [],
   "source": [
    "#select 2 columns only for plotting\n",
    "df_2c = df[['Extremely Low Income Units', 'Studio Units']]"
   ]
  },
  {
   "cell_type": "code",
<<<<<<< HEAD
   "execution_count": 43,
=======
   "execution_count": 20,
>>>>>>> c59c1ecab8eb076d93810ca6b4d80b07df454d2a
   "metadata": {},
   "outputs": [
    {
     "data": {
      "text/html": [
       "<div>\n",
<<<<<<< HEAD
       "<style scoped>\n",
       "    .dataframe tbody tr th:only-of-type {\n",
       "        vertical-align: middle;\n",
       "    }\n",
       "\n",
       "    .dataframe tbody tr th {\n",
       "        vertical-align: top;\n",
       "    }\n",
       "\n",
       "    .dataframe thead th {\n",
       "        text-align: right;\n",
       "    }\n",
       "</style>\n",
=======
>>>>>>> c59c1ecab8eb076d93810ca6b4d80b07df454d2a
       "<table border=\"1\" class=\"dataframe\">\n",
       "  <thead>\n",
       "    <tr style=\"text-align: right;\">\n",
       "      <th></th>\n",
       "      <th>Extremely Low Income Units</th>\n",
       "      <th>Studio Units</th>\n",
       "    </tr>\n",
       "  </thead>\n",
       "  <tbody>\n",
       "    <tr>\n",
       "      <th>0</th>\n",
       "      <td>0</td>\n",
       "      <td>16</td>\n",
       "    </tr>\n",
       "    <tr>\n",
       "      <th>1</th>\n",
       "      <td>20</td>\n",
       "      <td>0</td>\n",
       "    </tr>\n",
       "    <tr>\n",
       "      <th>2</th>\n",
       "      <td>6</td>\n",
       "      <td>0</td>\n",
       "    </tr>\n",
       "    <tr>\n",
       "      <th>3</th>\n",
       "      <td>4</td>\n",
       "      <td>0</td>\n",
       "    </tr>\n",
       "    <tr>\n",
       "      <th>4</th>\n",
       "      <td>1</td>\n",
       "      <td>11</td>\n",
       "    </tr>\n",
       "  </tbody>\n",
       "</table>\n",
       "</div>"
      ],
      "text/plain": [
       "   Extremely Low Income Units  Studio Units\n",
       "0                           0            16\n",
       "1                          20             0\n",
       "2                           6             0\n",
       "3                           4             0\n",
       "4                           1            11"
      ]
     },
<<<<<<< HEAD
     "execution_count": 43,
=======
     "execution_count": 20,
>>>>>>> c59c1ecab8eb076d93810ca6b4d80b07df454d2a
     "metadata": {},
     "output_type": "execute_result"
    }
   ],
   "source": [
    "df_2c.head()"
   ]
  },
  {
   "cell_type": "markdown",
   "metadata": {},
   "source": [
    "## plot the data"
   ]
  },
  {
   "cell_type": "code",
<<<<<<< HEAD
   "execution_count": 44,
   "metadata": {},
   "outputs": [
    {
     "data": {
      "text/plain": [
       "<matplotlib.axes._subplots.AxesSubplot at 0x11422b780>"
      ]
     },
     "execution_count": 44,
     "metadata": {},
     "output_type": "execute_result"
    },
    {
     "data": {
      "image/png": "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\n",
      "text/plain": [
       "<Figure size 432x288 with 1 Axes>"
      ]
     },
     "metadata": {},
     "output_type": "display_data"
=======
   "execution_count": 21,
   "metadata": {},
   "outputs": [
    {
     "name": "stderr",
     "output_type": "stream",
     "text": [
      "/usr/local/Anaconda3-5.0.0-Linux-x86_64/envs/PUI2016_Python3/lib/python3.5/site-packages/matplotlib/axes/_base.py:2918: UserWarning: Attempting to set identical left==right results\n",
      "in singular transformations; automatically expanding.\n",
      "left=0.0, right=0.0\n",
      "  'left=%s, right=%s') % (left, right))\n"
     ]
    },
    {
     "data": {
      "text/plain": [
       "<matplotlib.axes._subplots.AxesSubplot at 0x7fa4536356d8>"
      ]
     },
     "execution_count": 21,
     "metadata": {},
     "output_type": "execute_result"
>>>>>>> c59c1ecab8eb076d93810ca6b4d80b07df454d2a
    }
   ],
   "source": [
    "df_2c.plot(x=\"Extremely Low Income Units\", y=\"Studio Units\")"
   ]
  },
  {
   "cell_type": "code",
<<<<<<< HEAD
   "execution_count": 45,
=======
   "execution_count": 22,
>>>>>>> c59c1ecab8eb076d93810ca6b4d80b07df454d2a
   "metadata": {},
   "outputs": [],
   "source": [
    "# wont show anything if i do not use the magic command to show plots in the notebook \n",
    "#(or use pl.show to pop up a window, but for the homework plots have to be embedded)"
   ]
  },
  {
   "cell_type": "code",
<<<<<<< HEAD
   "execution_count": 46,
=======
   "execution_count": 23,
>>>>>>> c59c1ecab8eb076d93810ca6b4d80b07df454d2a
   "metadata": {},
   "outputs": [
    {
     "name": "stdout",
     "output_type": "stream",
     "text": [
      "Populating the interactive namespace from numpy and matplotlib\n"
     ]
    }
   ],
   "source": [
    "%pylab inline"
   ]
  },
  {
   "cell_type": "code",
<<<<<<< HEAD
   "execution_count": 47,
=======
   "execution_count": 24,
>>>>>>> c59c1ecab8eb076d93810ca6b4d80b07df454d2a
   "metadata": {},
   "outputs": [
    {
     "data": {
<<<<<<< HEAD
      "image/png": "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\n",
      "text/plain": [
       "<Figure size 432x288 with 1 Axes>"
=======
      "image/png": "iVBORw0KGgoAAAANSUhEUgAAAYgAAAEKCAYAAAAIO8L1AAAABHNCSVQICAgIfAhkiAAAAAlwSFlz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\n+QAAAABJRU5ErkJggg==\n",
      "text/plain": [
       "<matplotlib.figure.Figure at 0x7fa42556ea20>"
>>>>>>> c59c1ecab8eb076d93810ca6b4d80b07df454d2a
      ]
     },
     "metadata": {},
     "output_type": "display_data"
    }
   ],
   "source": [
    "df_2c.plot(x=\"Extremely Low Income Units\", y=\"Studio Units\", kind='scatter');\n",
    "# every plot needs a caption that explains to the reader \n",
    "# 1) WHAT what the reader is loooking at and \n",
    "# 2) WHY why the reader is looking at it here in the analysis \n",
    "#      (in this case there is no why cause this plot is not part of an analysis)\n",
    "# 3) TAKE HOME what is the take home point for the plot in the analysis \n",
    "#      (also there is no take home point here cause we are not doind an analysis but you can point out interesting features)"
   ]
  },
  {
   "cell_type": "markdown",
   "metadata": {},
   "source": [
    "Figure 1: Number of Studio Units in each Project against the number of Extremely Low Income Units. Note that there is no specific pattern visible here because of the many zero values in the dataset. What I would suggest doing next is to get rid of the zeros for a better look.  "
   ]
  },
  {
   "cell_type": "markdown",
   "metadata": {},
   "source": [
    "# solution 2: Use API and download a json file"
   ]
  },
  {
   "cell_type": "markdown",
   "metadata": {},
   "source": [
    "from the dataset export link now go to -> SODA API and the the endpoint"
   ]
  },
  {
   "cell_type": "code",
<<<<<<< HEAD
   "execution_count": 19,
=======
   "execution_count": 25,
>>>>>>> c59c1ecab8eb076d93810ca6b4d80b07df454d2a
   "metadata": {},
   "outputs": [],
   "source": [
    "url = \"https://data.cityofnewyork.us/resource/q3m4-ttp3.json\""
   ]
  },
  {
   "cell_type": "code",
<<<<<<< HEAD
   "execution_count": 20,
=======
   "execution_count": 26,
>>>>>>> c59c1ecab8eb076d93810ca6b4d80b07df454d2a
   "metadata": {},
   "outputs": [],
   "source": [
    "#use the appropriatepandas function to read in the json file\n",
    "df = pd.read_json(url)"
   ]
  },
  {
   "cell_type": "code",
<<<<<<< HEAD
   "execution_count": 21,
=======
   "execution_count": 27,
>>>>>>> c59c1ecab8eb076d93810ca6b4d80b07df454d2a
   "metadata": {},
   "outputs": [
    {
     "data": {
      "text/html": [
       "<div>\n",
<<<<<<< HEAD
       "<style scoped>\n",
       "    .dataframe tbody tr th:only-of-type {\n",
       "        vertical-align: middle;\n",
       "    }\n",
       "\n",
       "    .dataframe tbody tr th {\n",
       "        vertical-align: top;\n",
       "    }\n",
       "\n",
       "    .dataframe thead th {\n",
       "        text-align: right;\n",
       "    }\n",
       "</style>\n",
=======
>>>>>>> c59c1ecab8eb076d93810ca6b4d80b07df454d2a
       "<table border=\"1\" class=\"dataframe\">\n",
       "  <thead>\n",
       "    <tr style=\"text-align: right;\">\n",
       "      <th></th>\n",
       "      <th>_1_br_units</th>\n",
       "      <th>_2_br_units</th>\n",
       "      <th>_3_br_units</th>\n",
       "      <th>_4_br_units</th>\n",
       "      <th>_5_br_units</th>\n",
       "      <th>_6_br_units</th>\n",
       "      <th>all_counted_units</th>\n",
       "      <th>bbl</th>\n",
       "      <th>bin</th>\n",
       "      <th>borough</th>\n",
       "      <th>...</th>\n",
       "      <th>project_completion_date</th>\n",
       "      <th>project_id</th>\n",
       "      <th>project_name</th>\n",
       "      <th>project_start_date</th>\n",
       "      <th>reporting_construction_type</th>\n",
       "      <th>street_name</th>\n",
       "      <th>studio_units</th>\n",
       "      <th>total_units</th>\n",
       "      <th>unknown_br_units</th>\n",
       "      <th>very_low_income_units</th>\n",
       "    </tr>\n",
       "  </thead>\n",
       "  <tbody>\n",
       "    <tr>\n",
       "      <th>0</th>\n",
       "      <td>0</td>\n",
       "      <td>9</td>\n",
       "      <td>0</td>\n",
       "      <td>0</td>\n",
       "      <td>0</td>\n",
       "      <td>0</td>\n",
       "      <td>9</td>\n",
       "      <td>1.003930e+09</td>\n",
       "      <td>1004876.0</td>\n",
       "      <td>Manhattan</td>\n",
       "      <td>...</td>\n",
       "      <td>2017-06-29T00:00:00.000</td>\n",
       "      <td>63845</td>\n",
       "      <td>LESPMHA HDFC</td>\n",
       "      <td>2017-06-29T00:00:00.000</td>\n",
       "      <td>Preservation</td>\n",
       "      <td>AVENUE B</td>\n",
       "      <td>0</td>\n",
       "      <td>9</td>\n",
       "      <td>0</td>\n",
       "      <td>5</td>\n",
       "    </tr>\n",
       "    <tr>\n",
       "      <th>1</th>\n",
       "      <td>1</td>\n",
       "      <td>2</td>\n",
       "      <td>0</td>\n",
       "      <td>0</td>\n",
       "      <td>0</td>\n",
       "      <td>0</td>\n",
       "      <td>3</td>\n",
       "      <td>3.034350e+09</td>\n",
       "      <td>3079751.0</td>\n",
       "      <td>Brooklyn</td>\n",
       "      <td>...</td>\n",
       "      <td>2017-10-04T00:00:00.000</td>\n",
       "      <td>65132</td>\n",
       "      <td>1238 DECATUR STREET</td>\n",
       "      <td>2014-12-17T00:00:00.000</td>\n",
       "      <td>New Construction</td>\n",
       "      <td>DECATUR STREET</td>\n",
       "      <td>0</td>\n",
       "      <td>15</td>\n",
       "      <td>0</td>\n",
       "      <td>0</td>\n",
       "    </tr>\n",
       "    <tr>\n",
       "      <th>2</th>\n",
       "      <td>3</td>\n",
       "      <td>3</td>\n",
       "      <td>0</td>\n",
       "      <td>0</td>\n",
       "      <td>0</td>\n",
       "      <td>0</td>\n",
       "      <td>6</td>\n",
       "      <td>3.018240e+09</td>\n",
       "      <td>3051695.0</td>\n",
       "      <td>Brooklyn</td>\n",
       "      <td>...</td>\n",
       "      <td>NaN</td>\n",
       "      <td>58589</td>\n",
       "      <td>Madison EDJ LLC</td>\n",
       "      <td>2016-06-29T00:00:00.000</td>\n",
       "      <td>Preservation</td>\n",
       "      <td>PUTNAM AVENUE</td>\n",
       "      <td>0</td>\n",
       "      <td>6</td>\n",
       "      <td>0</td>\n",
       "      <td>0</td>\n",
       "    </tr>\n",
       "  </tbody>\n",
       "</table>\n",
       "<p>3 rows × 41 columns</p>\n",
       "</div>"
      ],
      "text/plain": [
       "   _1_br_units  _2_br_units  _3_br_units  _4_br_units  _5_br_units  \\\n",
       "0            0            9            0            0            0   \n",
       "1            1            2            0            0            0   \n",
       "2            3            3            0            0            0   \n",
       "\n",
       "   _6_br_units  all_counted_units           bbl        bin    borough  \\\n",
       "0            0                  9  1.003930e+09  1004876.0  Manhattan   \n",
       "1            0                  3  3.034350e+09  3079751.0   Brooklyn   \n",
       "2            0                  6  3.018240e+09  3051695.0   Brooklyn   \n",
       "\n",
       "           ...           project_completion_date  project_id  \\\n",
       "0          ...           2017-06-29T00:00:00.000       63845   \n",
       "1          ...           2017-10-04T00:00:00.000       65132   \n",
       "2          ...                               NaN       58589   \n",
       "\n",
       "          project_name       project_start_date  reporting_construction_type  \\\n",
       "0         LESPMHA HDFC  2017-06-29T00:00:00.000                 Preservation   \n",
       "1  1238 DECATUR STREET  2014-12-17T00:00:00.000             New Construction   \n",
       "2      Madison EDJ LLC  2016-06-29T00:00:00.000                 Preservation   \n",
       "\n",
       "      street_name  studio_units total_units  unknown_br_units  \\\n",
       "0        AVENUE B             0           9                 0   \n",
       "1  DECATUR STREET             0          15                 0   \n",
       "2   PUTNAM AVENUE             0           6                 0   \n",
       "\n",
       "  very_low_income_units  \n",
       "0                     5  \n",
       "1                     0  \n",
       "2                     0  \n",
       "\n",
       "[3 rows x 41 columns]"
      ]
     },
<<<<<<< HEAD
     "execution_count": 21,
=======
     "execution_count": 27,
>>>>>>> c59c1ecab8eb076d93810ca6b4d80b07df454d2a
     "metadata": {},
     "output_type": "execute_result"
    }
   ],
   "source": [
    "# print it out\n",
    "df.head(3)"
   ]
  },
  {
   "cell_type": "code",
<<<<<<< HEAD
   "execution_count": 22,
=======
   "execution_count": 28,
>>>>>>> c59c1ecab8eb076d93810ca6b4d80b07df454d2a
   "metadata": {},
   "outputs": [
    {
     "data": {
      "text/plain": [
       "Index(['_1_br_units', '_2_br_units', '_3_br_units', '_4_br_units',\n",
       "       '_5_br_units', '_6_br_units', 'all_counted_units', 'bbl', 'bin',\n",
       "       'borough', 'building_completion_date', 'building_id', 'census_tract',\n",
       "       'community_board', 'council_district', 'counted_homeownership_units',\n",
       "       'counted_rental_units', 'extended_affordability_status',\n",
       "       'extremely_low_income_units', 'house_number', 'latitude',\n",
       "       'latitude_internal', 'longitude', 'longitude_internal',\n",
       "       'low_income_units', 'middle_income_units', 'moderate_income_units',\n",
       "       'neighborhood_tabulation_area', 'other_income_units', 'postcode',\n",
       "       'prevailing_wage_status', 'project_completion_date', 'project_id',\n",
       "       'project_name', 'project_start_date', 'reporting_construction_type',\n",
       "       'street_name', 'studio_units', 'total_units', 'unknown_br_units',\n",
       "       'very_low_income_units'],\n",
       "      dtype='object')"
      ]
     },
<<<<<<< HEAD
     "execution_count": 22,
=======
     "execution_count": 28,
>>>>>>> c59c1ecab8eb076d93810ca6b4d80b07df454d2a
     "metadata": {},
     "output_type": "execute_result"
    }
   ],
   "source": [
    "df.columns"
   ]
  },
  {
   "cell_type": "code",
<<<<<<< HEAD
   "execution_count": 23,
=======
   "execution_count": 29,
>>>>>>> c59c1ecab8eb076d93810ca6b4d80b07df454d2a
   "metadata": {},
   "outputs": [],
   "source": [
    "#now select a date and 2 variables\n",
    "df_3c = df[['project_start_date', 'extremely_low_income_units', 'total_units']]"
   ]
  },
  {
   "cell_type": "markdown",
   "metadata": {},
   "source": [
    "for consistency with the data above, I will change the names of the columns (variables) to be the same as before. This way the plots will come out with the same labels and legends"
   ]
  },
  {
   "cell_type": "code",
<<<<<<< HEAD
   "execution_count": null,
   "metadata": {},
   "outputs": [],
=======
   "execution_count": 30,
   "metadata": {},
   "outputs": [
    {
     "name": "stderr",
     "output_type": "stream",
     "text": [
      "/usr/local/Anaconda3-5.0.0-Linux-x86_64/envs/PUI2016_Python3/lib/python3.5/site-packages/ipykernel/__main__.py:1: SettingWithCopyWarning: \n",
      "A value is trying to be set on a copy of a slice from a DataFrame.\n",
      "Try using .loc[row_indexer,col_indexer] = value instead\n",
      "\n",
      "See the caveats in the documentation: http://pandas.pydata.org/pandas-docs/stable/indexing.html#indexing-view-versus-copy\n",
      "  if __name__ == '__main__':\n"
     ]
    }
   ],
>>>>>>> c59c1ecab8eb076d93810ca6b4d80b07df454d2a
   "source": [
    "df_3c['project_start_date']=pd.to_datetime(df_3c['project_start_date'])"
   ]
  },
  {
   "cell_type": "code",
<<<<<<< HEAD
   "execution_count": 24,
=======
   "execution_count": 32,
>>>>>>> c59c1ecab8eb076d93810ca6b4d80b07df454d2a
   "metadata": {},
   "outputs": [
    {
     "name": "stderr",
     "output_type": "stream",
     "text": [
<<<<<<< HEAD
      "/Users/tanyanabila/Applications/miniconda3/lib/python3.6/site-packages/pandas/core/frame.py:3781: SettingWithCopyWarning: \n",
      "A value is trying to be set on a copy of a slice from a DataFrame\n",
      "\n",
      "See the caveats in the documentation: http://pandas.pydata.org/pandas-docs/stable/indexing.html#indexing-view-versus-copy\n",
      "  return super(DataFrame, self).rename(**kwargs)\n"
=======
      "/usr/local/Anaconda3-5.0.0-Linux-x86_64/envs/PUI2016_Python3/lib/python3.5/site-packages/pandas/core/frame.py:2754: SettingWithCopyWarning: \n",
      "A value is trying to be set on a copy of a slice from a DataFrame\n",
      "\n",
      "See the caveats in the documentation: http://pandas.pydata.org/pandas-docs/stable/indexing.html#indexing-view-versus-copy\n",
      "  **kwargs)\n"
>>>>>>> c59c1ecab8eb076d93810ca6b4d80b07df454d2a
     ]
    }
   ],
   "source": [
    "df_3c.rename(columns = {'project_start_date':'Project Start Date', \n",
    "               'extremely_low_income_units':'Extremely Low Income Units', \n",
    "               'total_units': 'Total Units'}, inplace=True)"
   ]
  },
  {
   "cell_type": "code",
<<<<<<< HEAD
   "execution_count": 25,
=======
   "execution_count": 33,
>>>>>>> c59c1ecab8eb076d93810ca6b4d80b07df454d2a
   "metadata": {},
   "outputs": [
    {
     "data": {
      "text/html": [
       "<div>\n",
<<<<<<< HEAD
       "<style scoped>\n",
       "    .dataframe tbody tr th:only-of-type {\n",
       "        vertical-align: middle;\n",
       "    }\n",
       "\n",
       "    .dataframe tbody tr th {\n",
       "        vertical-align: top;\n",
       "    }\n",
       "\n",
       "    .dataframe thead th {\n",
       "        text-align: right;\n",
       "    }\n",
       "</style>\n",
=======
>>>>>>> c59c1ecab8eb076d93810ca6b4d80b07df454d2a
       "<table border=\"1\" class=\"dataframe\">\n",
       "  <thead>\n",
       "    <tr style=\"text-align: right;\">\n",
       "      <th></th>\n",
       "      <th>Project Start Date</th>\n",
       "      <th>Extremely Low Income Units</th>\n",
       "      <th>Total Units</th>\n",
       "    </tr>\n",
       "  </thead>\n",
       "  <tbody>\n",
       "    <tr>\n",
       "      <th>0</th>\n",
<<<<<<< HEAD
       "      <td>2017-06-29T00:00:00.000</td>\n",
=======
       "      <td>2017-06-29</td>\n",
>>>>>>> c59c1ecab8eb076d93810ca6b4d80b07df454d2a
       "      <td>0</td>\n",
       "      <td>9</td>\n",
       "    </tr>\n",
       "    <tr>\n",
       "      <th>1</th>\n",
<<<<<<< HEAD
       "      <td>2014-12-17T00:00:00.000</td>\n",
=======
       "      <td>2014-12-17</td>\n",
>>>>>>> c59c1ecab8eb076d93810ca6b4d80b07df454d2a
       "      <td>0</td>\n",
       "      <td>15</td>\n",
       "    </tr>\n",
       "    <tr>\n",
       "      <th>2</th>\n",
<<<<<<< HEAD
       "      <td>2016-06-29T00:00:00.000</td>\n",
=======
       "      <td>2016-06-29</td>\n",
>>>>>>> c59c1ecab8eb076d93810ca6b4d80b07df454d2a
       "      <td>0</td>\n",
       "      <td>6</td>\n",
       "    </tr>\n",
       "    <tr>\n",
       "      <th>3</th>\n",
<<<<<<< HEAD
       "      <td>2016-06-22T00:00:00.000</td>\n",
=======
       "      <td>2016-06-22</td>\n",
>>>>>>> c59c1ecab8eb076d93810ca6b4d80b07df454d2a
       "      <td>135</td>\n",
       "      <td>385</td>\n",
       "    </tr>\n",
       "    <tr>\n",
       "      <th>4</th>\n",
<<<<<<< HEAD
       "      <td>2016-06-27T00:00:00.000</td>\n",
=======
       "      <td>2016-06-27</td>\n",
>>>>>>> c59c1ecab8eb076d93810ca6b4d80b07df454d2a
       "      <td>0</td>\n",
       "      <td>1</td>\n",
       "    </tr>\n",
       "  </tbody>\n",
       "</table>\n",
       "</div>"
      ],
      "text/plain": [
<<<<<<< HEAD
       "        Project Start Date  Extremely Low Income Units  Total Units\n",
       "0  2017-06-29T00:00:00.000                           0            9\n",
       "1  2014-12-17T00:00:00.000                           0           15\n",
       "2  2016-06-29T00:00:00.000                           0            6\n",
       "3  2016-06-22T00:00:00.000                         135          385\n",
       "4  2016-06-27T00:00:00.000                           0            1"
      ]
     },
     "execution_count": 25,
=======
       "  Project Start Date  Extremely Low Income Units  Total Units\n",
       "0         2017-06-29                           0            9\n",
       "1         2014-12-17                           0           15\n",
       "2         2016-06-29                           0            6\n",
       "3         2016-06-22                         135          385\n",
       "4         2016-06-27                           0            1"
      ]
     },
     "execution_count": 33,
>>>>>>> c59c1ecab8eb076d93810ca6b4d80b07df454d2a
     "metadata": {},
     "output_type": "execute_result"
    }
   ],
   "source": [
    "df_3c.head()"
   ]
  },
  {
   "cell_type": "code",
<<<<<<< HEAD
   "execution_count": 26,
=======
   "execution_count": 34,
>>>>>>> c59c1ecab8eb076d93810ca6b4d80b07df454d2a
   "metadata": {},
   "outputs": [
    {
     "data": {
<<<<<<< HEAD
      "image/png": "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\n",
      "text/plain": [
       "<Figure size 432x288 with 1 Axes>"
=======
      "image/png": "iVBORw0KGgoAAAANSUhEUgAAAY4AAAEICAYAAABI7RO5AAAABHNCSVQICAgIfAhkiAAAAAlwSFlz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\nwzAMIyXMcBiGYRgpYYbDMAzDSIn/D40hnq2sxyoYAAAAAElFTkSuQmCC\n",
      "text/plain": [
       "<matplotlib.figure.Figure at 0x7fa42556e5f8>"
>>>>>>> c59c1ecab8eb076d93810ca6b4d80b07df454d2a
      ]
     },
     "metadata": {},
     "output_type": "display_data"
    }
   ],
   "source": [
    "#as a default this plot wont have a y label, but all plots must have axis labels!\n",
    "ax = df_3c.plot(x='Project Start Date', y='Total Units');\n",
    "ax.set_ylabel(\"Number\");"
   ]
  },
  {
   "cell_type": "markdown",
   "metadata": {},
   "source": [
    "i do not like the formatting of those dates so I will drom the timestamp overwriting the original column. \n",
    "for more info on baisc timestamp manipulation \n",
    "( no capation cause I am remaking this figure)\n"
   ]
  },
  {
   "cell_type": "code",
<<<<<<< HEAD
   "execution_count": 27,
=======
   "execution_count": 35,
>>>>>>> c59c1ecab8eb076d93810ca6b4d80b07df454d2a
   "metadata": {},
   "outputs": [
    {
     "name": "stderr",
     "output_type": "stream",
     "text": [
<<<<<<< HEAD
      "/Users/tanyanabila/Applications/miniconda3/lib/python3.6/site-packages/ipykernel_launcher.py:1: SettingWithCopyWarning: \n",
=======
      "/usr/local/Anaconda3-5.0.0-Linux-x86_64/envs/PUI2016_Python3/lib/python3.5/site-packages/ipykernel/__main__.py:1: SettingWithCopyWarning: \n",
>>>>>>> c59c1ecab8eb076d93810ca6b4d80b07df454d2a
      "A value is trying to be set on a copy of a slice from a DataFrame.\n",
      "Try using .loc[row_indexer,col_indexer] = value instead\n",
      "\n",
      "See the caveats in the documentation: http://pandas.pydata.org/pandas-docs/stable/indexing.html#indexing-view-versus-copy\n",
<<<<<<< HEAD
      "  \"\"\"Entry point for launching an IPython kernel.\n"
=======
      "  if __name__ == '__main__':\n"
>>>>>>> c59c1ecab8eb076d93810ca6b4d80b07df454d2a
     ]
    }
   ],
   "source": [
    "df_3c[\"Project Start Date\"] = df_3c[\"Project Start Date\"].apply(lambda x: pd.Timestamp(x))"
   ]
  },
  {
   "cell_type": "markdown",
   "metadata": {},
   "source": [
    "now that I am using timestamps (instead of strings as the data got read in form the json file) Pandas know to rotate the labels appropriately so I can drop rot=90"
   ]
  },
  {
   "cell_type": "code",
<<<<<<< HEAD
   "execution_count": 28,
=======
   "execution_count": 36,
>>>>>>> c59c1ecab8eb076d93810ca6b4d80b07df454d2a
   "metadata": {},
   "outputs": [
    {
     "data": {
<<<<<<< HEAD
      "image/png": "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\n",
      "text/plain": [
       "<Figure size 432x288 with 1 Axes>"
=======
      "image/png": "iVBORw0KGgoAAAANSUhEUgAAAY4AAAEICAYAAABI7RO5AAAABHNCSVQICAgIfAhkiAAAAAlwSFlz\nAAALEgAACxIB0t1+/AAAADl0RVh0U29mdHdhcmUAbWF0cGxvdGxpYiB2ZXJzaW9uIDIuMS4wLCBo\ndHRwOi8vbWF0cGxvdGxpYi5vcmcvpW3flQAAIABJREFUeJztnXmYHWWV/z+n9yXppLMSkkACRAUD\nRIgBDZugCIIDoowyCKgwiOIyqDPG+TGyqrjggiMgiwqCogiasEoIO0wSOiEEQghpsnbWTnfS3en1\nLuf3R1Xdvn37rt137/N5nvv0raq3qr5dt+o9dc55F1FVDMMwDCNZSnItwDAMwygszHAYhmEYKWGG\nwzAMw0gJMxyGYRhGSpjhMAzDMFLCDIdhGIaREmY4DMMwjJQww2EYhmGkhBkOwzAMIyXKci0gE0yY\nMEFnzJiRaxmGYRgFxYoVK/ao6sRE5YrScMyYMYOGhoZcyzAMwygoRGRzMuUsVGUYhmGkhBkOwzAM\nIyXMcBiGYRgpUZQ5DsMwChefz0dTUxM9PT25llK0VFVVMW3aNMrLy4e0f8YMh4j8Djgb2K2qs911\n44C/ADOATcC/qupeERHgV8AngC7gC6q60t3nEuBq97A3quo9mdJsGEbuaWpqYvTo0cyYMQOnajDS\niarS0tJCU1MTM2fOHNIxMhmq+gNwRsS6BcASVZ0FLHGXAc4EZrmfy4HbIGRorgGOA+YB14hIfQY1\nG4aRY3p6ehg/frwZjQwhIowfP35YHl3GDIeqvgC0Rqw+B/A8hnuAc8PW36sOS4GxIjIF+DiwWFVb\nVXUvsJjBxsgwRjyNuzto2d+baxlpw4xGZhnu9c12cnyyqu4AcP9OctdPBbaGlWty18VaPwgRuVxE\nGkSkobm5Oe3CDSOf+ejPX+C0nz+faxnGCCFfWlVFM38aZ/3glap3qOpcVZ07cWLCjo+GUXTs6/Ll\nWkJR0NLSwpw5c5gzZw4HHHAAU6dODS339fUNKt/a2srtt9+e8Lh+v5+xY8cOWt/Y2MicOXMGrLv6\n6qv55S9/Gfd4y5Yt46qrrgLgmWeeYenSpQk1pItst6raJSJTVHWHG4ra7a5vAqaHlZsGbHfXnxKx\n/rks6DQMY4Qyfvx4Vq1aBcC1117LqFGj+M53vhOzvGc4rrjiimxJBOC4447juOOOAxzDMWHCBI4/\n/visnDvbHsci4BL3+yXAwrD1F4vD8UCbG8r6J3C6iNS7SfHT3XWGYRhZ5yc/+QmzZ89m9uzZ/PrX\nvwZgwYIFrFu3jjlz5rBgwQLa29s59dRTOeaYYzjqqKN49NFHh3XOE044gQULFjBv3jze+9738sor\nrwDw9NNPc+655/Luu+9y11138dOf/pQ5c+bwyiuv8MADDzB79myOPvpoPvKRjwz7/44kk81x/4zj\nLUwQkSac1lE3AX8VkUuBLcD5bvHHcZriNuI0x/0igKq2isgNwKtuuetVNTLhbhhGkXLdI2t4a3t7\nWo95xIF1XPPJ96e83/Lly7n//vtZvnw5gUCAefPmcfLJJ3PTTTfR2NgY8lJ8Ph8LFy5k9OjR7N69\nm/nz53P22WcPS7Oqsnz5chYtWsT111/Pk08+Gdp26KGHctlllzFhwgT+4z/+A4BLL72U5557jsmT\nJ7Nv375hnTsaGTMcqnpBjE2nRSmrwJUxjvM74HdplGYYhpEyL774Ip/+9KepqakB4Nxzz+Wll17i\n9NNPH1BOVfnud7/LSy+9RElJCVu3bmXPnj1R8xsQu4VT+PrzzjsPgGOPPZZNmzYl1Dp//nwuvvhi\nzj///NC+6cR6jhuGkbcMxTPIFM77bWLuvfde2traWLlyJWVlZUybNi1un4nx48ezd+/eAetaW1s5\n/PDDQ8uVlZUAlJaW4vf7E2q48847WbZsGY8++ihHH300q1evpr4+fV3g8qVVlWEYRl5z0kkn8fe/\n/53u7m7279/PwoULOfHEExk9ejQdHR2hcm1tbUyaNImysjIWL17Mtm3b4h537Nix1NfX8/zzTnPq\nlpYWnnrqKebPn5+0tkgNGzZs4Pjjj+eGG26gvr4+oYZUMY/DMAwjCebNm8cFF1zABz/4QQC+8pWv\ncOSRRwIwd+5cjjzySM466yy+9a1v8clPfpK5c+dyzDHHMGvWrITHvu+++7jyyitpa2sD4MYbbySV\nyejOOecczj//fB5++GF+85vfcNNNN7Fx40ZUldNPP53Zs2en/g/HQZJ1vwqJuXPnqk3kZIwkZix4\nDIBNN52VYyXDZ+3atQPCNEZmiHadRWSFqs5NtK+FqgzDMIyUMMNhGIZhpIQZDsMw8o5iDKHnE8O9\nvmY4DMPIK6qqqmhpaTHjkSG8+TiqqqqGfAxrVWUYRl4xbdo0mpqaKNRRrv2BIL6AUl1RmmspMfFm\nABwqZjgMw8grysvLhzwzXT5wyPceI6jF0cItFhaqMgzDSCPBERBhM8NhGIZhpIQZDsMwDCMlzHAY\nhmEYKWGGwzAMw0gJMxyGYRhGSpjhMIwCxzrKGdnGDIdhFDgjofmnkV+Y4TCMAsc8DiPbmOEwjALH\nzIaRbcxwGEaBYw6HkW3McBhGgaPmcxhZxgyHYRQ45nEY2cYMh2EUOGY4jGxjhsMwChwLVRnZxgyH\nYRQ45nEY2SYnhkNErhKRNSLypoj8WUSqRGSmiCwTkfUi8hcRqXDLVrrLje72GbnQbBj5itkNI9tk\n3XCIyFTgG8BcVZ0NlAKfA34M/EJVZwF7gUvdXS4F9qrqYcAv3HKGYbgEzeUwskyuQlVlQLWIlAE1\nwA7gVOBv7vZ7gHPd7+e4y7jbTxMRyaJWw8hrzG4Y2SbrhkNVtwE/A7bgGIw2YAWwT1X9brEmYKr7\nfSqw1d3X75Yfn03NhpHXmOEwskwuQlX1OF7ETOBAoBY4M0pR73GI5l0MelRE5HIRaRCRhubm5nTJ\nNYy8x1pVGdkmF6GqjwIbVbVZVX3Aw8CHgbFu6ApgGrDd/d4ETAdwt48BWiMPqqp3qOpcVZ07ceLE\nTP8PhpE3WKjKyDa5MBxbgONFpMbNVZwGvAU8C3zGLXMJsND9vshdxt3+jNpwoIYRwpLjRrbJRY5j\nGU6SeyXwhqvhDuC7wLdEpBEnh3G3u8vdwHh3/beABdnWbBj5jJkNI9uUJS6SflT1GuCaiNUbgHlR\nyvYA52dDl2EUIuZwGNnGeo4bRoFjyXEj25jhMIxCx+yGkWXMcBhGgWNzjhvZxgyHYRQ4Fqoyso0Z\nDsMocCw5bmQbMxyGUeCY3TCyjRkOwyhwgpbkMLKMGQ7DMAwjJcxwGEaBYzkOI9uY4TCMAsdaVRnZ\nxgyHYRQ45nEY2cYMh2EUODY6rpFtzHAYRoFjZsPINmY4DKPAMYcjPynmaYPMcBhGwVO8FZSRn5jh\nMIwCp4hfbI08xQyHYRQ41nE8Pylmg26GwzAKHOvHYWQbMxyGUeB4b7YiudVhjBzMcBhGgRMyHLmV\nYURQzH6gGQ7DKHC8UJWYy2FkCTMchlHgmMdhZBszHIZR4FiOIz+xDoCGYeQt1qrKyDZmOAyjwOkP\nVZnLYWQHMxyGUeB4/oaFqvKLYvYDzXAYRoHjDatuhsPIFjkxHCIyVkT+JiJvi8haEfmQiIwTkcUi\nst79W++WFRG5RUQaRWS1iByTC82Gka8UcQ7WyFNy5XH8CnhSVd8HHA2sBRYAS1R1FrDEXQY4E5jl\nfi4Hbsu+XMPIZ1yPw3IceUUxG/SsGw4RqQNOAu4GUNU+Vd0HnAPc4xa7BzjX/X4OcK86LAXGisiU\nLMs2jLzFmuMa2SYXHschQDPwexF5TUTuEpFaYLKq7gBw/05yy08Ftobt3+SuMwyDsOR4TlUYI4mE\nhkNESkTkzTSesww4BrhNVT8AdNIflooqIcq6QU6giFwuIg0i0tDc3JwepYZRAASDNuRIPlLM/WsS\nGg5VDQKvi8hBaTpnE9Ckqsvc5b/hGJJdXgjK/bs7rPz0sP2nAduj6LxDVeeq6tyJEyemSaph5D/m\ncRjZJtlQ1RRgjYgsEZFF3mcoJ1TVncBWEXmvu+o04C1gEXCJu+4SYKH7fRFwsdu66nigzQtpGYZR\n3ElYIz8pS7LcdWk+79eB+0WkAtgAfBHHiP1VRC4FtgDnu2UfBz4BNAJdblnDMFxCIRFzOfKKYjbo\nSRkOVX1eRA4GZqnq0yJSA5QO9aSqugqYG2XTaVHKKnDlUM9lGEWPW0GVWI7DyBJJhapE5N9xchG/\ndVdNBf6RKVGGYSRP0JrjGlkm2RzHlcB8oB1AVdfT31zWMIwcUsytd4z8JFnD0auqfd6CiJRR3GN4\nGUbBYBM5GdkmWcPxvIj8N1AtIh8DHgQeyZwswzCSpX90XDMdRnZI1nAswOnt/QbwZZyWTldnSpRh\nGMnjzTRnZiO/sFZVqkERuQdYhvOCs06LeV5EwyggbKwqI9skZThE5CzgduBdnBebmSLyZVV9IpPi\nDMNIjFrfcSPLJNsB8GbgI6raCCAihwKPAWY4DCPHmMeRnxRza7dkcxy7PaPhsoH+saQMw8ghFjQ2\nsk1cj0NEznO/rhGRx4G/4uQ4zgdezbA2wzCSwLMbJeZxGFkiUajqk2HfdwEnu9+bgfqMKDIMIyVC\nc45bjiOvKGZPMK7hUFUbUNAw8pxirqCM/CTZVlUzcUa0nRG+j6r+S2ZkGYaRPN5ETjmWYYwYkm1V\n9Q+cOcIfAYKZk2MYRqrYkCP5STE7gskajh5VvSWjSgzDGBI25IiRbZI1HL8SkWuAp4Beb6WqrsyI\nKsMwkiZoSQ4jyyRrOI4ELgJOpT9Upe6yYRg5xDoA5ifFPCpTsobjU8Ah4UOrG4aRH/SHqnIqI++4\n+al1TBlTzb8dd1CupRQdyRqO14GxWG9xw8g7ivnNdjj8+hlnsAszHOknWcMxGXhbRF5lYI7DmuMa\nRp5gc47nF5HmvK3LR2NzB8cePC4netJJsobjmoyqMAxjyARtPo6C4OLfL+f1rfto/MGZlJUmO0xg\nfpLsfBzPZ1qIYRhDwyJVhcFb29sACObp7/X7lzcmXTYpsyciHSLS7n56RCQgIu1DVmgULI+u3s7m\nls5cyzDC6G9VZT5HPhFp0L2xxPK1+fR1j7yVdNlkPY7R4csici4wLzVZRjHwtT+9Rm1FKWuuPyPX\nUgwXm8apMPDsep7ajZQYUqBNVf+B9eEYsXT2BXItwQhDbcyRgsBrvFAMEzwlO8jheWGLJcBcinso\nFsMoGMxu5CkRNaQ3X0q+5jhSIdlWVeHzcviBTcA5aVdjGEbKaGh0XDMd+YznceRrjiMVks1xpH1e\nDhEpBRqAbap6tjt0+wPAOGAlcJGq9olIJXAvcCzQAnxWVTelW49hFCrmcRQGoRxHEYwvnmjq2O/H\n2ayqesMwzv1NYC1Q5y7/GPiFqj4gIrcDlwK3uX/3quphIvI5t9xnh3FewygqCv/9tTiJzGWUlBSP\nx5EoOd4Z5QNOZf7doZ5URKYBZwF3ucuCk2z/m1vkHuBc9/s57jLu9tPEfHLDCOHVQ9ZzPL8ZMaEq\nVb3Z+y4io3G8hC/ihJRujrVfEvwS+C/Aa+Y7Htinqn53uQmY6n6fCmx19fhFpM0tvyf8gCJyOXA5\nwEEH2dg0xsgh1HPc7EZe4/08xZAcT9gcV0TGiciNwGocQ3OMqn5XVYc04KGInA3sVtUV4aujFI3X\nPH3QpVfVO1R1rqrOnThx4lCkGcOgs9fPjAWP8dCKplxLGXEUQT1UlAzqAOg1xy0CjyOu4RCRnwKv\nAh3Akap6raruHeY55wP/IiKbcDyXU3E8kLEi4nlA04Dt7vcmYLqrpwwYA7QOU4ORZrbv6wbg1uca\nc6yk+FizvY1rF62JXeEUQUU0EvCa4xbDr5XI4/g2cCBwNbA9bNiRjqEOOaKq31PVaao6A/gc8Iyq\nXgg8C3zGLXYJsND9vshdxt3+jBaDyS4ybPrSzHHhXcv4wyubmPm9x1m5ZfB720i49s+8vYtt7stJ\noVJMOY64hkNVS1S1WlVHq2pd2Ge0qtbF23cIfBf4log04uQw7nbX3w2Md9d/C1iQ5vMaSRLPXluT\n0MwRCAuKP7xycChwJFz7L/2hgTN++UKuZaRE5NMyEjsAZgRVfQ54zv2+gSjjX6lqD3B+VoUZQ6aI\nX3pzRiBBTTNSkuMdPf7EhfIYzyMMFoHlKOxB4Y2sEs/DLobxd/IVf4KKxuYcLwxK3Nq2CCJVZjiM\n5Il3v/eHS6z2SjeJPI7+5od27fOJyNDuiMlxGEaq2Ftv+kloOIqgIhoJ9PfjKPzfywyHkTTJJMeN\n3FFiRjuv6fc4ciwkDZjhMJImbqjKRmjNGUFLcuQlkc9L/89T+JbDDIeRFszjyB127QsD8ziMEUky\nFZS982Yfmzq2MLDkuDEiidfk1qIlucOufX4yeKwq52+wCObjMMNhpBWrvLJPKL+UYx1GfMzjMEYk\nyXQAtL4E2aff47Brn89YB0DDiMDra2B1V/bxmknbpc9vvJcq8zgMw6UYWooUKpbjyE8GTR0bGuSw\n8B8WMxxG0sQNVdlbb84o/GpoZBCayCnHOtKBGQ4jaeK1qgoNi2GvvVnHchyFQWgiJ/M4jJFEvPs9\nZDeyI8UII2jeXn4S8bxYB0DDiKAY3qIKFbvyhUGJzcdhRHL/ss3MWPAYuzt6ci0lY8S73QMjZDKh\nvMSMdkEQ6gBYBD+XGY408fgbOwB4Z+f+HCvJHPG8CgtV5Q6N+GvkB4OnjnWT40Vg6M1wGGmhf/pS\nMx3ZpgjqoRGB1wHQPA5jRBHvfvfitmY2sk8x9AsYCVgHQGNEklSrKrMcWafwq6HiJNYgh8Xwe5nh\nMNJCMbxFFSpqSY6CwAY5NEYmSfUcN5cj28TrmAnQ6w+w4KHVNHf0ZkmREQ3rAGiMSOL3HHe/mN3I\nPgnqoSff3MkDr27lhkffyo4eA3AMdriR6O/HkStF6cMMhxGVvZ19dPT4ki5vvZdzh3ftE3kexRAi\nKSRO/ulz3PHChtCyWKjKKHauuG8F1y4a+IYaPzle+A9DoZLo0hfT4HqFxqLXt4e+l1gHwKEjItNF\n5FkRWSsia0Tkm+76cSKyWETWu3/r3fUiIreISKOIrBaRY7KteSTS3NE7qBd83Oa41nM8ZySqh0I/\nSYFUWD9/ah3v+58nci0jLVSU9Vex1gFwePiBb6vq4cDxwJUicgSwAFiiqrOAJe4ywJnALPdzOXBb\n9iWPPHr9QXp8gaTLe3FbS45nH68eilUfhSqsArEctzzTSI+vCBIBQHlpfxVrQ44MA1Xdoaor3e8d\nwFpgKnAOcI9b7B7gXPf7OcC96rAUGCsiU7Ise8TR4wsMenjjDzliHkeuSGQQQhVWmuviZ9ft5jO3\nvVIUg/ZlispoHkeBGPB4lOXy5CIyA/gAsAyYrKo7wDEuIjLJLTYV2Bq2W5O7bkf2lI48onkcIylU\ndcUfV9DjD/CHL87LtZSEJMxxeOXSXGF9/U+vsb/Xz/4+P3VV5Wk9drFQYR5HehGRUcBDwH+oanu8\nolHWDbr0InK5iDSISENzc3O6ZI5Yev0BulMJVRXBwxDOk2t28ty6wriPEsXMQz2W0/wbeee98v6V\nrNyyN70HLxLCQ1W5znH4A0GuWfgmO9uGP4J3TgyHiJTjGI37VfVhd/UuLwTl/t3trm8CpoftPg3Y\nTgSqeoeqzlXVuRMnTsyc+BFAIKj4AholVBV7n6B1AMwZiTqOZ6pVlfey8OL6PZx36ytpPnpxUD4g\nVOX8zVULxJffbeGe/9vMgodXD/tYuWhVJcDdwFpV/XnYpkXAJe73S4CFYesvdltXHQ+0eSEtIzP0\n+h1PY3CoKk6OI1hcoap8IZm306RDVWmusIohVp9pKqJ4HLnqAOjdB/7A8H+3XHgc84GLgFNFZJX7\n+QRwE/AxEVkPfMxdBngc2AA0AncCX82B5rgEg8rLjS25lpE2el1PY1CrqiQGOTQcdrb1cMpPn6Vp\nb9ewjhNI4sImTo57IZJhSRl83iz95oWcfK8o63+TynUHwFLX5UnmnkpE1pPjqvoSsTsYnxalvAJX\nZlTUMHloZVOuJaSVXr9jOPxBxRcIDojTxsI6AA7koZVNbGrp4r6lW1hw5vuGfBx/Eg+5VySWR9Gf\nHE8v2frJe/zJ59ryjYEeh/M3V49KOgdZtJ7jacCraPOJQFDZ19U3pH17wx7UcK8jfqsq569N5OTg\nNcPsG+a9kZTHkaCIN4FQoYaquvsK2HCURWtVlRvLkU7DZYajSLnh0beYc/3iIT104Unx8O9xk+Mp\nTOSkqlz8u+U8/05+tlo66SfPDvsYXoXRFxhepZeMx5HIl+ifQGhYUgaR6QiSZ+hSad2Xb0RtVZUj\nLSVeqMo8DiMWT63ZCcCe/b3s2d87wItIRCyPIx6p9OPo8QV54Z1mvvzHhqQ1ZZMtrcPLS0B/iCKb\nHkfMkhmaQCjTzUq9wxdyL/KBPcdzm+PwDNeKzcNvOm2Go0ipq3Y6ZLV1+5h749Ncdk/ylXR46G1g\nqCpez3HnbzIeh/fglBRxWMurMHzDbMHiT6IJTq5aVWXc43D/evdgeNinUPAS0pD7QQ5L0vi4Fd4v\nYSTFGNdwtHc7Q6O/uH5P0vv2DiVUFfI4Et+dI8FwVKQpx5FM081Eb7CFep0jQ1VVBWg4wn+aXHcA\nTOdZC++XMJLCMxx7u5KfU8Mj3MtItkVLKk0mR8L85J7hGG7DiaQ8jgTbc52UHSrefeLl6arKS3Oo\nZmiEe+khjyNHLkc6z2uGo0jpNxypt6wKr+zCk+tJtaqKsb27L8DCVduc44wkjyOQxRxHjKJecrzA\n7Eao0g15HIVoOMKueanbvC1Rg4fG3R38esn6vA4tmuEoUrwcx1Ca5MZsjhvnRk7UUuP6R9fwzQdW\n0bCpNXQDpzPmmm9UhpLjmW9VlezouAVnOELJcc9wFF51Ff7M1FY6hm9/rz/uPg82NHHz4ndo6Uz9\n2X38jR2s2rov6rZ0epyF90sYSVHm1sqtnamHqgZ4HEm2qvIekFi3ZtPebsB5aPI1x3HR3cs49obF\naTmWlxQdbnI8qV6+iZLjoVZVhWU5BhuOAvQ4wr6XuR7H/p74hsNr1bd9X3fK5/v+wjX84eWNUbfF\nMhyBoNLWnVo9YYajSPFuktbO3pT3DfcyelNMjifzVpNKIj2bvLh+z5De8uIx3OR4MuMKBRMY7Uz1\n48g0oVCVl+Moi204drR1c0sGwjvDJZqcRB6HZzi27U3NcPgCQVo6e2O+rMRKl93+/Lscfd1TKZ3L\nDEeR4oXWh9J5akBz3CRDLd75EvZiFgmVKeZQlUdW+nEk2B6yz/lVp0alcff+0PdQctx9eamME6pa\nuGo7P1/8DtuG8JaeSaJ5eR1xDIeqsqXFNRwp/i/NHb2oxs6rxXqpW7sj3qwW0cnpRE5GZvj3extY\nusEZdHEob5nhXkayPc81gcfhrRbJz+a4mXpTHW5yPK39OArAcnznwddD3yOb41bG8Tg2u5VtW7eP\nafUZFJgi0Z6/eKGqfV2+kGFJ1XDsanfm2fCnaDim1dekdB4ww1GULH5rV+j7UCrEHn+AEnFu+lT7\nccQivNLKx+T4UJotJ0O6PY5oxjZUIsZv4A01kWdRnKi09/T/DpEdAOOx1Q3vtHfHDwNlm1RDVeGj\nFqQaqtrV7oSlY4aqIsTsaOvmQz96hg/OSN3SWqgqDbTsT29cPJ0M1eOoqSijvFQGhKrivbF6LzmJ\nPI4SkbC5O/LHcuxoy0yIY/geRxKGI9EMgO7fQujHMSCn5oVbQ15vbP1ehZtqkjfTRHtm4nkcm93/\n48AxVUP2OHyxPI6I1c+87cyV9+qm1IcgMcORBn7x9Du5lhAishLpDwslf4xef4DKshKqykuTDlWF\nkuMx6slQqCrse0ke3X3pmE4zGsPvOT7w9yyN8kMmDFVlaKyqTNAb5UXF8zhi/Z/+QDBUyYZ7LPlA\nqh6H5zkdf8j49BuOMDG+QJB9w/Cy8+jRNdJBZGgjGPamnyy9/iBV5aVUlZcOfJDj1Dz9zXFjeBx4\nOZD8zHHsbM9PwxHpcSzbOHjCsMS5i8IJVUULjXo5jljyd7T1hO779nzzOKJc9I44xm1LSxcTR1dy\n6KRR7Ovy0ZmgBVY4XqgqVt+fcMPR4wsMyzszw1FkRN40Q+ml3ePzPI6SgQ9ynH2808YKjXn3bEA1\nLw1HpsKN6e45/ua2wS1gEo2OW1KgHod3nyTKcXiJceg3HCs2t2ZAXerE8jhihRc3t3Zy0LgaptVX\nA6n15ej3OGIZjv7vPb7gkOfrATMcRUdkRZXKcOcevf4gFWUlVEeEqpLqOR7LcHh6gprzsapaO/v4\nv3cHvrnHaokyXIY7TWdSPccThqpyO7hesgSCOqDS876FPI4Y+sMTym0hwzH8ocOT5cK7lvL316LP\nAhrt5wtq7DHMtrZ2c/C4GqaOdQxH05AMR+JQVY8vYKEqox9fxA3p5RyGGqpKth9Houa4Xi3gD2rO\nx6q68K5lXHDn0gH5g+QmTEqerjRNPhRIapDD5JLjeW43Bs0ZEwpV9cUPVW1p7aKitISpY6tpT9Ar\nOxO83NjCVX95Peq2WL9NRxSdvf4A29u6mT6uhgPHpu5x7EzQHDf8JabbF2CfhapGDufd+jK/jzGk\nAAx2U4eUHPdFT47HDVUF45fxHqBAMJjz5rjrd3U4WsJq0uF6BpF840+vpVQ+GNSo+ZDU5hyPvr1Q\nhhzpjZiwqb8fR9Bdjr7f1tYuptVXU19bnn+tqmJojpYg37a3G1U4aFwNk+uqKCsRtu3t5u2d7Qnv\nz64+f8gYxQpVhXsYPb4Ae4cxSkLRG463d7Zz6s3PsbmlMyPHT2VmvVj0+ALs2Z/c0CArt+zjukfe\nirk90k0NbwabtB5/kMqQx5FcP45AAo8jlOMI5j457rVM+uHja/n0ba8A0SvoUZVD7+YUr3dwNG5/\n4V0+9ovnB61Py5zjUhjJ8UjvNrIfRyz5m1s7mT6uhrqqctq7fezt7OOHj7+dOaEpECu89nRYXysP\nL+R28PgaSkuEA8ZU8czbuznjly/ym2cb455nt5sYrywrob3HR2sUoxAe0uvuS77OiUbRG46bn3qH\nDc2dvJCh+a3T8YZz2T0NzL0juphjAAActklEQVTx6TSoGWw4hpTj8DyOshJ6U5w6NtpzsrW1iwY3\n5uwPBkMeU7LT0qYbbwDI37+8KRQLj1ZBl5dmz7Ct3trG5pYu2iLizsmMVZVs2jvfx6qK9DiSTY5v\naenioHE1jKl2PI7bn383YxpTJdYl/8Hjawet8yr2g8Y5Pbmnjq3m7Z2Od7y6qS3uebww1dT6ajp6\n/BwTZbDO8EYE3b7AsDq9FrXheHNbW6gX9WsxhhoeLulo/vdSY/Kz8yUiZqgqhbhQn5vjqK4ojRjr\nKnbN0z8nxOAy335wYPz3rw1OIjFanDcblJUOvu0DQR0UOstmRetVGlv3DpzvPLU5x6OX7R9WPb8t\nR2TCeFBz3Cj627p8tPf4Ocj1ONq6fQPm+c42kRpTueRbWrqoLCth4uhKgFCCHKCmIv7IwF5iPN7w\nIV5ID4b/0lbUhuNXS9ZTV1XGcTPH8XqGDMcV961M27HS8WAP9jicv6kmxx2PozRiPo7Y+3gVXLQi\nsSq/dI9EmyxlUYyoP6iMq60csC6bFa1nMJoiDEdy83HER5KaCT45Gnd3MGPBYwOGtUkXkZVZqFVV\nnE6oobf08TWMqSmnvSe3hiNyUNFUeutvaXU8J68V3NT6fsPhzeURCy9UNS1sn3BUlS2tXbxn8mhg\nYH+ZoVC0hsPzNr50wkxOnDWBd5s7M5I4Cx/NMx5v72xnxoLHmLHgMX6xOHpP80SVxIbmxOcanONI\nPTkeqx9HPOINqx4v5NO4uyN5YWmiLIqeQDA4SGe27EZbly/kfW1tHdiKJtEEWZC4ckrnRE6rtjoh\nkyfe3DH8g0UQ6XEEg0owqKH10fSHh3fqqsro8QVzOrRKZ2904weJf8strV0cPL7fYwj3OCpcY9jW\n7eNvK5oGPec723uoqSilNswz6XT7i/T4AjTv76XbFwgZjlRzcJEUreG4Zcl6RleV8cX5Mzl6+lgA\nVjcNz+vw3raSNRbhLF7T/4b2qyXro5aJ1f7a49bnEsduI0NVq7c5D/qeFDq4OR5HKVURoap4t328\n6UvjvQFG69CWacqijHXiD+qg4TxSrX5+/tQ6PnXryynrCU9aRnocgST6lyQ75MhwK9Qn3tgxoH9E\nXVXsxgPdfQF2d6TWGz9a+CTRWGmbW51GL9PdHEes44TzYMPWIT3D4QSDGhoeJJzInt7hl7yjxxea\nUjgSzyOYPi7McETxHn742Fq+8+DrfOPPrw2oL3a19zC5rirUexzgiTd38utnGnnf/zzJ2zucF7T3\nHeAYjt3DHCmhKA1Hty/AU2/t4tITZjKmupyjpjmGY7jhqife2AnAP17bNiRNHpEVlBc68fnjP9jJ\nTJ0Zq1WV8z25iqPXH6Cq3AlV9fmDof4OyYSqojlNlWEPS2SS75pFa5LSlAxLN7Rw2T0NccvsbOsZ\nNAaQqvNmW1YiHFBXFVqfakV7yzONvLZl8D2W6Lp7YaqKshK2RoyImkqoKpHc4b6Hf+X+lfx5+ZbQ\n8knvmRiz7Lm/eZl5P1iS0vGj5TgSjZW2tbWL8bUVjKosC02X3BVnH1XlP/+2mnP+96WUtEVyxX0r\nOPEnzw7SF9nMNvy3b+vyMWn0wHCoR0tnH119gVBiHAj15QDnxW/9rg4eXLGVI6bU8cSbO/nan1aG\nmnDvbu9lcl3lgME6H2zYyrPrnIEM/7HKqbM8j2PHMMdmKxjDISJniMg6EWkUkQXxyu5u7w15GwBj\nqss5ZGJtzLl4k6XadQM7+1J388JDPtURU2B6hiTR8BSR+0WybEMLv34mujcD/dO3xsPrvVtZVhr6\nf2P1cg2nv1XV4OopPL9y90sD+6CkM3z4uTuW8vTa+LH3L/9xsGHxBRR/UCkpEaaP639YY1XEa7a3\n8aEfLRkQZovbqz5B5e+9uR57UP2gt9jkkuPJmYS05mw0vqFatyv1EGRk0/agatzm4KrKu82dobd0\nz3DEm7zMu5c7kxy8Mxp9/iBPuTmetTsHesyRRitc896uPsbWlEc9ptfiKVao6oX1zfzw8bXUVpRx\n32XH8f2zj+Cfa3ZxpWs8droex+gq5/gXzJvOso2tIUP18MptiMChk2oRGf6gngVhOESkFPgNcCZw\nBHCBiBwRq3x7j48vzZ8Zcl0BPjC9nobNewe4sX9/rYkZCx6jJcn2zLVuu/4uN475zQcGd/KK1bIl\n/GaO9By8m3n5xvjj6yQyHJ+9YylLN8Q+RkMS4/d4D29ludMcF8IHmYtdU8TrhJZoFsLhdETyiFbB\n7mzr4aSfPDugh/jrUZo1+oNBAq7HER4qiOZxqCo/fHwtO9p6WLujv3KMZ5QTvRBsae1ibE05h0+p\no2lv94AK/kdPDO6PkKjvUEePL2oHs3hmY8/+Xj728+d54o3kcxfp7lAYmU9TiBjypn9b4+4Ozrvt\nFZZvbA2FdOrcSjNyOJlwvOuSqJVSPB4Pu0bPukOTewwKVbnXaOGqbTy7rjmkEWDllr0hj2FrRFNc\ncOZYX3Dm+/jqKYfS0ePn2XXNXHHKoYyrreBLJ8zk2k8eweK3dvHV+1eEQlU//cxR3HrhMXz91FmI\nDJybZ3RlmROCLisd9jQChTKR0zygUVU3AIjIA8A5QMyecBfMO2jA8nnHTOWhlU1cfPdyptZXs3xj\nayhkMe+HSzj1fZP41Aemxm1/8oabL/hLw1ZOfM8EFq7aPqjM71/eRHu3f0Ayen+vf4CLv2d/H3e+\nsIEpY6u4NixUc/vz79LR46PbF0AVJtVV8vaODg6fUscb29p47I3+83kPuD+o/OjxtWxP4g3iqr+8\nzqot+5hWX8OkuspQwi0c702svNTpOQ7w5Js7qa8pHxDiCa9g+gLB0I2/blcHj7y+fUDLpUTDQ9+8\neB3zD53AjrYe6mudB2v7vh5qK0oZU1Memmv6lXdbqKks5X0HjGZ/j5/2Hj/tPU5i+bHV/Xpufa6R\n0ZVl/OLp9bR29vGff1vNRw+fFLOae+KNnWzf101pSQnTw5ozBoLKE2/soKWzj4dXNnHm7Cms29XB\ny41OxXTjY2+xZ38vtZVlvLOz34hc98jA8NvCVdupKi9hV3sv0+tr6AsEWL6xlTnTx1JXVc6L6/cw\nvb6G6eOq6fYFeGjlNmorSmM2B7520VucNGtCaLm5w3nxaev2cc8rm7hm0Romja7k6rOP4IV3mkOh\nwg3NnTENw6aWLtbv3s9X7l/JTecdGXrp8ged2HttRSnlpRLKoa3fvX9QyHXR69spL5EBHmqyhuiN\nbW08unpg2YvuXsbMCbWh5ZbOXp54Ywdv7+zgtufeDRnkHveenTCqAhh8v9381Dqm19cwuqqMPe5L\nSldfgP988HWOP2R80kZEcYYAebChf1yqXz/T3zHvJ0++PShUvKW1iyfe2ME3H1jl/J9hLy7n3foK\nVeUlfGB6fejFJ7I57RUnH0pHj487X9zgGAw3igLwhfkzKSkRvr/Qud8m11UxflQlnzhyCgAnHDaB\nF9f3N/X3nu3qilK27xuexyH53rYbQEQ+A5yhqpe5yxcBx6nq16KVr5wyS3c2rqG+tiK0TlX54A+W\nDKu3ZCHjzeiXLDeffzTjaiv44h9eTauOn3zmKP7rb6vTdryK0hLqqstSSv7HYv5h4/n26e/lvFtf\niVvu0Im1bGntijm0w1D4wodncPr7J/Nvdy5L2zGzQW1F6bDCPpFUlJVEHXrlgLqqAUPfn3XkFL50\nwkw+fdsr3HjubD5//MGoKjO/9/igfUtLJO1Dynz55EN44o2dAxo2RBJuaD0+c+w0fnb+0TR39NKw\nqZXlm1pZvrGVtTvamTmhliXfPiXqse5ftpmZ42v58GETBm27b+lmrv7Hm/z+ix/kI++dFFr/5Js7\nuOK+ldRUlHLNJ49gcl0Vp7x3EhfetZSXG1uoLCuh4eqP8mBDE32BIDc98Tabf3z2ClWdm+j/LxTD\ncT7w8QjDMU9Vvx5W5nLgcoADpx987OaNGwZ19Nrf6+edXR1UlZUyuqqMyvIS1u3sYOLoSgRJyvXu\n7gswc0ItO9t7EISgKpPrqli+sYW5M8YRDCqtEcMVC0JNRWnIaFVXlFJfU8Herj7qqsqdkSq7fdRU\nlFJd7rxplogT4vH5lfIyobsvQE1FGXv291JZVsKosBYtdVXldPT4UZQdbT0cUFdFZ6+fWZNH07K/\nlxIRJtdVsWrrPqaOrWZMTTnNHT0xE69lJSUcOtF509vU0jVoTo7ILiFlJcKkuiqqykp5t3l/1F7q\nU8ZU0+sLMMnVVl5aQmtnH7WVpaE3xLqqcvb3+gmqMqWuGn8wSFu3L/RmWVFawqS6Kna29VBXXUZd\nVXnIK/IFgnT1BhhdVUaPP0Bnb4CuPj/t3X7Ky/oFVZSWMGN8LWu2tzOmuhxfMBh6S5xeX0NtZRlt\nXT5GVZXxbvP+ULiqtqKMrr4AFWUlHFBXRY8vQHVFKV19ATp7/QSCygFjqmjp7CMQUEScmHt7t4/O\nPj9lJSWMq60ItTSqLu9vsVYqwiETR1EiTqw7vCXR7vZeZk6oZWxNOW9ua+f9U+vY1dYzqGmnV7GW\ninDQ+Bo27elCUWoryujs89PdFwjlrGJRXV7K5LoqNkUMzzOlrpqgKvu6fYytLnfuffeSTquvoavP\nDwr7un2h61VeWoI/oEmHs7xOpxNHVVJdUcrOth4OHl+DL6Ch58RrQVVVVsoM1xPZ19XHmOryUN+H\n/b1+NjTvZ/yoSja3dDJzQi0TRlWyY18PXT4njNTdF6CqvJQJoyrZ29WXUiOI2ooyRJz8Q18gyJaW\nLrp9ASaMqsQXCNLtC1BdXkpNRRkVZSUDQkLjaiqor62I2srQm4AqPJSVCq2dfdTXlA+YVVNV2bin\nk7rqciaMqhywfm+X81uFr+/q81NbWV5UhuNDwLWq+nF3+XsAqvqjaOXnzp2rDQ3xW9cYhmEYAxGR\npAxHQSTHgVeBWSIyU0QqgM8Bi3KsyTAMY0RSEMlxVfWLyNeAfwKlwO9UNX0dAAzDMIykKQjDAaCq\njwODM1+GYRhGVimUUJVhGIaRJ5jhMAzDMFLCDIdhGIaREgXRHDdVRKQZ2ByxegKQvhmT0ks+astH\nTR75qs10pYbpSo1s6DpYVWOPXulSlIYjGiLSkEz75FyQj9ryUZNHvmozXalhulIjn3RZqMowDMNI\nCTMchmEYRkqMJMNxR64FxCEfteWjJo981Wa6UsN0pUbe6BoxOQ7DMAwjPYwkj8MwDMNIA0VlOESi\nDeide0xXauSrLshfbaYrNUzX8Cgqw2GkTGissjy7YfP5vrRrlhp2vYqQorh4InKGiCwEbhCRvGjn\nDCAin3SnuV0gIgfnWo+He73+CfxMRD4FoHmQ7BKRs0TkUZzfcX6u9YRj1yw17HqlRr7WYbEoWMMh\nDlUi8gfgauBuYBRwqYgMnl8xy4jIR4H/Af6A89b1dRE5y92W9evuXq8KEfmZq+s3wDrgfBGZlW09\nkYjIscA1wK3AauASEfmCuy0n96lds5T12PVKTU9e12HxKFjDoQ49wELgZFVdBDyM01IsH4YL+Cjw\nqKo+CfwWGA18SURqVXXwpMoZxr1efcCT9F+vVwAfsDHbeqLwUeBFd/j8hcBOHGM7RlWDuQhz2DVL\nDbteqVEAdVhMCs5wiMg3ROQmEflXAFX9u6oG3OWHgPeKyA0ickIudeE8MB8WkSpV3Q304ExC9cUc\n6LpTRC4DUNWn3YmxPoFzk74H+KGIfNYtn5WHJ0zXv7urngXOFpF6Ve3GqWzagf9ydWctzGHXbMi6\n7Holryvv6rBUKBjD4bp1VwGfBRqA60TkCyIy2S2yGzgV+BiwA/iCiCQcrCtDui4B3nZ1/FVEngXq\ncN4s6rLlFrtu+L/h3IwXich/i8hh7uY9wBmq+iHgORxvaEY2Hp4IXZ8Xkf8HbAKeAv4oIi8ChwA3\nAeNEpDbTmmJos2uWmi67XvE15WUdNhQKaQZAFZGPAFer6rMish/4OKDAPar6nFdWRFYDJwDdOdDV\nCZwOdAGXAUcBB6rqYyJyITAzi6Gq04Afq+qTIrIHOBu4ELhOVZeHlXsLaAb8OdJ1DnCxqn5dRA4C\n3quqi0XkZKBKVTuzpCuaNrtmqemy6xWDfK3DhkJBeBxhb+gNwIkAbu7gHeBwEXlPxC4fxwkNZfSi\nx9D1hKtrLnCoqr6mqo+55Y4FlmVSU4Su13AeZFS1AVgKTJHBrUm+ANQALTnS9TIwS0ROUNUtqrrY\nLXcW8G4mNSWhza5ZarrsejE4HJevddhQyUvDISJj3L+lAGFv6I3AaBE50l1+HhiDE/6pEJGLXEt9\nMLBAVQM51FXnfhCRT4jIclfXQ+nU5B7/APdvSYSul4ESETnJXX4TxwU+0C1/sYi8CcwEvuLGfXOl\nazswxS1/kog8D8wCbk+npjBt7xeRKm85j65ZKrqyds1EZL6IHJqkrmxer1R0ZfMeqw5fyJc6LF3k\njeEQkRIRqROnjfUtAN5F8ypqYDkQAD4mImWq+hYwFTjWbc2xFefmvNhNSOda1wfd7euBK1T106q6\nNx263PN/QESWADe4uoKe5rDzrgE+KyKlqtoEHIDzEIPTJPFyVb1EVXflka5NwFdV9VPpbl0iIkeJ\nyEvAjcD4sPW5vmbD1bWJDFwzETlGRJ4CnsGp4FLVlanrNVxdm8jM9TpeRB4CfiMip3t1hIh4aYGs\n12GZIG8Mh1u5dAAVwFTpb4FR5lXUqtoIvAocBixwd+3Fne1PVZ9T1ZfzSNcmd/t6VV2ZLk3i8Avg\nXpzY6L+HbSsJe7vpAF50tf9MRMqBetxZxFR1laq+koe6tqjqmnTpiuBq4G9uhbHN1Vaaq2uWRl1p\nvWYiUi4iv8UZkfUW4J/AKUPQle57LF260n6PicgpOH1EHsbpv/J5oN699/3uebNeh2WCvDEcLu/D\nSaD9CrhQREZ7F1yc5ml3Aytwbph5IrICaMVpKZGPuv6ZCTGqqjj9Ql5T1XtdHYeGV84icgPwJ6AN\n+D7OQ/Oiu3zPSNLlnrfEDWnsV9Vfuus+JiJjAXGXb8y2tnzVBVQCLwAnquqjOJXh4eEvTCJyneka\nwFHAq6p6P3AfUI7zu3r3/o05rMPSi6rm5AMcD7zH/e4N714O/B54P04l/XWcWN8JODfCYWH7jwLG\njkRd7nIdzlvN93HiuQ/jvOkfg9NuPlJXCTB6pOiKoW00TgjjbOAfOIb9XuB7wIwcXrO80+Xd+2Hb\nLgVu97bhVJJ/wmkAMuJ1uctzcIzANcAunCbIv8NpfvvhbNUV2fhk/4QwFngMx5W8GqgN2/Yh4Ffu\n98tx3vIfAUaF3wSmK7TtG8Aq4CScN7EfAz8CJo5UXUlo+29gJfAv7vJJOP1rPpTja5Z3utyKuMT9\nfphbGdZ720xXSFd4PTAPx1h82l2+FLgTODrTurL5yUWoqhbnjerr7veTwrZtwWlx8Bec3pwrgUZV\n3Q+D4uQjXpeq3gJ8RFVfUNVenLfVuTh9SEaqrrjagEdx3uLHucsNOENP9GRBW0HpUoegm3De5JY5\n2dtmukK6TvQ2qNN3ZSJuzgIneT8W2JsFXVkjWz2YLxaRk0WkTp3E3x3AX3EeiuNE5EC3aD3ORd8J\nfAC4Aqf7/eEwoEmb6XLRga20jsVpleEl7UeEriS1TXXPvRr4T+BKcQaS+zxwJG7/ghxcs3zV5TWn\nFffcXhNhz5CJ6YqqqxJnuKGvuruehvMy0JMJXbkiY1PHuj/gAThxvSBOJ5ta4JvqNn8Tp5PQvwIN\nqvpHd92EsO2jgApVbTVdA3S9qqr3uesqcUJpP8NpP/9tVX2n2HUNQVvot3TXfwtnyIlZwFXqNIs0\nXdF/y1J1xlL6I/Cuql6bLk1FpCu8rng/Tp7jAJzxsL6mqmvTqS3nZCL+BZS6f98D3Od+LwN+DTwc\nUfYqnLbrY+iPYZaSgThgEeqqdtd9GDh3pOgaprbRYevLTVdCXTWmK2ldY8Pu/WrgkHTrypdPui92\nGfBDnGToycAncdrze9sF5+3z5LB1o4Bf4nSM2YUzrpPpSqzr1ZGmq4h/S9NVHLq8e39qJu79fPqk\nLcchzmBhK3DyAY04vYZ9wEdEZB6EElfXA9eG7XoWTjzwdeBIVd2eLk1FrmvVSNKVJm35+luaruLQ\n5d3729KpKy9Jo6U+EbgobPlW4Cs4g5utcNeV4MT9/grMcNedA5yUKctouopDVz5rM12mK9P3fr59\n0nnRa3Da7HuxwQuBH7nfVwFfd7/PBf6ctX/QdBWFrnzWZrpM10j7pC1Upapdqtqr/aM5fgynoxw4\ns94dLs5AgX/G6QcRajqXSUxXcejKZ22my3SNNNI+kZM4o0EqMBlY5K7uwOkZOxvYqG4MUF3znQ1M\nV3Hoymdtpst0jRQy0QEwiDO20x7gKNdC/w8QVNWXNHeJI9NVHLryWZvpMl0jg0zEv3AG/woCLwGX\nZivuZrpGhq581ma6TNdI+GSk57iITAMuAn6uzlhFeYHpSo181QX5q810pYbpKkwyNuSIYRiGUZzk\n20ROhmEYRp5jhsMwDMNICTMchmEYRkqY4TAMwzBSwgyHYRiGkRJmOIyCR0QCIrJKRN4UkQdFpCbF\n/R8XkbFDOO8pIvLhGNsmi8ijIvK6iLwlIo+762eIyL8N4VxjReSrcbZ712CNe85viTO1arxjDkmL\nYZjhMIqBblWdo6qzgT6cqX1DiEPMe11VP6Gq+4Zw3lNwJquKxvXAYlU9WlWPABa462cAKVXW7hAY\nY+mfjjQa3jV4P84YS5/AmYUuHilrMQwww2EUHy8Ch7lv02tF5FacAemmi8gFIvKG65n82NtBRDaJ\nM883IvJ5EVnuvr3/1q20EZEzRGSl+za/RERm4Bioq9yyJ0bomAI0eQvqzCkOcBNworvPVa7OF91j\nr/Q8GNebeVZE/gS84e53qLvfT+NdAFXdDVwOfM01mlHPEUVLqYj8VEReFZHVIvLlVC++MULIddd1\n+9hnuB9gv/u3DFiIM4fCDJwhI453tx0IbAEmuuWewZ3WFtgETAAOBx7BnYoUZz6Gi919tgIz3fXj\n3L/XAt+JoenjwD7gWeD/4c5Wh+OlPBpWrgaocr/Pwpm72ivXGXbOGcCbia5BxLq9OAP1xTtHuJbL\ngavd75VAg3d++9gn/JP20XENIwdUi8gq9/uLwN04hmKzqi51138QeE5VmwFE5H7gJOAfYcc5DTgW\neNUdLbsa2I0zbtELqroRQFVbEwlS1X+KyCHAGcCZwGsiMjtK0XLgf0VkDhDAmePaY7l3ziHiDfkd\n7xzhnI4zqN9n3OUxOIZmOBqMIsQMh1EMdKvqnPAVbsXfGb4qieMIzvzS34s41r/gDLOdEq6B+RPw\nJ3eE1ZOAlohiV+HMU300Tui4J2xbJ0PENVoBHMN3TZxzDNgNZ7Kifw71vMbIwHIcxkhhGXCyiExw\n8xYXAM9HlFkCfEZEJgGIyDgRORj4P3ffmd56t3wHMDrayUTkVK91l4iMBg7FCZVF7jMG2KGqQZxB\n9Upj6I95rijnngjcDvyvqmqcc0Qe85/AV0Sk3D3Oe0SkNplzGiMLMxzGiEBVdwDfw8k5vA6sVNWF\nA4voW8DVwFMishpYDExxw1uXAw+LyOvAX9x9HgE+FSM5fizQ4B7n/4C7VPVVYDXgd5PsV+HkUS4R\nkaU4IaSoXoaqtgAvu4n9aMnxaq85LvA08BRwnbst1jkitdwFvAWsFJE3gd9iUQkjCjY6rjGicb2P\n3cABqurLtR7DKATM4zBGOmtwvAEzGoaRJOZxGIZhGClhHodhGIaREmY4DMMwjJQww2EYhmGkhBkO\nwzAMIyXMcBiGYRgpYYbDMAzDSIn/D40hnq2sxyoYAAAAAElFTkSuQmCC\n",
      "text/plain": [
       "<matplotlib.figure.Figure at 0x7fa4250e1a58>"
>>>>>>> c59c1ecab8eb076d93810ca6b4d80b07df454d2a
      ]
     },
     "metadata": {},
     "output_type": "display_data"
    }
   ],
   "source": [
    "ax = df_3c.plot(x='Project Start Date', y='Total Units')\n",
    "ax.set_ylabel(\"Number\");"
   ]
  },
  {
   "cell_type": "markdown",
   "metadata": {},
   "source": [
    "Figure 2: the total number of units, affordable and market rate, in each building from January 2014 to July 2018"
   ]
  },
  {
   "cell_type": "code",
<<<<<<< HEAD
   "execution_count": 29,
=======
   "execution_count": 37,
>>>>>>> c59c1ecab8eb076d93810ca6b4d80b07df454d2a
   "metadata": {},
   "outputs": [
    {
     "data": {
<<<<<<< HEAD
      "image/png": "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\n",
      "text/plain": [
       "<Figure size 432x288 with 1 Axes>"
=======
      "image/png": "iVBORw0KGgoAAAANSUhEUgAAAYgAAAEICAYAAABF82P+AAAABHNCSVQICAgIfAhkiAAAAAlwSFlz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\nMAzDMHwxA2EYhmH48v8Bui+/JKgKOA8AAAAASUVORK5CYII=\n",
      "text/plain": [
       "<matplotlib.figure.Figure at 0x7fa424934ac8>"
>>>>>>> c59c1ecab8eb076d93810ca6b4d80b07df454d2a
      ]
     },
     "metadata": {},
     "output_type": "display_data"
    }
   ],
   "source": [
    "#plot the other columns\n",
    "ax = df_3c.plot(x='Project Start Date', y='Extremely Low Income Units')\n",
    "ax.set_ylabel(\"Number\");"
   ]
  },
  {
   "cell_type": "markdown",
   "metadata": {},
   "source": [
    "Figure 3: Extremely Low Income Units with rents that are affordable to households earning 0 to 30% of the area median income (AMI) from January 2014 to July 2018"
   ]
<<<<<<< HEAD
  },
  {
   "cell_type": "code",
   "execution_count": null,
   "metadata": {},
   "outputs": [],
   "source": []
=======
>>>>>>> c59c1ecab8eb076d93810ca6b4d80b07df454d2a
  }
 ],
 "metadata": {
  "kernelspec": {
<<<<<<< HEAD
   "display_name": "Python 3",
   "language": "python",
   "name": "python3"
=======
   "display_name": "PUI2016_Python3",
   "language": "python",
   "name": "pui2016_python3"
>>>>>>> c59c1ecab8eb076d93810ca6b4d80b07df454d2a
  },
  "language_info": {
   "codemirror_mode": {
    "name": "ipython",
    "version": 3
   },
   "file_extension": ".py",
   "mimetype": "text/x-python",
   "name": "python",
   "nbconvert_exporter": "python",
   "pygments_lexer": "ipython3",
<<<<<<< HEAD
   "version": "3.6.6"
=======
   "version": "3.5.4"
>>>>>>> c59c1ecab8eb076d93810ca6b4d80b07df454d2a
  }
 },
 "nbformat": 4,
 "nbformat_minor": 2
}
